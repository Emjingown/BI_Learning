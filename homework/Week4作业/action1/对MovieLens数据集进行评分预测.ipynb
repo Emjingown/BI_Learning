{
 "cells": [
  {
   "cell_type": "code",
   "execution_count": 12,
   "metadata": {
    "execution": {
     "iopub.execute_input": "2020-11-28T15:38:23.422149Z",
     "iopub.status.busy": "2020-11-28T15:38:23.421152Z",
     "iopub.status.idle": "2020-11-28T15:38:23.435117Z",
     "shell.execute_reply": "2020-11-28T15:38:23.434122Z",
     "shell.execute_reply.started": "2020-11-28T15:38:23.422149Z"
    }
   },
   "outputs": [],
   "source": [
    "import numpy as np\n",
    "from surprise import Dataset\n",
    "from surprise import Reader\n",
    "from surprise import SlopeOne\n",
    "from surprise import accuracy\n",
    "from surprise.model_selection import KFold"
   ]
  },
  {
   "cell_type": "code",
   "execution_count": 2,
   "metadata": {
    "execution": {
     "iopub.execute_input": "2020-11-28T14:59:55.147050Z",
     "iopub.status.busy": "2020-11-28T14:59:55.147050Z",
     "iopub.status.idle": "2020-11-28T14:59:58.814604Z",
     "shell.execute_reply": "2020-11-28T14:59:58.814604Z",
     "shell.execute_reply.started": "2020-11-28T14:59:55.147050Z"
    }
   },
   "outputs": [],
   "source": [
    "# 数据读取(读取的数据必须至少包含三列数据： user、item、ratings)\n",
    "reader = Reader(line_format='user item rating timestamp', sep=',', skip_lines=1)\n",
    "data = Dataset.load_from_file('./ratings.csv', reader=reader)\n",
    "train_set = data.build_full_trainset()"
   ]
  },
  {
   "cell_type": "markdown",
   "metadata": {},
   "source": [
    "### SlopeOne算法"
   ]
  },
  {
   "cell_type": "markdown",
   "metadata": {},
   "source": [
    "算法原理概述：  \n",
    "当要评估用户u对项目i的评分时，通过找到其他与用户u有相同已评分项目j以及有对项目i进行评分的用户，计算这些用户对项目j和i的评分偏差求均值，再基于这个平均偏差来预测用户u对项目i的评分。"
   ]
  },
  {
   "cell_type": "markdown",
   "metadata": {},
   "source": [
    "1. 只用最后一个模型进行预测"
   ]
  },
  {
   "cell_type": "code",
   "execution_count": 8,
   "metadata": {
    "execution": {
     "iopub.execute_input": "2020-11-28T15:04:36.345605Z",
     "iopub.status.busy": "2020-11-28T15:04:36.344608Z",
     "iopub.status.idle": "2020-11-28T15:15:25.756386Z",
     "shell.execute_reply": "2020-11-28T15:15:25.741425Z",
     "shell.execute_reply.started": "2020-11-28T15:04:36.345605Z"
    }
   },
   "outputs": [
    {
     "name": "stdout",
     "output_type": "stream",
     "text": [
      "RMSE: 0.8630\n",
      "RMSE: 0.8637\n",
      "RMSE: 0.8674\n",
      "RMSE: 0.8663\n",
      "RMSE: 0.8643\n",
      "user: 196        item: 302        r_ui = 4.00   est = 4.30   {'was_impossible': False}\n"
     ]
    }
   ],
   "source": [
    "kf = KFold(n_splits=5)\n",
    "for trainset, testset in kf.split(data):\n",
    "    algo = SlopeOne()\n",
    "    algo.fit(trainset)\n",
    "    predictions = algo.test(testset)\n",
    "    accuracy.rmse(predictions, verbose=True)\n",
    "uid = str(196)\n",
    "iid = str(302)\n",
    "pred = algo.predict(uid, iid, r_ui=4, verbose=True)  # 最后一次训练的模型的预测结果"
   ]
  },
  {
   "cell_type": "markdown",
   "metadata": {},
   "source": [
    "2. 取训练的k个模型进行预测的平均值"
   ]
  },
  {
   "cell_type": "code",
   "execution_count": 15,
   "metadata": {
    "execution": {
     "iopub.execute_input": "2020-11-28T16:05:50.829401Z",
     "iopub.status.busy": "2020-11-28T16:05:50.828403Z",
     "iopub.status.idle": "2020-11-28T16:26:01.705330Z",
     "shell.execute_reply": "2020-11-28T16:26:01.683376Z",
     "shell.execute_reply.started": "2020-11-28T16:05:50.829401Z"
    }
   },
   "outputs": [
    {
     "name": "stdout",
     "output_type": "stream",
     "text": [
      "RMSE: 0.8642\n",
      "RMSE: 0.8633\n",
      "RMSE: 0.8677\n",
      "RMSE: 0.8664\n",
      "RMSE: 0.8637\n",
      "user: 196        item: 302        r_ui = 4.00   est = 4.29   {'was_impossible': False}\n",
      "user: 196        item: 302        r_ui = 4.00   est = 4.16   {'was_impossible': False}\n",
      "user: 196        item: 302        r_ui = 4.00   est = 4.45   {'was_impossible': False}\n",
      "user: 196        item: 302        r_ui = 4.00   est = 4.44   {'was_impossible': False}\n",
      "user: 196        item: 302        r_ui = 4.00   est = 4.24   {'was_impossible': False}\n",
      "实际结果为4，预测结果为:4.316578010279427\n"
     ]
    }
   ],
   "source": [
    "kf = KFold(n_splits=5)\n",
    "ls_algo = []\n",
    "for trainset, testset in kf.split(data):\n",
    "    algo = SlopeOne()\n",
    "    algo.fit(trainset)\n",
    "    predictions = algo.test(testset)\n",
    "    accuracy.rmse(predictions, verbose=True)\n",
    "    ls_algo.append(algo)\n",
    "    \n",
    "uid = str(196)\n",
    "iid = str(302)\n",
    "ls_res = []\n",
    "for algo in ls_algo:\n",
    "    pred = algo.predict(uid, iid, r_ui=4, verbose=True)\n",
    "    ls_res.append(pred.est)\n",
    "print(f'实际结果为{pred.r_ui}，预测结果为:{np.mean(ls_res)}')"
   ]
  }
 ],
 "metadata": {
  "kernelspec": {
   "display_name": "Python 3",
   "language": "python",
   "name": "python3"
  },
  "language_info": {
   "codemirror_mode": {
    "name": "ipython",
    "version": 3
   },
   "file_extension": ".py",
   "mimetype": "text/x-python",
   "name": "python",
   "nbconvert_exporter": "python",
   "pygments_lexer": "ipython3",
   "version": "3.8.3"
  }
 },
 "nbformat": 4,
 "nbformat_minor": 4
}
