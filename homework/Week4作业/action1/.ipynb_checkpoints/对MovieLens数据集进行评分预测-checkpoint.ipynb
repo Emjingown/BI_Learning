{
 "cells": [
  {
   "cell_type": "code",
   "execution_count": 12,
   "metadata": {
    "execution": {
     "iopub.execute_input": "2020-11-28T15:38:23.422149Z",
     "iopub.status.busy": "2020-11-28T15:38:23.421152Z",
     "iopub.status.idle": "2020-11-28T15:38:23.435117Z",
     "shell.execute_reply": "2020-11-28T15:38:23.434122Z",
     "shell.execute_reply.started": "2020-11-28T15:38:23.422149Z"
    }
   },
   "outputs": [],
   "source": [
    "import numpy as np\n",
    "from surprise import Dataset\n",
    "from surprise import Reader\n",
    "from surprise import SlopeOne\n",
    "from surprise import accuracy\n",
    "from surprise.model_selection import KFold"
   ]
  },
  {
   "cell_type": "code",
   "execution_count": 2,
   "metadata": {
    "execution": {
     "iopub.execute_input": "2020-11-28T14:59:55.147050Z",
     "iopub.status.busy": "2020-11-28T14:59:55.147050Z",
     "iopub.status.idle": "2020-11-28T14:59:58.814604Z",
     "shell.execute_reply": "2020-11-28T14:59:58.814604Z",
     "shell.execute_reply.started": "2020-11-28T14:59:55.147050Z"
    }
   },
   "outputs": [],
   "source": [
    "# 数据读取(读取的数据必须至少包含三列数据： user、item、ratings)\n",
    "reader = Reader(line_format='user item rating timestamp', sep=',', skip_lines=1)\n",
    "data = Dataset.load_from_file('./ratings.csv', reader=reader)\n",
    "train_set = data.build_full_trainset()"
   ]
  },
  {
   "cell_type": "code",
   "execution_count": 7,
   "metadata": {
    "execution": {
     "iopub.execute_input": "2020-11-28T15:04:30.034723Z",
     "iopub.status.busy": "2020-11-28T15:04:30.034723Z",
     "iopub.status.idle": "2020-11-28T15:04:30.039710Z",
     "shell.execute_reply": "2020-11-28T15:04:30.038711Z",
     "shell.execute_reply.started": "2020-11-28T15:04:30.034723Z"
    }
   },
   "outputs": [],
   "source": [
    "algo = SlopeOne()"
   ]
  },
  {
   "cell_type": "code",
   "execution_count": 8,
   "metadata": {
    "execution": {
     "iopub.execute_input": "2020-11-28T15:04:36.345605Z",
     "iopub.status.busy": "2020-11-28T15:04:36.344608Z",
     "iopub.status.idle": "2020-11-28T15:15:25.756386Z",
     "shell.execute_reply": "2020-11-28T15:15:25.741425Z",
     "shell.execute_reply.started": "2020-11-28T15:04:36.345605Z"
    }
   },
   "outputs": [
    {
     "name": "stdout",
     "output_type": "stream",
     "text": [
      "RMSE: 0.8630\n",
      "RMSE: 0.8637\n",
      "RMSE: 0.8674\n",
      "RMSE: 0.8663\n",
      "RMSE: 0.8643\n",
      "user: 196        item: 302        r_ui = 4.00   est = 4.30   {'was_impossible': False}\n"
     ]
    }
   ],
   "source": [
    "kf = KFold(n_splits=5)\n",
    "for trainset, testset in kf.split(data):\n",
    "    algo.fit(trainset)\n",
    "    predictions = algo.test(testset)\n",
    "    accuracy.rmse(predictions, verbose=True)\n",
    "uid = str(196)\n",
    "iid = str(302)\n",
    "pred = algo.predict(uid, iid, r_ui=4, verbose=True)  # 最后一次训练的模型的预测结果"
   ]
  },
  {
   "cell_type": "code",
   "execution_count": 14,
   "metadata": {
    "execution": {
     "iopub.execute_input": "2020-11-28T15:39:05.437556Z",
     "iopub.status.busy": "2020-11-28T15:39:05.437556Z",
     "iopub.status.idle": "2020-11-28T15:48:27.230670Z",
     "shell.execute_reply": "2020-11-28T15:48:27.222681Z",
     "shell.execute_reply.started": "2020-11-28T15:39:05.437556Z"
    }
   },
   "outputs": [
    {
     "name": "stdout",
     "output_type": "stream",
     "text": [
      "RMSE: 0.8642\n",
      "RMSE: 0.8642\n",
      "RMSE: 0.8651\n",
      "RMSE: 0.8648\n",
      "RMSE: 0.8662\n",
      "user: 196        item: 302        r_ui = 4.00   est = 4.31   {'was_impossible': False}\n",
      "user: 196        item: 302        r_ui = 4.00   est = 4.31   {'was_impossible': False}\n",
      "user: 196        item: 302        r_ui = 4.00   est = 4.31   {'was_impossible': False}\n",
      "user: 196        item: 302        r_ui = 4.00   est = 4.31   {'was_impossible': False}\n",
      "user: 196        item: 302        r_ui = 4.00   est = 4.31   {'was_impossible': False}\n",
      "实际结果为4，预测结果为:4.311023455023943\n"
     ]
    }
   ],
   "source": [
    "kf = KFold(n_splits=5)\n",
    "ls_algo = []\n",
    "for trainset, testset in kf.split(data):\n",
    "    algo.fit(trainset)\n",
    "    predictions = algo.test(testset)\n",
    "    accuracy.rmse(predictions, verbose=True)\n",
    "    ls_algo.append(algo)\n",
    "    \n",
    "uid = str(196)\n",
    "iid = str(302)\n",
    "ls_res = []\n",
    "for algo in ls_algo:\n",
    "    pred = algo.predict(uid, iid, r_ui=4, verbose=True)\n",
    "    ls_res.append(pred.est)\n",
    "print(f'实际结果为{pred.r_ui}，预测结果为:{np.mean(ls_res)}')"
   ]
  }
 ],
 "metadata": {
  "kernelspec": {
   "display_name": "Python 3",
   "language": "python",
   "name": "python3"
  },
  "language_info": {
   "codemirror_mode": {
    "name": "ipython",
    "version": 3
   },
   "file_extension": ".py",
   "mimetype": "text/x-python",
   "name": "python",
   "nbconvert_exporter": "python",
   "pygments_lexer": "ipython3",
   "version": "3.8.3"
  }
 },
 "nbformat": 4,
 "nbformat_minor": 4
}
