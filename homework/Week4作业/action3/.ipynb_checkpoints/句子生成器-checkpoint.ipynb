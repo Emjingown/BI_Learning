{
 "cells": [
  {
   "cell_type": "code",
   "execution_count": 1,
   "metadata": {
    "execution": {
     "iopub.execute_input": "2020-11-28T09:03:26.609036Z",
     "iopub.status.busy": "2020-11-28T09:03:26.609036Z",
     "iopub.status.idle": "2020-11-28T09:03:26.612057Z",
     "shell.execute_reply": "2020-11-28T09:03:26.612057Z",
     "shell.execute_reply.started": "2020-11-28T09:03:26.609036Z"
    }
   },
   "outputs": [],
   "source": [
    "import random"
   ]
  },
  {
   "cell_type": "code",
   "execution_count": 7,
   "metadata": {
    "execution": {
     "iopub.execute_input": "2020-11-28T09:32:46.779980Z",
     "iopub.status.busy": "2020-11-28T09:32:46.779980Z",
     "iopub.status.idle": "2020-11-28T09:32:46.785965Z",
     "shell.execute_reply": "2020-11-28T09:32:46.784964Z",
     "shell.execute_reply.started": "2020-11-28T09:32:46.779980Z"
    }
   },
   "outputs": [],
   "source": [
    "# 定语从句语法\n",
    "grammar = '''\n",
    "投资 => 行为 ， 行情 ， 结果 。\n",
    "行情 => 指数 方向 幅度 \n",
    "行为 => 主语 动作 标的 数量\n",
    "结果 => 盈亏 金额\n",
    "指数 => 沪深300 | 上证50 | 中证500 | 创业板指\n",
    "方向 => 上涨 | 下跌\n",
    "幅度 => 0.5% | 1.5% | 3% | 5% | 8% | 10%\n",
    "主语 => 张三 | 李四 | 王五 | 赵六 | 小七\n",
    "动作 => 买入 | 卖出\n",
    "标的 => 汇顶科技 | 光大证券 | 中国人寿 | 药明康德 | 工业富联 | 伊利股份 | 绝味食品 | 人民网 | 中远海发 | 东方时尚\n",
    "数量 => 100股 | 500股 | 1000股 | 3手 | 6手 | 100手\n",
    "盈亏 => 盈利 | 亏损\n",
    "金额 => 100元 | 500元 | 1000元 | 10000元 | 8888元 | 10万元\n",
    "'''"
   ]
  },
  {
   "cell_type": "code",
   "execution_count": 3,
   "metadata": {
    "execution": {
     "iopub.execute_input": "2020-11-28T09:30:52.846886Z",
     "iopub.status.busy": "2020-11-28T09:30:52.846886Z",
     "iopub.status.idle": "2020-11-28T09:30:52.856861Z",
     "shell.execute_reply": "2020-11-28T09:30:52.856861Z",
     "shell.execute_reply.started": "2020-11-28T09:30:52.846886Z"
    }
   },
   "outputs": [],
   "source": [
    "# 得到语法字典\n",
    "def getGrammarDict(gram, linesplit = \"\\n\", gramsplit = \"=>\"):\n",
    "    #定义字典\n",
    "    result = {}\n",
    "\n",
    "    for line in gram.split(linesplit):\n",
    "        # 去掉首尾空格后，如果为空则退出\n",
    "        if not line.strip(): \n",
    "            continue\n",
    "        expr, statement = line.split(gramsplit)\n",
    "        result[expr.strip()] = [i.split() for i in statement.split(\"|\")]\n",
    "    #print(result)\n",
    "    return result"
   ]
  },
  {
   "cell_type": "code",
   "execution_count": 4,
   "metadata": {
    "execution": {
     "iopub.execute_input": "2020-11-28T09:30:54.193509Z",
     "iopub.status.busy": "2020-11-28T09:30:54.193509Z",
     "iopub.status.idle": "2020-11-28T09:30:54.201485Z",
     "shell.execute_reply": "2020-11-28T09:30:54.200490Z",
     "shell.execute_reply.started": "2020-11-28T09:30:54.193509Z"
    }
   },
   "outputs": [],
   "source": [
    "# 生成句子\n",
    "def generate(gramdict, target, isEng = False):\n",
    "    if target not in gramdict: \n",
    "        return target\n",
    "    find = random.choice(gramdict[target])\n",
    "    #print(find)\n",
    "    blank = ''\n",
    "    # 如果是英文中间间隔为空格\n",
    "    if isEng: \n",
    "        blank = ' '\n",
    "    return blank.join(generate(gramdict, t, isEng) for t in find)"
   ]
  },
  {
   "cell_type": "code",
   "execution_count": 8,
   "metadata": {
    "execution": {
     "iopub.execute_input": "2020-11-28T09:32:49.419681Z",
     "iopub.status.busy": "2020-11-28T09:32:49.418684Z",
     "iopub.status.idle": "2020-11-28T09:32:49.426661Z",
     "shell.execute_reply": "2020-11-28T09:32:49.425663Z",
     "shell.execute_reply.started": "2020-11-28T09:32:49.419681Z"
    }
   },
   "outputs": [
    {
     "name": "stdout",
     "output_type": "stream",
     "text": [
      "张三买入药明康德100手，中证500上涨10%，亏损500元。\n",
      "张三卖出光大证券500股，创业板指下跌8%，盈利500元。\n",
      "赵六卖出光大证券100股，中证500下跌3%，亏损8888元。\n",
      "赵六卖出人民网100股，创业板指上涨3%，盈利10万元。\n",
      "赵六卖出绝味食品3手，中证500上涨8%，亏损10000元。\n",
      "小七卖出光大证券100股，创业板指下跌5%，盈利8888元。\n",
      "小七卖出汇顶科技6手，中证500下跌8%，亏损1000元。\n",
      "小七卖出中远海发3手，创业板指上涨5%，亏损100元。\n",
      "李四买入药明康德6手，创业板指下跌10%，亏损10万元。\n",
      "赵六卖出工业富联500股，中证500上涨0.5%，盈利10000元。\n"
     ]
    }
   ],
   "source": [
    "gramdict = getGrammarDict(grammar)\n",
    "for _ in range(10):\n",
    "    print(generate(gramdict,\"投资\"))"
   ]
  }
 ],
 "metadata": {
  "kernelspec": {
   "display_name": "Python 3",
   "language": "python",
   "name": "python3"
  },
  "language_info": {
   "codemirror_mode": {
    "name": "ipython",
    "version": 3
   },
   "file_extension": ".py",
   "mimetype": "text/x-python",
   "name": "python",
   "nbconvert_exporter": "python",
   "pygments_lexer": "ipython3",
   "version": "3.8.3"
  }
 },
 "nbformat": 4,
 "nbformat_minor": 4
}
