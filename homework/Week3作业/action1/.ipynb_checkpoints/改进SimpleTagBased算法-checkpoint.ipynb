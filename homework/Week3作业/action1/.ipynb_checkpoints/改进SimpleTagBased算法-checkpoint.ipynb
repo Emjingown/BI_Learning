{
 "cells": [
  {
   "cell_type": "code",
   "execution_count": 1,
   "metadata": {
    "execution": {
     "iopub.execute_input": "2020-11-21T03:06:26.935784Z",
     "iopub.status.busy": "2020-11-21T03:06:26.935784Z",
     "iopub.status.idle": "2020-11-21T03:06:27.581616Z",
     "shell.execute_reply": "2020-11-21T03:06:27.580613Z",
     "shell.execute_reply.started": "2020-11-21T03:06:26.935784Z"
    }
   },
   "outputs": [],
   "source": [
    "import numpy as np\n",
    "import pandas as pd\n",
    "import math\n",
    "import operator"
   ]
  },
  {
   "cell_type": "markdown",
   "metadata": {},
   "source": [
    "### 读取数据"
   ]
  },
  {
   "cell_type": "code",
   "execution_count": 2,
   "metadata": {
    "execution": {
     "iopub.execute_input": "2020-11-21T03:06:27.582607Z",
     "iopub.status.busy": "2020-11-21T03:06:27.582607Z",
     "iopub.status.idle": "2020-11-21T03:06:27.792552Z",
     "shell.execute_reply": "2020-11-21T03:06:27.791555Z",
     "shell.execute_reply.started": "2020-11-21T03:06:27.582607Z"
    }
   },
   "outputs": [
    {
     "data": {
      "text/html": [
       "<div>\n",
       "<style scoped>\n",
       "    .dataframe tbody tr th:only-of-type {\n",
       "        vertical-align: middle;\n",
       "    }\n",
       "\n",
       "    .dataframe tbody tr th {\n",
       "        vertical-align: top;\n",
       "    }\n",
       "\n",
       "    .dataframe thead th {\n",
       "        text-align: right;\n",
       "    }\n",
       "</style>\n",
       "<table border=\"1\" class=\"dataframe\">\n",
       "  <thead>\n",
       "    <tr style=\"text-align: right;\">\n",
       "      <th></th>\n",
       "      <th>userID</th>\n",
       "      <th>bookmarkID</th>\n",
       "      <th>tagID</th>\n",
       "      <th>timestamp</th>\n",
       "    </tr>\n",
       "  </thead>\n",
       "  <tbody>\n",
       "    <tr>\n",
       "      <th>0</th>\n",
       "      <td>8</td>\n",
       "      <td>1</td>\n",
       "      <td>1</td>\n",
       "      <td>1289255362000</td>\n",
       "    </tr>\n",
       "    <tr>\n",
       "      <th>1</th>\n",
       "      <td>8</td>\n",
       "      <td>2</td>\n",
       "      <td>1</td>\n",
       "      <td>1289255159000</td>\n",
       "    </tr>\n",
       "    <tr>\n",
       "      <th>2</th>\n",
       "      <td>8</td>\n",
       "      <td>7</td>\n",
       "      <td>1</td>\n",
       "      <td>1289238901000</td>\n",
       "    </tr>\n",
       "  </tbody>\n",
       "</table>\n",
       "</div>"
      ],
      "text/plain": [
       "   userID  bookmarkID  tagID      timestamp\n",
       "0       8           1      1  1289255362000\n",
       "1       8           2      1  1289255159000\n",
       "2       8           7      1  1289238901000"
      ]
     },
     "execution_count": 2,
     "metadata": {},
     "output_type": "execute_result"
    }
   ],
   "source": [
    "file_path = \"./data/user_taggedbookmarks-timestamps.dat\"\n",
    "data = pd.read_csv(file_path, sep='\\t')\n",
    "data.head(3)"
   ]
  },
  {
   "cell_type": "markdown",
   "metadata": {},
   "source": [
    "### 数据结构定义与加载"
   ]
  },
  {
   "cell_type": "code",
   "execution_count": 3,
   "metadata": {
    "execution": {
     "iopub.execute_input": "2020-11-21T03:06:27.794546Z",
     "iopub.status.busy": "2020-11-21T03:06:27.794546Z",
     "iopub.status.idle": "2020-11-21T03:06:28.520606Z",
     "shell.execute_reply": "2020-11-21T03:06:28.520606Z",
     "shell.execute_reply.started": "2020-11-21T03:06:27.794546Z"
    }
   },
   "outputs": [
    {
     "name": "stdout",
     "output_type": "stream",
     "text": [
      "设置tag的人数为1867.\n",
      "数据加载完成\n",
      "\n"
     ]
    }
   ],
   "source": [
    "# 字典类型，保存了user对item的tag，即{userid: {item1:[tag1, tag2], ...}}\n",
    "records = {}\n",
    "\n",
    "# 加载records数据\n",
    "for row in data.iloc[:, :3].itertuples():\n",
    "    u_id, i_id, t_id = row[1:]\n",
    "    records.setdefault(u_id, {})\n",
    "    records[u_id].setdefault(i_id, [])\n",
    "    records[u_id][i_id].append(t_id)\n",
    "print(f\"设置tag的人数为{len(records)}.\")\n",
    "print(\"数据加载完成\\n\")"
   ]
  },
  {
   "cell_type": "markdown",
   "metadata": {},
   "source": [
    "### 划分训练集与测试集"
   ]
  },
  {
   "cell_type": "code",
   "execution_count": 4,
   "metadata": {
    "execution": {
     "iopub.execute_input": "2020-11-21T03:06:28.522631Z",
     "iopub.status.busy": "2020-11-21T03:06:28.521603Z",
     "iopub.status.idle": "2020-11-21T03:06:29.079251Z",
     "shell.execute_reply": "2020-11-21T03:06:29.078281Z",
     "shell.execute_reply.started": "2020-11-21T03:06:28.522631Z"
    }
   },
   "outputs": [
    {
     "name": "stdout",
     "output_type": "stream",
     "text": [
      "训练集样本数 1867, 测试集样本数 1812\n"
     ]
    }
   ],
   "source": [
    "def train_test_split(test_ratio, seed=0):\n",
    "    \"\"\"划分数据集的函数，test_ratio比例设置为测试集\"\"\"\n",
    "    np.random.seed(seed)\n",
    "    for u in records:\n",
    "        size = len(records[u])\n",
    "        ls_items = list(records[u].keys())\n",
    "        # 这种抽取方式能更接近设定的划分比例，且提高了速度\n",
    "        test_items = np.random.choice(ls_items, round(size*test_ratio), replace=False)\n",
    "        train_items = [i for i in ls_items if i not in test_items]\n",
    "        # 测试集\n",
    "        for i in test_items:\n",
    "            test_data.setdefault(u,{})\n",
    "            test_data[u][i] = records[u][i].copy()\n",
    "        # 训练集\n",
    "        for i in train_items:\n",
    "            train_data.setdefault(u,{})\n",
    "            train_data[u][i] = records[u][i].copy()      \n",
    "    print(\"训练集样本数 %d, 测试集样本数 %d\" % (len(train_data),len(test_data)))\n",
    "    \n",
    "# 训练集，测试集\n",
    "train_data = dict()\n",
    "test_data = dict()\n",
    "train_test_split(0.2)"
   ]
  },
  {
   "cell_type": "code",
   "execution_count": 5,
   "metadata": {
    "execution": {
     "iopub.execute_input": "2020-11-21T03:06:29.080248Z",
     "iopub.status.busy": "2020-11-21T03:06:29.080248Z",
     "iopub.status.idle": "2020-11-21T03:06:30.044672Z",
     "shell.execute_reply": "2020-11-21T03:06:30.044672Z",
     "shell.execute_reply.started": "2020-11-21T03:06:29.080248Z"
    }
   },
   "outputs": [
    {
     "name": "stdout",
     "output_type": "stream",
     "text": [
      "生成数据集完成.\n"
     ]
    }
   ],
   "source": [
    "# 初始化训练集\n",
    "def addValueToMat(mat, index, item, value=1):\n",
    "    \"\"\"用于更新用户、商品、标签间关系的函数\"\"\"\n",
    "    if index not in mat:\n",
    "        mat.setdefault(index,{})\n",
    "        mat[index].setdefault(item,value)\n",
    "    else:\n",
    "        if item not in mat[index]:\n",
    "            mat[index][item] = value\n",
    "        else:\n",
    "            mat[index][item] += value\n",
    "\n",
    "# 用户标签，商品标签\n",
    "user_tags = dict()\n",
    "tag_items = dict()\n",
    "user_items = dict()\n",
    "tag_users = dict()\n",
    "item_tags = dict()\n",
    "\n",
    "# 从训练集里取数据\n",
    "for u_id in train_data:\n",
    "    for i_id in train_data[u_id]:\n",
    "        for t_id in train_data[u_id][i_id]:\n",
    "            addValueToMat(user_tags, u_id, t_id, value=1)\n",
    "            addValueToMat(tag_items, t_id, i_id, value=1)\n",
    "            addValueToMat(user_items, u_id, i_id, value=1)\n",
    "            addValueToMat(tag_users, t_id, u_id, value=1)\n",
    "            addValueToMat(item_tags, i_id, t_id, value=1)\n",
    "print('生成数据集完成.')"
   ]
  },
  {
   "cell_type": "markdown",
   "metadata": {},
   "source": [
    "### 推荐算法"
   ]
  },
  {
   "cell_type": "code",
   "execution_count": 6,
   "metadata": {
    "execution": {
     "iopub.execute_input": "2020-11-21T03:06:30.046666Z",
     "iopub.status.busy": "2020-11-21T03:06:30.046666Z",
     "iopub.status.idle": "2020-11-21T03:06:30.059635Z",
     "shell.execute_reply": "2020-11-21T03:06:30.057638Z",
     "shell.execute_reply.started": "2020-11-21T03:06:30.046666Z"
    }
   },
   "outputs": [],
   "source": [
    "def simple_tag_based(wut, wti, nut=None, nti=None, ntu=None):\n",
    "    return wut * wti\n",
    "\n",
    "def norm_tag_based(wut, wti, nut=None, nti=None, ntu=None):\n",
    "    return wut / nut * wti / nti\n",
    "\n",
    "def tag_based_tfidf(wut, wti, nut=None, nti=None, ntu=None):\n",
    "    return wut / np.log(1 + ntu) * wti\n",
    "\n",
    "def recommend(user, N, method='simple'):\n",
    "    \"\"\"对用户user推荐Top-N\"\"\"\n",
    "    recommend_items=dict()\n",
    "    alg_dict = {'simple': simple_tag_based, 'norm': norm_tag_based, 'tfidf': tag_based_tfidf}\n",
    "    alg_func = alg_dict[method]\n",
    "    # 对Item进行打分，分数为所有的（用户对某标签使用的次数 wut, 乘以 商品被打上相同标签的次数 wti）之和\n",
    "    ls_items = user_items[user].keys()  \n",
    "    nut = len(user_tags[user])  # user打过的标签种类数\n",
    "    for tag, wut in user_tags[user].items():\n",
    "        nti = len(tag_items[tag])  # 被打过标签tag的商品数\n",
    "        ntu = len(tag_users[tag])  # 打过tag标签的用户数\n",
    "        for item, wti in tag_items[tag].items():\n",
    "            if item in ls_items:\n",
    "                continue\n",
    "            if item not in recommend_items:\n",
    "                recommend_items[item] = alg_func(wut, wti, nut, nti, ntu)\n",
    "            else:\n",
    "                recommend_items[item] = recommend_items[item] + alg_func(wut, wti, nut, nti, ntu)\n",
    "    return sorted(recommend_items.items(), key=operator.itemgetter(1), reverse=True)[0:N]"
   ]
  },
  {
   "cell_type": "markdown",
   "metadata": {},
   "source": [
    "### 评估函数及算法测试"
   ]
  },
  {
   "cell_type": "code",
   "execution_count": 7,
   "metadata": {
    "execution": {
     "iopub.execute_input": "2020-11-21T03:06:30.061625Z",
     "iopub.status.busy": "2020-11-21T03:06:30.060628Z",
     "iopub.status.idle": "2020-11-21T03:06:30.070602Z",
     "shell.execute_reply": "2020-11-21T03:06:30.069604Z",
     "shell.execute_reply.started": "2020-11-21T03:06:30.061625Z"
    }
   },
   "outputs": [],
   "source": [
    "# 使用测试集，计算准确率和召回率\n",
    "def precisionAndRecall(N, method):\n",
    "    hit = 0\n",
    "    h_recall = 0\n",
    "    h_precision = 0\n",
    "    for user, items in test_data.items():\n",
    "        if user not in train_data:\n",
    "            continue\n",
    "        # 获取Top-N推荐列表\n",
    "        rank = recommend(user, N, method)\n",
    "        for item, _ in rank:\n",
    "            if item in items:\n",
    "                hit = hit + 1\n",
    "        h_recall = h_recall + len(items)\n",
    "        h_precision = h_precision + N\n",
    "    #print('一共命中 %d 个, 一共推荐 %d 个, 用户设置tag总数 %d 个' %(hit, h_precision, h_recall))\n",
    "    # 返回准确率 和 召回率\n",
    "    return (hit/(h_precision*1.0)), (hit/(h_recall*1.0))\n",
    "\n",
    "# 使用测试集，对推荐结果进行评估\n",
    "def testRecommend(method='simple'):\n",
    "    print(\"推荐结果评估\")\n",
    "    print(\"%3s %10s %10s\" % ('N',\"精确率\",'召回率'))\n",
    "    for n in [5,10,20,40,60,80,100]:\n",
    "        precision,recall = precisionAndRecall(n, method)\n",
    "        print(\"%3d %10.3f%% %10.3f%%\" % (n, precision * 100, recall * 100))"
   ]
  },
  {
   "cell_type": "code",
   "execution_count": 8,
   "metadata": {
    "execution": {
     "iopub.execute_input": "2020-11-21T03:06:39.495831Z",
     "iopub.status.busy": "2020-11-21T03:06:39.494832Z",
     "iopub.status.idle": "2020-11-21T03:10:11.410451Z",
     "shell.execute_reply": "2020-11-21T03:10:11.409454Z",
     "shell.execute_reply.started": "2020-11-21T03:06:39.495831Z"
    }
   },
   "outputs": [
    {
     "name": "stdout",
     "output_type": "stream",
     "text": [
      "推荐结果评估\n",
      "  N        精确率        召回率\n",
      "  5      0.784%      0.339%\n",
      " 10      0.701%      0.606%\n",
      " 20      0.535%      0.925%\n",
      " 40      0.374%      1.292%\n",
      " 60      0.305%      1.583%\n",
      " 80      0.272%      1.879%\n",
      "100      0.250%      2.160%\n",
      "Wall time: 3min 31s\n"
     ]
    }
   ],
   "source": [
    "%%time\n",
    "testRecommend(method='simple')"
   ]
  },
  {
   "cell_type": "code",
   "execution_count": 9,
   "metadata": {
    "execution": {
     "iopub.execute_input": "2020-11-21T03:10:11.412446Z",
     "iopub.status.busy": "2020-11-21T03:10:11.411450Z",
     "iopub.status.idle": "2020-11-21T03:14:38.237436Z",
     "shell.execute_reply": "2020-11-21T03:14:38.236466Z",
     "shell.execute_reply.started": "2020-11-21T03:10:11.412446Z"
    }
   },
   "outputs": [
    {
     "name": "stdout",
     "output_type": "stream",
     "text": [
      "推荐结果评估\n",
      "  N        精确率        召回率\n",
      "  5      0.751%      0.324%\n",
      " 10      0.585%      0.506%\n",
      " 20      0.392%      0.677%\n",
      " 40      0.316%      1.092%\n",
      " 60      0.276%      1.431%\n",
      " 80      0.249%      1.722%\n",
      "100      0.220%      1.898%\n",
      "Wall time: 4min 26s\n"
     ]
    }
   ],
   "source": [
    "%%time\n",
    "testRecommend(method='norm')"
   ]
  },
  {
   "cell_type": "code",
   "execution_count": 10,
   "metadata": {
    "execution": {
     "iopub.execute_input": "2020-11-21T03:14:38.238465Z",
     "iopub.status.busy": "2020-11-21T03:14:38.238465Z",
     "iopub.status.idle": "2020-11-21T03:31:02.095349Z",
     "shell.execute_reply": "2020-11-21T03:31:02.094386Z",
     "shell.execute_reply.started": "2020-11-21T03:14:38.238465Z"
    }
   },
   "outputs": [
    {
     "name": "stdout",
     "output_type": "stream",
     "text": [
      "推荐结果评估\n",
      "  N        精确率        召回率\n",
      "  5      0.894%      0.386%\n",
      " 10      0.751%      0.649%\n",
      " 20      0.574%      0.992%\n",
      " 40      0.407%      1.407%\n",
      " 60      0.341%      1.769%\n",
      " 80      0.296%      2.046%\n",
      "100      0.267%      2.308%\n",
      "Wall time: 16min 23s\n"
     ]
    }
   ],
   "source": [
    "%%time\n",
    "testRecommend(method='tfidf')"
   ]
  },
  {
   "cell_type": "markdown",
   "metadata": {},
   "source": [
    "显然，推荐效果不太好。但我觉得主要问题还是出在数据集上；商品被打标签的次数太少，因此对于同一个标签得到的商品热门程度缺乏区分度，所以推荐效果不太好。当然，算法本身也是最简单的推荐算法之一，效果也会有一定影响吧。"
   ]
  },
  {
   "cell_type": "markdown",
   "metadata": {},
   "source": [
    "### 尝试改进计算推荐商品分数的计算方式，结果发现计算更慢了..= ="
   ]
  },
  {
   "cell_type": "code",
   "execution_count": 54,
   "metadata": {
    "execution": {
     "iopub.execute_input": "2020-11-21T01:51:08.013669Z",
     "iopub.status.busy": "2020-11-21T01:51:08.012702Z",
     "iopub.status.idle": "2020-11-21T01:51:25.046079Z",
     "shell.execute_reply": "2020-11-21T01:51:25.045091Z",
     "shell.execute_reply.started": "2020-11-21T01:51:08.013669Z"
    }
   },
   "outputs": [],
   "source": [
    "dse_user_tags = {u: pd.Series(user_tags[u]) for u in user_tags}\n",
    "dse_item_tags = {i: pd.Series(item_tags[i]) for i in item_tags}"
   ]
  },
  {
   "cell_type": "code",
   "execution_count": 83,
   "metadata": {
    "execution": {
     "iopub.execute_input": "2020-11-21T02:36:19.490617Z",
     "iopub.status.busy": "2020-11-21T02:36:19.489621Z",
     "iopub.status.idle": "2020-11-21T02:36:19.498598Z",
     "shell.execute_reply": "2020-11-21T02:36:19.497598Z",
     "shell.execute_reply.started": "2020-11-21T02:36:19.490617Z"
    }
   },
   "outputs": [],
   "source": [
    "def fast_recommend(user, N):\n",
    "    \"\"\"对用户user推荐Top-N\"\"\"\n",
    "    recommend_items=dict()\n",
    "    # 对Item进行打分，分数为所有的（用户对某标签使用的次数 wut, 乘以 商品被打上相同标签的次数 wti）之和\n",
    "    ls_items = user_items[user].keys()  \n",
    "    set_u_items = set(user_items[user])\n",
    "    set_t_items = set()\n",
    "    nut = len(user_tags[user])\n",
    "    for tag in user_tags[user]:\n",
    "        set_t_items = set_t_items.union(tag_items[tag])\n",
    "    set_t_items = set_t_items - set_u_items\n",
    "    for item in set_t_items:\n",
    "        recommend_items[item] = (dse_user_tags[user] * dse_item_tags[item]).sum()\n",
    "    return sorted(recommend_items.items(), key=operator.itemgetter(1), reverse=True)[0:N]"
   ]
  },
  {
   "cell_type": "code",
   "execution_count": 80,
   "metadata": {
    "execution": {
     "iopub.execute_input": "2020-11-21T02:33:13.250315Z",
     "iopub.status.busy": "2020-11-21T02:33:13.250315Z",
     "iopub.status.idle": "2020-11-21T02:33:13.268240Z",
     "shell.execute_reply": "2020-11-21T02:33:13.267243Z",
     "shell.execute_reply.started": "2020-11-21T02:33:13.250315Z"
    }
   },
   "outputs": [
    {
     "name": "stdout",
     "output_type": "stream",
     "text": [
      "Wall time: 11.9 ms\n"
     ]
    },
    {
     "data": {
      "text/plain": [
       "[(1526, 77),\n",
       " (1416, 61),\n",
       " (4087, 53),\n",
       " (14657, 52),\n",
       " (918, 51),\n",
       " (4639, 50),\n",
       " (12968, 50),\n",
       " (3203, 45),\n",
       " (4638, 39),\n",
       " (4535, 38)]"
      ]
     },
     "execution_count": 80,
     "metadata": {},
     "output_type": "execute_result"
    }
   ],
   "source": [
    "%%time\n",
    "recommend(8, 10)"
   ]
  },
  {
   "cell_type": "code",
   "execution_count": 84,
   "metadata": {
    "execution": {
     "iopub.execute_input": "2020-11-21T02:36:20.762112Z",
     "iopub.status.busy": "2020-11-21T02:36:20.761116Z",
     "iopub.status.idle": "2020-11-21T02:36:29.127771Z",
     "shell.execute_reply": "2020-11-21T02:36:29.127771Z",
     "shell.execute_reply.started": "2020-11-21T02:36:20.762112Z"
    }
   },
   "outputs": [
    {
     "name": "stdout",
     "output_type": "stream",
     "text": [
      "Wall time: 8.36 s\n"
     ]
    },
    {
     "data": {
      "text/plain": [
       "[(1526, 77.0),\n",
       " (1416, 61.0),\n",
       " (4087, 53.0),\n",
       " (14657, 52.0),\n",
       " (918, 51.0),\n",
       " (4639, 50.0),\n",
       " (12968, 50.0),\n",
       " (3203, 45.0),\n",
       " (4638, 39.0),\n",
       " (4535, 38.0)]"
      ]
     },
     "execution_count": 84,
     "metadata": {},
     "output_type": "execute_result"
    }
   ],
   "source": [
    "%%time\n",
    "fast_recommend(8, 10)"
   ]
  },
  {
   "cell_type": "markdown",
   "metadata": {},
   "source": [
    "还想过一种方法，对于用户u的标签`user_tags[u].keys()`，对于每个标签t，找到被打上标签t最多的m个商品，只计算给用户推荐这些商品的score，从而可以减少计算量。但由于数据集太小了，很多标签只在商品打过一两次，缺少区分度，因此放弃了。"
   ]
  },
  {
   "cell_type": "code",
   "execution_count": 10,
   "metadata": {
    "execution": {
     "iopub.execute_input": "2020-11-21T03:00:58.102816Z",
     "iopub.status.busy": "2020-11-21T03:00:58.102816Z",
     "iopub.status.idle": "2020-11-21T03:00:58.111793Z",
     "shell.execute_reply": "2020-11-21T03:00:58.110795Z",
     "shell.execute_reply.started": "2020-11-21T03:00:58.102816Z"
    }
   },
   "outputs": [
    {
     "name": "stdout",
     "output_type": "stream",
     "text": [
      "tag 1:  [(1526, 3), (1, 2), (7, 2), (918, 2), (4087, 2)]\n",
      "tag 6:  [(2484, 3), (7, 1), (2544, 1), (4256, 1), (4602, 1)]\n",
      "tag 7:  [(15505, 2), (7, 1), (2, 1), (654, 1), (1187, 1)]\n",
      "tag 8:  [(11253, 2), (12046, 2), (8, 1), (44682, 1), (63318, 1)]\n",
      "tag 9:  [(3603, 3), (64471, 2), (3607, 2), (3608, 2), (3609, 2)]\n"
     ]
    }
   ],
   "source": [
    "for t in list(tag_items.keys())[:5]:\n",
    "    print(f'tag {t}: ', sorted(tag_items[t].items(), key=operator.itemgetter(1), reverse=True)[:5])"
   ]
  }
 ],
 "metadata": {
  "kernelspec": {
   "display_name": "Python 3",
   "language": "python",
   "name": "python3"
  },
  "language_info": {
   "codemirror_mode": {
    "name": "ipython",
    "version": 3
   },
   "file_extension": ".py",
   "mimetype": "text/x-python",
   "name": "python",
   "nbconvert_exporter": "python",
   "pygments_lexer": "ipython3",
   "version": "3.8.3"
  }
 },
 "nbformat": 4,
 "nbformat_minor": 4
}
