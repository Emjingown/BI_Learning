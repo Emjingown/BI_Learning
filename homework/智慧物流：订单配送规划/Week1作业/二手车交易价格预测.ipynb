{
 "cells": [
  {
   "cell_type": "code",
   "execution_count": 2,
   "metadata": {
    "execution": {
     "iopub.execute_input": "2021-04-18T16:01:27.215005Z",
     "iopub.status.busy": "2021-04-18T16:01:27.215005Z",
     "iopub.status.idle": "2021-04-18T16:01:27.221983Z",
     "shell.execute_reply": "2021-04-18T16:01:27.220987Z",
     "shell.execute_reply.started": "2021-04-18T16:01:27.215005Z"
    }
   },
   "outputs": [],
   "source": [
    "import pandas as pd\n",
    "# import pandas_profiling as ppf\n",
    "import warnings\n",
    "pd.set_option('max_columns', None)\n",
    "warnings.filterwarnings('ignore')"
   ]
  },
  {
   "cell_type": "markdown",
   "metadata": {},
   "source": [
    "## 加载数据"
   ]
  },
  {
   "cell_type": "code",
   "execution_count": 31,
   "metadata": {
    "execution": {
     "iopub.execute_input": "2021-04-18T16:10:43.947213Z",
     "iopub.status.busy": "2021-04-18T16:10:43.946220Z",
     "iopub.status.idle": "2021-04-18T16:10:44.988429Z",
     "shell.execute_reply": "2021-04-18T16:10:44.987431Z",
     "shell.execute_reply.started": "2021-04-18T16:10:43.947213Z"
    }
   },
   "outputs": [
    {
     "data": {
      "text/html": [
       "<div>\n",
       "<style scoped>\n",
       "    .dataframe tbody tr th:only-of-type {\n",
       "        vertical-align: middle;\n",
       "    }\n",
       "\n",
       "    .dataframe tbody tr th {\n",
       "        vertical-align: top;\n",
       "    }\n",
       "\n",
       "    .dataframe thead th {\n",
       "        text-align: right;\n",
       "    }\n",
       "</style>\n",
       "<table border=\"1\" class=\"dataframe\">\n",
       "  <thead>\n",
       "    <tr style=\"text-align: right;\">\n",
       "      <th></th>\n",
       "      <th>SaleID</th>\n",
       "      <th>name</th>\n",
       "      <th>regDate</th>\n",
       "      <th>model</th>\n",
       "      <th>brand</th>\n",
       "      <th>bodyType</th>\n",
       "      <th>fuelType</th>\n",
       "      <th>gearbox</th>\n",
       "      <th>power</th>\n",
       "      <th>kilometer</th>\n",
       "      <th>notRepairedDamage</th>\n",
       "      <th>regionCode</th>\n",
       "      <th>seller</th>\n",
       "      <th>offerType</th>\n",
       "      <th>creatDate</th>\n",
       "      <th>price</th>\n",
       "      <th>v_0</th>\n",
       "      <th>v_1</th>\n",
       "      <th>v_2</th>\n",
       "      <th>v_3</th>\n",
       "      <th>v_4</th>\n",
       "      <th>v_5</th>\n",
       "      <th>v_6</th>\n",
       "      <th>v_7</th>\n",
       "      <th>v_8</th>\n",
       "      <th>v_9</th>\n",
       "      <th>v_10</th>\n",
       "      <th>v_11</th>\n",
       "      <th>v_12</th>\n",
       "      <th>v_13</th>\n",
       "      <th>v_14</th>\n",
       "    </tr>\n",
       "  </thead>\n",
       "  <tbody>\n",
       "    <tr>\n",
       "      <th>0</th>\n",
       "      <td>0</td>\n",
       "      <td>736</td>\n",
       "      <td>20040402</td>\n",
       "      <td>30.0</td>\n",
       "      <td>6</td>\n",
       "      <td>1.0</td>\n",
       "      <td>0.0</td>\n",
       "      <td>0.0</td>\n",
       "      <td>60</td>\n",
       "      <td>12.5</td>\n",
       "      <td>0.0</td>\n",
       "      <td>1046</td>\n",
       "      <td>0</td>\n",
       "      <td>0</td>\n",
       "      <td>20160404</td>\n",
       "      <td>1850</td>\n",
       "      <td>43.357796</td>\n",
       "      <td>3.966344</td>\n",
       "      <td>0.050257</td>\n",
       "      <td>2.159744</td>\n",
       "      <td>1.143786</td>\n",
       "      <td>0.235676</td>\n",
       "      <td>0.101988</td>\n",
       "      <td>0.129549</td>\n",
       "      <td>0.022816</td>\n",
       "      <td>0.097462</td>\n",
       "      <td>-2.881803</td>\n",
       "      <td>2.804097</td>\n",
       "      <td>-2.420821</td>\n",
       "      <td>0.795292</td>\n",
       "      <td>0.914762</td>\n",
       "    </tr>\n",
       "    <tr>\n",
       "      <th>1</th>\n",
       "      <td>1</td>\n",
       "      <td>2262</td>\n",
       "      <td>20030301</td>\n",
       "      <td>40.0</td>\n",
       "      <td>1</td>\n",
       "      <td>2.0</td>\n",
       "      <td>0.0</td>\n",
       "      <td>0.0</td>\n",
       "      <td>0</td>\n",
       "      <td>15.0</td>\n",
       "      <td>-</td>\n",
       "      <td>4366</td>\n",
       "      <td>0</td>\n",
       "      <td>0</td>\n",
       "      <td>20160309</td>\n",
       "      <td>3600</td>\n",
       "      <td>45.305273</td>\n",
       "      <td>5.236112</td>\n",
       "      <td>0.137925</td>\n",
       "      <td>1.380657</td>\n",
       "      <td>-1.422165</td>\n",
       "      <td>0.264777</td>\n",
       "      <td>0.121004</td>\n",
       "      <td>0.135731</td>\n",
       "      <td>0.026597</td>\n",
       "      <td>0.020582</td>\n",
       "      <td>-4.900482</td>\n",
       "      <td>2.096338</td>\n",
       "      <td>-1.030483</td>\n",
       "      <td>-1.722674</td>\n",
       "      <td>0.245522</td>\n",
       "    </tr>\n",
       "    <tr>\n",
       "      <th>2</th>\n",
       "      <td>2</td>\n",
       "      <td>14874</td>\n",
       "      <td>20040403</td>\n",
       "      <td>115.0</td>\n",
       "      <td>15</td>\n",
       "      <td>1.0</td>\n",
       "      <td>0.0</td>\n",
       "      <td>0.0</td>\n",
       "      <td>163</td>\n",
       "      <td>12.5</td>\n",
       "      <td>0.0</td>\n",
       "      <td>2806</td>\n",
       "      <td>0</td>\n",
       "      <td>0</td>\n",
       "      <td>20160402</td>\n",
       "      <td>6222</td>\n",
       "      <td>45.978359</td>\n",
       "      <td>4.823792</td>\n",
       "      <td>1.319524</td>\n",
       "      <td>-0.998467</td>\n",
       "      <td>-0.996911</td>\n",
       "      <td>0.251410</td>\n",
       "      <td>0.114912</td>\n",
       "      <td>0.165147</td>\n",
       "      <td>0.062173</td>\n",
       "      <td>0.027075</td>\n",
       "      <td>-4.846749</td>\n",
       "      <td>1.803559</td>\n",
       "      <td>1.565330</td>\n",
       "      <td>-0.832687</td>\n",
       "      <td>-0.229963</td>\n",
       "    </tr>\n",
       "    <tr>\n",
       "      <th>3</th>\n",
       "      <td>3</td>\n",
       "      <td>71865</td>\n",
       "      <td>19960908</td>\n",
       "      <td>109.0</td>\n",
       "      <td>10</td>\n",
       "      <td>0.0</td>\n",
       "      <td>0.0</td>\n",
       "      <td>1.0</td>\n",
       "      <td>193</td>\n",
       "      <td>15.0</td>\n",
       "      <td>0.0</td>\n",
       "      <td>434</td>\n",
       "      <td>0</td>\n",
       "      <td>0</td>\n",
       "      <td>20160312</td>\n",
       "      <td>2400</td>\n",
       "      <td>45.687478</td>\n",
       "      <td>4.492574</td>\n",
       "      <td>-0.050616</td>\n",
       "      <td>0.883600</td>\n",
       "      <td>-2.228079</td>\n",
       "      <td>0.274293</td>\n",
       "      <td>0.110300</td>\n",
       "      <td>0.121964</td>\n",
       "      <td>0.033395</td>\n",
       "      <td>0.000000</td>\n",
       "      <td>-4.509599</td>\n",
       "      <td>1.285940</td>\n",
       "      <td>-0.501868</td>\n",
       "      <td>-2.438353</td>\n",
       "      <td>-0.478699</td>\n",
       "    </tr>\n",
       "    <tr>\n",
       "      <th>4</th>\n",
       "      <td>4</td>\n",
       "      <td>111080</td>\n",
       "      <td>20120103</td>\n",
       "      <td>110.0</td>\n",
       "      <td>5</td>\n",
       "      <td>1.0</td>\n",
       "      <td>0.0</td>\n",
       "      <td>0.0</td>\n",
       "      <td>68</td>\n",
       "      <td>5.0</td>\n",
       "      <td>0.0</td>\n",
       "      <td>6977</td>\n",
       "      <td>0</td>\n",
       "      <td>0</td>\n",
       "      <td>20160313</td>\n",
       "      <td>5200</td>\n",
       "      <td>44.383511</td>\n",
       "      <td>2.031433</td>\n",
       "      <td>0.572169</td>\n",
       "      <td>-1.571239</td>\n",
       "      <td>2.246088</td>\n",
       "      <td>0.228036</td>\n",
       "      <td>0.073205</td>\n",
       "      <td>0.091880</td>\n",
       "      <td>0.078819</td>\n",
       "      <td>0.121534</td>\n",
       "      <td>-1.896240</td>\n",
       "      <td>0.910783</td>\n",
       "      <td>0.931110</td>\n",
       "      <td>2.834518</td>\n",
       "      <td>1.923482</td>\n",
       "    </tr>\n",
       "  </tbody>\n",
       "</table>\n",
       "</div>"
      ],
      "text/plain": [
       "   SaleID    name   regDate  model  brand  bodyType  fuelType  gearbox  power  \\\n",
       "0       0     736  20040402   30.0      6       1.0       0.0      0.0     60   \n",
       "1       1    2262  20030301   40.0      1       2.0       0.0      0.0      0   \n",
       "2       2   14874  20040403  115.0     15       1.0       0.0      0.0    163   \n",
       "3       3   71865  19960908  109.0     10       0.0       0.0      1.0    193   \n",
       "4       4  111080  20120103  110.0      5       1.0       0.0      0.0     68   \n",
       "\n",
       "   kilometer notRepairedDamage  regionCode  seller  offerType  creatDate  \\\n",
       "0       12.5               0.0        1046       0          0   20160404   \n",
       "1       15.0                 -        4366       0          0   20160309   \n",
       "2       12.5               0.0        2806       0          0   20160402   \n",
       "3       15.0               0.0         434       0          0   20160312   \n",
       "4        5.0               0.0        6977       0          0   20160313   \n",
       "\n",
       "   price        v_0       v_1       v_2       v_3       v_4       v_5  \\\n",
       "0   1850  43.357796  3.966344  0.050257  2.159744  1.143786  0.235676   \n",
       "1   3600  45.305273  5.236112  0.137925  1.380657 -1.422165  0.264777   \n",
       "2   6222  45.978359  4.823792  1.319524 -0.998467 -0.996911  0.251410   \n",
       "3   2400  45.687478  4.492574 -0.050616  0.883600 -2.228079  0.274293   \n",
       "4   5200  44.383511  2.031433  0.572169 -1.571239  2.246088  0.228036   \n",
       "\n",
       "        v_6       v_7       v_8       v_9      v_10      v_11      v_12  \\\n",
       "0  0.101988  0.129549  0.022816  0.097462 -2.881803  2.804097 -2.420821   \n",
       "1  0.121004  0.135731  0.026597  0.020582 -4.900482  2.096338 -1.030483   \n",
       "2  0.114912  0.165147  0.062173  0.027075 -4.846749  1.803559  1.565330   \n",
       "3  0.110300  0.121964  0.033395  0.000000 -4.509599  1.285940 -0.501868   \n",
       "4  0.073205  0.091880  0.078819  0.121534 -1.896240  0.910783  0.931110   \n",
       "\n",
       "       v_13      v_14  \n",
       "0  0.795292  0.914762  \n",
       "1 -1.722674  0.245522  \n",
       "2 -0.832687 -0.229963  \n",
       "3 -2.438353 -0.478699  \n",
       "4  2.834518  1.923482  "
      ]
     },
     "execution_count": 31,
     "metadata": {},
     "output_type": "execute_result"
    }
   ],
   "source": [
    "train = pd.read_csv('./data/used_car_train_20200313.csv', sep=' ')\n",
    "train.head()"
   ]
  },
  {
   "cell_type": "code",
   "execution_count": 32,
   "metadata": {
    "execution": {
     "iopub.execute_input": "2021-04-18T16:10:44.989424Z",
     "iopub.status.busy": "2021-04-18T16:10:44.989424Z",
     "iopub.status.idle": "2021-04-18T16:10:45.395339Z",
     "shell.execute_reply": "2021-04-18T16:10:45.394340Z",
     "shell.execute_reply.started": "2021-04-18T16:10:44.989424Z"
    }
   },
   "outputs": [
    {
     "data": {
      "text/html": [
       "<div>\n",
       "<style scoped>\n",
       "    .dataframe tbody tr th:only-of-type {\n",
       "        vertical-align: middle;\n",
       "    }\n",
       "\n",
       "    .dataframe tbody tr th {\n",
       "        vertical-align: top;\n",
       "    }\n",
       "\n",
       "    .dataframe thead th {\n",
       "        text-align: right;\n",
       "    }\n",
       "</style>\n",
       "<table border=\"1\" class=\"dataframe\">\n",
       "  <thead>\n",
       "    <tr style=\"text-align: right;\">\n",
       "      <th></th>\n",
       "      <th>SaleID</th>\n",
       "      <th>name</th>\n",
       "      <th>regDate</th>\n",
       "      <th>model</th>\n",
       "      <th>brand</th>\n",
       "      <th>bodyType</th>\n",
       "      <th>fuelType</th>\n",
       "      <th>gearbox</th>\n",
       "      <th>power</th>\n",
       "      <th>kilometer</th>\n",
       "      <th>notRepairedDamage</th>\n",
       "      <th>regionCode</th>\n",
       "      <th>seller</th>\n",
       "      <th>offerType</th>\n",
       "      <th>creatDate</th>\n",
       "      <th>v_0</th>\n",
       "      <th>v_1</th>\n",
       "      <th>v_2</th>\n",
       "      <th>v_3</th>\n",
       "      <th>v_4</th>\n",
       "      <th>v_5</th>\n",
       "      <th>v_6</th>\n",
       "      <th>v_7</th>\n",
       "      <th>v_8</th>\n",
       "      <th>v_9</th>\n",
       "      <th>v_10</th>\n",
       "      <th>v_11</th>\n",
       "      <th>v_12</th>\n",
       "      <th>v_13</th>\n",
       "      <th>v_14</th>\n",
       "      <th>price</th>\n",
       "    </tr>\n",
       "  </thead>\n",
       "  <tbody>\n",
       "    <tr>\n",
       "      <th>0</th>\n",
       "      <td>200000</td>\n",
       "      <td>133777</td>\n",
       "      <td>20000501</td>\n",
       "      <td>67.0</td>\n",
       "      <td>0</td>\n",
       "      <td>1.0</td>\n",
       "      <td>0.0</td>\n",
       "      <td>0.0</td>\n",
       "      <td>101</td>\n",
       "      <td>15.0</td>\n",
       "      <td>0.0</td>\n",
       "      <td>5019</td>\n",
       "      <td>0</td>\n",
       "      <td>0</td>\n",
       "      <td>20160308</td>\n",
       "      <td>42.142061</td>\n",
       "      <td>-3.094739</td>\n",
       "      <td>-0.721300</td>\n",
       "      <td>1.466344</td>\n",
       "      <td>1.009846</td>\n",
       "      <td>0.236520</td>\n",
       "      <td>0.000241</td>\n",
       "      <td>0.105319</td>\n",
       "      <td>0.046233</td>\n",
       "      <td>0.094522</td>\n",
       "      <td>3.619512</td>\n",
       "      <td>-0.280607</td>\n",
       "      <td>-2.019761</td>\n",
       "      <td>0.978828</td>\n",
       "      <td>0.803322</td>\n",
       "      <td>-1</td>\n",
       "    </tr>\n",
       "    <tr>\n",
       "      <th>1</th>\n",
       "      <td>200001</td>\n",
       "      <td>61206</td>\n",
       "      <td>19950211</td>\n",
       "      <td>19.0</td>\n",
       "      <td>6</td>\n",
       "      <td>2.0</td>\n",
       "      <td>0.0</td>\n",
       "      <td>0.0</td>\n",
       "      <td>73</td>\n",
       "      <td>6.0</td>\n",
       "      <td>0.0</td>\n",
       "      <td>1505</td>\n",
       "      <td>0</td>\n",
       "      <td>0</td>\n",
       "      <td>20160310</td>\n",
       "      <td>43.907034</td>\n",
       "      <td>-3.244605</td>\n",
       "      <td>-0.766430</td>\n",
       "      <td>1.276718</td>\n",
       "      <td>-1.065338</td>\n",
       "      <td>0.261518</td>\n",
       "      <td>0.000000</td>\n",
       "      <td>0.120323</td>\n",
       "      <td>0.046784</td>\n",
       "      <td>0.035385</td>\n",
       "      <td>2.997376</td>\n",
       "      <td>-1.406705</td>\n",
       "      <td>-1.020884</td>\n",
       "      <td>-1.349990</td>\n",
       "      <td>-0.200542</td>\n",
       "      <td>-1</td>\n",
       "    </tr>\n",
       "    <tr>\n",
       "      <th>2</th>\n",
       "      <td>200002</td>\n",
       "      <td>67829</td>\n",
       "      <td>20090606</td>\n",
       "      <td>5.0</td>\n",
       "      <td>5</td>\n",
       "      <td>4.0</td>\n",
       "      <td>0.0</td>\n",
       "      <td>0.0</td>\n",
       "      <td>120</td>\n",
       "      <td>5.0</td>\n",
       "      <td>-</td>\n",
       "      <td>1776</td>\n",
       "      <td>0</td>\n",
       "      <td>0</td>\n",
       "      <td>20160309</td>\n",
       "      <td>45.389665</td>\n",
       "      <td>3.372384</td>\n",
       "      <td>-0.965565</td>\n",
       "      <td>-2.447316</td>\n",
       "      <td>0.624268</td>\n",
       "      <td>0.261691</td>\n",
       "      <td>0.090836</td>\n",
       "      <td>0.000000</td>\n",
       "      <td>0.079655</td>\n",
       "      <td>0.073586</td>\n",
       "      <td>-3.951084</td>\n",
       "      <td>-0.433467</td>\n",
       "      <td>0.918964</td>\n",
       "      <td>1.634604</td>\n",
       "      <td>1.027173</td>\n",
       "      <td>-1</td>\n",
       "    </tr>\n",
       "    <tr>\n",
       "      <th>3</th>\n",
       "      <td>200003</td>\n",
       "      <td>8892</td>\n",
       "      <td>20020601</td>\n",
       "      <td>22.0</td>\n",
       "      <td>9</td>\n",
       "      <td>1.0</td>\n",
       "      <td>0.0</td>\n",
       "      <td>0.0</td>\n",
       "      <td>58</td>\n",
       "      <td>15.0</td>\n",
       "      <td>0.0</td>\n",
       "      <td>26</td>\n",
       "      <td>0</td>\n",
       "      <td>0</td>\n",
       "      <td>20160314</td>\n",
       "      <td>42.788775</td>\n",
       "      <td>4.035052</td>\n",
       "      <td>-0.217403</td>\n",
       "      <td>1.708806</td>\n",
       "      <td>1.119165</td>\n",
       "      <td>0.236050</td>\n",
       "      <td>0.101777</td>\n",
       "      <td>0.098950</td>\n",
       "      <td>0.026830</td>\n",
       "      <td>0.096614</td>\n",
       "      <td>-2.846788</td>\n",
       "      <td>2.800267</td>\n",
       "      <td>-2.524610</td>\n",
       "      <td>1.076819</td>\n",
       "      <td>0.461610</td>\n",
       "      <td>-1</td>\n",
       "    </tr>\n",
       "    <tr>\n",
       "      <th>4</th>\n",
       "      <td>200004</td>\n",
       "      <td>76998</td>\n",
       "      <td>20030301</td>\n",
       "      <td>46.0</td>\n",
       "      <td>6</td>\n",
       "      <td>0.0</td>\n",
       "      <td>NaN</td>\n",
       "      <td>0.0</td>\n",
       "      <td>116</td>\n",
       "      <td>15.0</td>\n",
       "      <td>0.0</td>\n",
       "      <td>738</td>\n",
       "      <td>0</td>\n",
       "      <td>0</td>\n",
       "      <td>20160306</td>\n",
       "      <td>43.670763</td>\n",
       "      <td>-3.135382</td>\n",
       "      <td>-1.134107</td>\n",
       "      <td>0.470315</td>\n",
       "      <td>0.134032</td>\n",
       "      <td>0.257000</td>\n",
       "      <td>0.000000</td>\n",
       "      <td>0.066732</td>\n",
       "      <td>0.057771</td>\n",
       "      <td>0.068852</td>\n",
       "      <td>2.839010</td>\n",
       "      <td>-1.659801</td>\n",
       "      <td>-0.924142</td>\n",
       "      <td>0.199423</td>\n",
       "      <td>0.451014</td>\n",
       "      <td>-1</td>\n",
       "    </tr>\n",
       "  </tbody>\n",
       "</table>\n",
       "</div>"
      ],
      "text/plain": [
       "   SaleID    name   regDate  model  brand  bodyType  fuelType  gearbox  power  \\\n",
       "0  200000  133777  20000501   67.0      0       1.0       0.0      0.0    101   \n",
       "1  200001   61206  19950211   19.0      6       2.0       0.0      0.0     73   \n",
       "2  200002   67829  20090606    5.0      5       4.0       0.0      0.0    120   \n",
       "3  200003    8892  20020601   22.0      9       1.0       0.0      0.0     58   \n",
       "4  200004   76998  20030301   46.0      6       0.0       NaN      0.0    116   \n",
       "\n",
       "   kilometer notRepairedDamage  regionCode  seller  offerType  creatDate  \\\n",
       "0       15.0               0.0        5019       0          0   20160308   \n",
       "1        6.0               0.0        1505       0          0   20160310   \n",
       "2        5.0                 -        1776       0          0   20160309   \n",
       "3       15.0               0.0          26       0          0   20160314   \n",
       "4       15.0               0.0         738       0          0   20160306   \n",
       "\n",
       "         v_0       v_1       v_2       v_3       v_4       v_5       v_6  \\\n",
       "0  42.142061 -3.094739 -0.721300  1.466344  1.009846  0.236520  0.000241   \n",
       "1  43.907034 -3.244605 -0.766430  1.276718 -1.065338  0.261518  0.000000   \n",
       "2  45.389665  3.372384 -0.965565 -2.447316  0.624268  0.261691  0.090836   \n",
       "3  42.788775  4.035052 -0.217403  1.708806  1.119165  0.236050  0.101777   \n",
       "4  43.670763 -3.135382 -1.134107  0.470315  0.134032  0.257000  0.000000   \n",
       "\n",
       "        v_7       v_8       v_9      v_10      v_11      v_12      v_13  \\\n",
       "0  0.105319  0.046233  0.094522  3.619512 -0.280607 -2.019761  0.978828   \n",
       "1  0.120323  0.046784  0.035385  2.997376 -1.406705 -1.020884 -1.349990   \n",
       "2  0.000000  0.079655  0.073586 -3.951084 -0.433467  0.918964  1.634604   \n",
       "3  0.098950  0.026830  0.096614 -2.846788  2.800267 -2.524610  1.076819   \n",
       "4  0.066732  0.057771  0.068852  2.839010 -1.659801 -0.924142  0.199423   \n",
       "\n",
       "       v_14  price  \n",
       "0  0.803322     -1  \n",
       "1 -0.200542     -1  \n",
       "2  1.027173     -1  \n",
       "3  0.461610     -1  \n",
       "4  0.451014     -1  "
      ]
     },
     "execution_count": 32,
     "metadata": {},
     "output_type": "execute_result"
    }
   ],
   "source": [
    "test = pd.read_csv('./data/used_car_testB_20200421.csv', sep=' ')\n",
    "test['price'] = -1\n",
    "test.head()"
   ]
  },
  {
   "cell_type": "code",
   "execution_count": 81,
   "metadata": {
    "execution": {
     "iopub.execute_input": "2021-04-18T16:19:37.287207Z",
     "iopub.status.busy": "2021-04-18T16:19:37.287207Z",
     "iopub.status.idle": "2021-04-18T16:19:37.484677Z",
     "shell.execute_reply": "2021-04-18T16:19:37.483707Z",
     "shell.execute_reply.started": "2021-04-18T16:19:37.287207Z"
    }
   },
   "outputs": [
    {
     "data": {
      "text/html": [
       "<div>\n",
       "<style scoped>\n",
       "    .dataframe tbody tr th:only-of-type {\n",
       "        vertical-align: middle;\n",
       "    }\n",
       "\n",
       "    .dataframe tbody tr th {\n",
       "        vertical-align: top;\n",
       "    }\n",
       "\n",
       "    .dataframe thead th {\n",
       "        text-align: right;\n",
       "    }\n",
       "</style>\n",
       "<table border=\"1\" class=\"dataframe\">\n",
       "  <thead>\n",
       "    <tr style=\"text-align: right;\">\n",
       "      <th></th>\n",
       "      <th>SaleID</th>\n",
       "      <th>name</th>\n",
       "      <th>regDate</th>\n",
       "      <th>model</th>\n",
       "      <th>brand</th>\n",
       "      <th>bodyType</th>\n",
       "      <th>fuelType</th>\n",
       "      <th>gearbox</th>\n",
       "      <th>power</th>\n",
       "      <th>kilometer</th>\n",
       "      <th>notRepairedDamage</th>\n",
       "      <th>regionCode</th>\n",
       "      <th>seller</th>\n",
       "      <th>offerType</th>\n",
       "      <th>creatDate</th>\n",
       "      <th>price</th>\n",
       "      <th>v_0</th>\n",
       "      <th>v_1</th>\n",
       "      <th>v_2</th>\n",
       "      <th>v_3</th>\n",
       "      <th>v_4</th>\n",
       "      <th>v_5</th>\n",
       "      <th>v_6</th>\n",
       "      <th>v_7</th>\n",
       "      <th>v_8</th>\n",
       "      <th>v_9</th>\n",
       "      <th>v_10</th>\n",
       "      <th>v_11</th>\n",
       "      <th>v_12</th>\n",
       "      <th>v_13</th>\n",
       "      <th>v_14</th>\n",
       "    </tr>\n",
       "  </thead>\n",
       "  <tbody>\n",
       "    <tr>\n",
       "      <th>146588</th>\n",
       "      <td>146588</td>\n",
       "      <td>166640</td>\n",
       "      <td>20021012</td>\n",
       "      <td>64.0</td>\n",
       "      <td>21</td>\n",
       "      <td>1.0</td>\n",
       "      <td>0.0</td>\n",
       "      <td>0.0</td>\n",
       "      <td>82</td>\n",
       "      <td>0.5</td>\n",
       "      <td>0.0</td>\n",
       "      <td>997</td>\n",
       "      <td>0</td>\n",
       "      <td>0</td>\n",
       "      <td>20160320</td>\n",
       "      <td>1500</td>\n",
       "      <td>42.064834</td>\n",
       "      <td>-3.013426</td>\n",
       "      <td>-0.730514</td>\n",
       "      <td>0.254391</td>\n",
       "      <td>2.116582</td>\n",
       "      <td>0.228619</td>\n",
       "      <td>0.000385</td>\n",
       "      <td>0.069095</td>\n",
       "      <td>0.063049</td>\n",
       "      <td>0.125886</td>\n",
       "      <td>3.427419</td>\n",
       "      <td>-0.514745</td>\n",
       "      <td>-1.313054</td>\n",
       "      <td>2.248451</td>\n",
       "      <td>-0.921430</td>\n",
       "    </tr>\n",
       "    <tr>\n",
       "      <th>147295</th>\n",
       "      <td>147295</td>\n",
       "      <td>51929</td>\n",
       "      <td>20150512</td>\n",
       "      <td>8.0</td>\n",
       "      <td>0</td>\n",
       "      <td>2.0</td>\n",
       "      <td>0.0</td>\n",
       "      <td>0.0</td>\n",
       "      <td>150</td>\n",
       "      <td>2.0</td>\n",
       "      <td>0.0</td>\n",
       "      <td>5563</td>\n",
       "      <td>0</td>\n",
       "      <td>0</td>\n",
       "      <td>20160308</td>\n",
       "      <td>33500</td>\n",
       "      <td>47.691261</td>\n",
       "      <td>-3.180706</td>\n",
       "      <td>1.135672</td>\n",
       "      <td>-4.104319</td>\n",
       "      <td>0.301698</td>\n",
       "      <td>0.252471</td>\n",
       "      <td>0.001445</td>\n",
       "      <td>0.135307</td>\n",
       "      <td>0.125489</td>\n",
       "      <td>0.060134</td>\n",
       "      <td>1.241553</td>\n",
       "      <td>-3.279612</td>\n",
       "      <td>5.104327</td>\n",
       "      <td>0.879486</td>\n",
       "      <td>1.969089</td>\n",
       "    </tr>\n",
       "    <tr>\n",
       "      <th>145485</th>\n",
       "      <td>145485</td>\n",
       "      <td>21736</td>\n",
       "      <td>20010502</td>\n",
       "      <td>168.0</td>\n",
       "      <td>0</td>\n",
       "      <td>2.0</td>\n",
       "      <td>0.0</td>\n",
       "      <td>0.0</td>\n",
       "      <td>105</td>\n",
       "      <td>15.0</td>\n",
       "      <td>0.0</td>\n",
       "      <td>4600</td>\n",
       "      <td>0</td>\n",
       "      <td>0</td>\n",
       "      <td>20160322</td>\n",
       "      <td>1490</td>\n",
       "      <td>43.180223</td>\n",
       "      <td>-3.148504</td>\n",
       "      <td>-1.085439</td>\n",
       "      <td>1.138917</td>\n",
       "      <td>0.652279</td>\n",
       "      <td>0.249591</td>\n",
       "      <td>0.000000</td>\n",
       "      <td>0.080361</td>\n",
       "      <td>0.049798</td>\n",
       "      <td>0.084941</td>\n",
       "      <td>3.144257</td>\n",
       "      <td>-1.188871</td>\n",
       "      <td>-1.561363</td>\n",
       "      <td>0.502869</td>\n",
       "      <td>0.250584</td>\n",
       "    </tr>\n",
       "    <tr>\n",
       "      <th>78452</th>\n",
       "      <td>78452</td>\n",
       "      <td>134758</td>\n",
       "      <td>20100602</td>\n",
       "      <td>0.0</td>\n",
       "      <td>0</td>\n",
       "      <td>0.0</td>\n",
       "      <td>0.0</td>\n",
       "      <td>0.0</td>\n",
       "      <td>211</td>\n",
       "      <td>7.0</td>\n",
       "      <td>0.0</td>\n",
       "      <td>6353</td>\n",
       "      <td>0</td>\n",
       "      <td>0</td>\n",
       "      <td>20160329</td>\n",
       "      <td>14999</td>\n",
       "      <td>46.776441</td>\n",
       "      <td>-3.196202</td>\n",
       "      <td>0.362325</td>\n",
       "      <td>-2.556519</td>\n",
       "      <td>0.080976</td>\n",
       "      <td>0.257737</td>\n",
       "      <td>0.000950</td>\n",
       "      <td>0.114008</td>\n",
       "      <td>0.102982</td>\n",
       "      <td>0.058928</td>\n",
       "      <td>1.635424</td>\n",
       "      <td>-2.979179</td>\n",
       "      <td>3.262049</td>\n",
       "      <td>0.384192</td>\n",
       "      <td>1.496631</td>\n",
       "    </tr>\n",
       "    <tr>\n",
       "      <th>17082</th>\n",
       "      <td>17082</td>\n",
       "      <td>14634</td>\n",
       "      <td>20040410</td>\n",
       "      <td>40.0</td>\n",
       "      <td>1</td>\n",
       "      <td>4.0</td>\n",
       "      <td>1.0</td>\n",
       "      <td>0.0</td>\n",
       "      <td>163</td>\n",
       "      <td>15.0</td>\n",
       "      <td>-</td>\n",
       "      <td>3330</td>\n",
       "      <td>0</td>\n",
       "      <td>0</td>\n",
       "      <td>20160322</td>\n",
       "      <td>6199</td>\n",
       "      <td>46.952337</td>\n",
       "      <td>4.526694</td>\n",
       "      <td>-0.295264</td>\n",
       "      <td>-0.293357</td>\n",
       "      <td>-1.365038</td>\n",
       "      <td>0.279566</td>\n",
       "      <td>0.110934</td>\n",
       "      <td>0.078426</td>\n",
       "      <td>0.050275</td>\n",
       "      <td>0.021626</td>\n",
       "      <td>-5.198257</td>\n",
       "      <td>0.227531</td>\n",
       "      <td>0.561709</td>\n",
       "      <td>-1.426143</td>\n",
       "      <td>0.513853</td>\n",
       "    </tr>\n",
       "  </tbody>\n",
       "</table>\n",
       "</div>"
      ],
      "text/plain": [
       "        SaleID    name   regDate  model  brand  bodyType  fuelType  gearbox  \\\n",
       "146588  146588  166640  20021012   64.0     21       1.0       0.0      0.0   \n",
       "147295  147295   51929  20150512    8.0      0       2.0       0.0      0.0   \n",
       "145485  145485   21736  20010502  168.0      0       2.0       0.0      0.0   \n",
       "78452    78452  134758  20100602    0.0      0       0.0       0.0      0.0   \n",
       "17082    17082   14634  20040410   40.0      1       4.0       1.0      0.0   \n",
       "\n",
       "        power  kilometer notRepairedDamage  regionCode  seller  offerType  \\\n",
       "146588     82        0.5               0.0         997       0          0   \n",
       "147295    150        2.0               0.0        5563       0          0   \n",
       "145485    105       15.0               0.0        4600       0          0   \n",
       "78452     211        7.0               0.0        6353       0          0   \n",
       "17082     163       15.0                 -        3330       0          0   \n",
       "\n",
       "        creatDate  price        v_0       v_1       v_2       v_3       v_4  \\\n",
       "146588   20160320   1500  42.064834 -3.013426 -0.730514  0.254391  2.116582   \n",
       "147295   20160308  33500  47.691261 -3.180706  1.135672 -4.104319  0.301698   \n",
       "145485   20160322   1490  43.180223 -3.148504 -1.085439  1.138917  0.652279   \n",
       "78452    20160329  14999  46.776441 -3.196202  0.362325 -2.556519  0.080976   \n",
       "17082    20160322   6199  46.952337  4.526694 -0.295264 -0.293357 -1.365038   \n",
       "\n",
       "             v_5       v_6       v_7       v_8       v_9      v_10      v_11  \\\n",
       "146588  0.228619  0.000385  0.069095  0.063049  0.125886  3.427419 -0.514745   \n",
       "147295  0.252471  0.001445  0.135307  0.125489  0.060134  1.241553 -3.279612   \n",
       "145485  0.249591  0.000000  0.080361  0.049798  0.084941  3.144257 -1.188871   \n",
       "78452   0.257737  0.000950  0.114008  0.102982  0.058928  1.635424 -2.979179   \n",
       "17082   0.279566  0.110934  0.078426  0.050275  0.021626 -5.198257  0.227531   \n",
       "\n",
       "            v_12      v_13      v_14  \n",
       "146588 -1.313054  2.248451 -0.921430  \n",
       "147295  5.104327  0.879486  1.969089  \n",
       "145485 -1.561363  0.502869  0.250584  \n",
       "78452   3.262049  0.384192  1.496631  \n",
       "17082   0.561709 -1.426143  0.513853  "
      ]
     },
     "execution_count": 81,
     "metadata": {},
     "output_type": "execute_result"
    }
   ],
   "source": [
    "data = pd.concat([train, test], axis=0, ignore_index=True)\n",
    "data.sample(5)"
   ]
  },
  {
   "cell_type": "markdown",
   "metadata": {},
   "source": [
    "## 数据探索与处理"
   ]
  },
  {
   "cell_type": "code",
   "execution_count": 11,
   "metadata": {},
   "outputs": [
    {
     "data": {
      "application/vnd.jupyter.widget-view+json": {
       "model_id": "d1877218b1da4b40abfb6a50ed29e2cf",
       "version_major": 2,
       "version_minor": 0
      },
      "text/plain": [
       "HBox(children=(HTML(value='Summarize dataset'), FloatProgress(value=0.0, max=45.0), HTML(value='')))"
      ]
     },
     "metadata": {},
     "output_type": "display_data"
    },
    {
     "name": "stdout",
     "output_type": "stream",
     "text": [
      "\n"
     ]
    },
    {
     "data": {
      "application/vnd.jupyter.widget-view+json": {
       "model_id": "374dead6427a4597b16815b8702171e8",
       "version_major": 2,
       "version_minor": 0
      },
      "text/plain": [
       "HBox(children=(HTML(value='Generate report structure'), FloatProgress(value=0.0, max=1.0), HTML(value='')))"
      ]
     },
     "metadata": {},
     "output_type": "display_data"
    },
    {
     "name": "stdout",
     "output_type": "stream",
     "text": [
      "\n"
     ]
    },
    {
     "data": {
      "application/vnd.jupyter.widget-view+json": {
       "model_id": "b3fdb7030d77450e84df81987e1e3c25",
       "version_major": 2,
       "version_minor": 0
      },
      "text/plain": [
       "HBox(children=(HTML(value='Render HTML'), FloatProgress(value=0.0, max=1.0), HTML(value='')))"
      ]
     },
     "metadata": {},
     "output_type": "display_data"
    },
    {
     "name": "stdout",
     "output_type": "stream",
     "text": [
      "\n"
     ]
    },
    {
     "data": {
      "application/vnd.jupyter.widget-view+json": {
       "model_id": "05d325d4783c4d72bd99abc17e808d84",
       "version_major": 2,
       "version_minor": 0
      },
      "text/plain": [
       "HBox(children=(HTML(value='Export report to file'), FloatProgress(value=0.0, max=1.0), HTML(value='')))"
      ]
     },
     "metadata": {},
     "output_type": "display_data"
    },
    {
     "name": "stdout",
     "output_type": "stream",
     "text": [
      "\n",
      "CPU times: user 7min 31s, sys: 9.25 s, total: 7min 40s\n",
      "Wall time: 44min 33s\n"
     ]
    }
   ],
   "source": [
    "# %%time\n",
    "# # 生成数据探索报告\n",
    "# report = ppf.ProfileReport(train)\n",
    "# report.to_file('report.html')"
   ]
  },
  {
   "cell_type": "code",
   "execution_count": 34,
   "metadata": {
    "execution": {
     "iopub.execute_input": "2021-04-18T16:10:47.948316Z",
     "iopub.status.busy": "2021-04-18T16:10:47.947306Z",
     "iopub.status.idle": "2021-04-18T16:10:47.954298Z",
     "shell.execute_reply": "2021-04-18T16:10:47.953290Z",
     "shell.execute_reply.started": "2021-04-18T16:10:47.948316Z"
    }
   },
   "outputs": [],
   "source": [
    "# 可去除的columns\n",
    "drop_cols = ['SaleID', 'offerType', 'seller']\n",
    "# 类别columns\n",
    "cat_cols = ['name', 'model', 'brand', 'bodyType', 'fuelType', 'gearbox', 'notRepairedDamage', 'regionCode']\n",
    "# 日期columns\n",
    "date_cols = ['regDate', 'creatDate']"
   ]
  },
  {
   "cell_type": "markdown",
   "metadata": {},
   "source": [
    "### 异常值处理"
   ]
  },
  {
   "cell_type": "code",
   "execution_count": 7,
   "metadata": {
    "execution": {
     "iopub.execute_input": "2021-04-18T16:01:37.656090Z",
     "iopub.status.busy": "2021-04-18T16:01:37.656090Z",
     "iopub.status.idle": "2021-04-18T16:01:37.678029Z",
     "shell.execute_reply": "2021-04-18T16:01:37.677032Z",
     "shell.execute_reply.started": "2021-04-18T16:01:37.656090Z"
    }
   },
   "outputs": [
    {
     "data": {
      "text/plain": [
       "count    200000.000000\n",
       "mean        119.429150\n",
       "std         184.885438\n",
       "min           0.000000\n",
       "25%          75.000000\n",
       "50%         110.000000\n",
       "75%         150.000000\n",
       "max       19312.000000\n",
       "Name: power, dtype: float64"
      ]
     },
     "execution_count": 7,
     "metadata": {},
     "output_type": "execute_result"
    }
   ],
   "source": [
    "data['power'].describe()"
   ]
  },
  {
   "cell_type": "code",
   "execution_count": 82,
   "metadata": {
    "execution": {
     "iopub.execute_input": "2021-04-18T16:19:40.848091Z",
     "iopub.status.busy": "2021-04-18T16:19:40.848091Z",
     "iopub.status.idle": "2021-04-18T16:19:40.866073Z",
     "shell.execute_reply": "2021-04-18T16:19:40.866073Z",
     "shell.execute_reply.started": "2021-04-18T16:19:40.848091Z"
    }
   },
   "outputs": [
    {
     "data": {
      "text/plain": [
       "count    200000.000000\n",
       "mean        116.840595\n",
       "std          70.659432\n",
       "min           0.000000\n",
       "25%          75.000000\n",
       "50%         110.000000\n",
       "75%         150.000000\n",
       "max         674.000000\n",
       "Name: power, dtype: float64"
      ]
     },
     "execution_count": 82,
     "metadata": {},
     "output_type": "execute_result"
    }
   ],
   "source": [
    "temp = int(data['power'].mean() + 3 * data['power'].std())\n",
    "data['power'][data['power'] > temp] = temp\n",
    "data['power'].describe()"
   ]
  },
  {
   "cell_type": "code",
   "execution_count": 83,
   "metadata": {
    "execution": {
     "iopub.execute_input": "2021-04-18T16:19:41.088700Z",
     "iopub.status.busy": "2021-04-18T16:19:41.088700Z",
     "iopub.status.idle": "2021-04-18T16:19:41.111639Z",
     "shell.execute_reply": "2021-04-18T16:19:41.111639Z",
     "shell.execute_reply.started": "2021-04-18T16:19:41.088700Z"
    }
   },
   "outputs": [
    {
     "data": {
      "text/plain": [
       "0.0    148585\n",
       "-       32393\n",
       "1.0     19022\n",
       "Name: notRepairedDamage, dtype: int64"
      ]
     },
     "execution_count": 83,
     "metadata": {},
     "output_type": "execute_result"
    }
   ],
   "source": [
    "data['notRepairedDamage'].value_counts()"
   ]
  },
  {
   "cell_type": "code",
   "execution_count": 84,
   "metadata": {
    "execution": {
     "iopub.execute_input": "2021-04-18T16:19:41.407403Z",
     "iopub.status.busy": "2021-04-18T16:19:41.407403Z",
     "iopub.status.idle": "2021-04-18T16:19:41.455274Z",
     "shell.execute_reply": "2021-04-18T16:19:41.454289Z",
     "shell.execute_reply.started": "2021-04-18T16:19:41.407403Z"
    }
   },
   "outputs": [
    {
     "data": {
      "text/plain": [
       "0.0    148585\n",
       "2.0     32393\n",
       "1.0     19022\n",
       "Name: notRepairedDamage, dtype: int64"
      ]
     },
     "execution_count": 84,
     "metadata": {},
     "output_type": "execute_result"
    }
   ],
   "source": [
    "data['notRepairedDamage'].replace('-', '2', inplace=True)\n",
    "data['notRepairedDamage'] = data['notRepairedDamage'].astype('float64')\n",
    "data['notRepairedDamage'].value_counts()"
   ]
  },
  {
   "cell_type": "markdown",
   "metadata": {},
   "source": [
    "### 缺失值处理"
   ]
  },
  {
   "cell_type": "code",
   "execution_count": 85,
   "metadata": {
    "execution": {
     "iopub.execute_input": "2021-04-18T16:19:42.272678Z",
     "iopub.status.busy": "2021-04-18T16:19:42.272678Z",
     "iopub.status.idle": "2021-04-18T16:19:42.376401Z",
     "shell.execute_reply": "2021-04-18T16:19:42.376401Z",
     "shell.execute_reply.started": "2021-04-18T16:19:42.272678Z"
    }
   },
   "outputs": [
    {
     "data": {
      "text/plain": [
       "model       0.000005\n",
       "bodyType    0.030050\n",
       "fuelType    0.058020\n",
       "gearbox     0.039745\n",
       "dtype: float64"
      ]
     },
     "execution_count": 85,
     "metadata": {},
     "output_type": "execute_result"
    }
   ],
   "source": [
    "data.isna().sum()[data.isna().any()] / data.shape[0]"
   ]
  },
  {
   "cell_type": "code",
   "execution_count": 86,
   "metadata": {
    "execution": {
     "iopub.execute_input": "2021-04-18T16:19:42.609146Z",
     "iopub.status.busy": "2021-04-18T16:19:42.609146Z",
     "iopub.status.idle": "2021-04-18T16:19:42.674970Z",
     "shell.execute_reply": "2021-04-18T16:19:42.673972Z",
     "shell.execute_reply.started": "2021-04-18T16:19:42.609146Z"
    }
   },
   "outputs": [
    {
     "data": {
      "text/plain": [
       "False"
      ]
     },
     "execution_count": 86,
     "metadata": {},
     "output_type": "execute_result"
    }
   ],
   "source": [
    "# 确实比例都不大，且都为类别数据，因此都是用众数填充\n",
    "for col in ['model', 'bodyType', 'fuelType', 'gearbox']:\n",
    "    data[col] = data[col].fillna(data[col].mode()[0])\n",
    "data.isna().sum().any()"
   ]
  },
  {
   "cell_type": "markdown",
   "metadata": {},
   "source": [
    "### 日期数据处理"
   ]
  },
  {
   "cell_type": "code",
   "execution_count": 66,
   "metadata": {
    "execution": {
     "iopub.execute_input": "2021-04-18T16:14:13.209811Z",
     "iopub.status.busy": "2021-04-18T16:14:13.208814Z",
     "iopub.status.idle": "2021-04-18T16:14:13.221780Z",
     "shell.execute_reply": "2021-04-18T16:14:13.220781Z",
     "shell.execute_reply.started": "2021-04-18T16:14:13.209811Z"
    }
   },
   "outputs": [
    {
     "data": {
      "text/html": [
       "<div>\n",
       "<style scoped>\n",
       "    .dataframe tbody tr th:only-of-type {\n",
       "        vertical-align: middle;\n",
       "    }\n",
       "\n",
       "    .dataframe tbody tr th {\n",
       "        vertical-align: top;\n",
       "    }\n",
       "\n",
       "    .dataframe thead th {\n",
       "        text-align: right;\n",
       "    }\n",
       "</style>\n",
       "<table border=\"1\" class=\"dataframe\">\n",
       "  <thead>\n",
       "    <tr style=\"text-align: right;\">\n",
       "      <th></th>\n",
       "      <th>regDate</th>\n",
       "      <th>creatDate</th>\n",
       "    </tr>\n",
       "  </thead>\n",
       "  <tbody>\n",
       "    <tr>\n",
       "      <th>0</th>\n",
       "      <td>20040402</td>\n",
       "      <td>20160404</td>\n",
       "    </tr>\n",
       "    <tr>\n",
       "      <th>1</th>\n",
       "      <td>20030301</td>\n",
       "      <td>20160309</td>\n",
       "    </tr>\n",
       "    <tr>\n",
       "      <th>2</th>\n",
       "      <td>20040403</td>\n",
       "      <td>20160402</td>\n",
       "    </tr>\n",
       "  </tbody>\n",
       "</table>\n",
       "</div>"
      ],
      "text/plain": [
       "    regDate  creatDate\n",
       "0  20040402   20160404\n",
       "1  20030301   20160309\n",
       "2  20040403   20160402"
      ]
     },
     "execution_count": 66,
     "metadata": {},
     "output_type": "execute_result"
    }
   ],
   "source": [
    "data[date_cols].head(3)"
   ]
  },
  {
   "cell_type": "code",
   "execution_count": 87,
   "metadata": {
    "execution": {
     "iopub.execute_input": "2021-04-18T16:19:48.241244Z",
     "iopub.status.busy": "2021-04-18T16:19:48.241244Z",
     "iopub.status.idle": "2021-04-18T16:19:49.011282Z",
     "shell.execute_reply": "2021-04-18T16:19:49.011282Z",
     "shell.execute_reply.started": "2021-04-18T16:19:48.241244Z"
    }
   },
   "outputs": [],
   "source": [
    "for col in date_cols:\n",
    "    data[col] = pd.to_datetime(data[col], format='%Y%m%d', errors='coerce')\n",
    "    data[col + '_year'] = data[col].dt.year\n",
    "    data[col + '_month'] = data[col].dt.month\n",
    "    data[col + '_day'] = data[col].dt.day\n",
    "    data[col + '_diff'] = (data[col] - data[col].min()).dt.days"
   ]
  },
  {
   "cell_type": "code",
   "execution_count": 88,
   "metadata": {
    "execution": {
     "iopub.execute_input": "2021-04-18T16:19:49.521083Z",
     "iopub.status.busy": "2021-04-18T16:19:49.521083Z",
     "iopub.status.idle": "2021-04-18T16:19:49.660719Z",
     "shell.execute_reply": "2021-04-18T16:19:49.659712Z",
     "shell.execute_reply.started": "2021-04-18T16:19:49.521083Z"
    }
   },
   "outputs": [
    {
     "data": {
      "text/html": [
       "<div>\n",
       "<style scoped>\n",
       "    .dataframe tbody tr th:only-of-type {\n",
       "        vertical-align: middle;\n",
       "    }\n",
       "\n",
       "    .dataframe tbody tr th {\n",
       "        vertical-align: top;\n",
       "    }\n",
       "\n",
       "    .dataframe thead th {\n",
       "        text-align: right;\n",
       "    }\n",
       "</style>\n",
       "<table border=\"1\" class=\"dataframe\">\n",
       "  <thead>\n",
       "    <tr style=\"text-align: right;\">\n",
       "      <th></th>\n",
       "      <th>SaleID</th>\n",
       "      <th>name</th>\n",
       "      <th>regDate</th>\n",
       "      <th>model</th>\n",
       "      <th>brand</th>\n",
       "      <th>bodyType</th>\n",
       "      <th>fuelType</th>\n",
       "      <th>gearbox</th>\n",
       "      <th>power</th>\n",
       "      <th>kilometer</th>\n",
       "      <th>notRepairedDamage</th>\n",
       "      <th>regionCode</th>\n",
       "      <th>seller</th>\n",
       "      <th>offerType</th>\n",
       "      <th>creatDate</th>\n",
       "      <th>price</th>\n",
       "      <th>v_0</th>\n",
       "      <th>v_1</th>\n",
       "      <th>v_2</th>\n",
       "      <th>v_3</th>\n",
       "      <th>v_4</th>\n",
       "      <th>v_5</th>\n",
       "      <th>v_6</th>\n",
       "      <th>v_7</th>\n",
       "      <th>v_8</th>\n",
       "      <th>v_9</th>\n",
       "      <th>v_10</th>\n",
       "      <th>v_11</th>\n",
       "      <th>v_12</th>\n",
       "      <th>v_13</th>\n",
       "      <th>v_14</th>\n",
       "      <th>regDate_year</th>\n",
       "      <th>regDate_month</th>\n",
       "      <th>regDate_day</th>\n",
       "      <th>regDate_diff</th>\n",
       "      <th>creatDate_year</th>\n",
       "      <th>creatDate_month</th>\n",
       "      <th>creatDate_day</th>\n",
       "      <th>creatDate_diff</th>\n",
       "    </tr>\n",
       "  </thead>\n",
       "  <tbody>\n",
       "    <tr>\n",
       "      <th>169542</th>\n",
       "      <td>219542</td>\n",
       "      <td>79554</td>\n",
       "      <td>2006-03-12</td>\n",
       "      <td>8.0</td>\n",
       "      <td>0</td>\n",
       "      <td>2.0</td>\n",
       "      <td>1.0</td>\n",
       "      <td>0.0</td>\n",
       "      <td>140</td>\n",
       "      <td>15.0</td>\n",
       "      <td>1.0</td>\n",
       "      <td>774</td>\n",
       "      <td>0</td>\n",
       "      <td>0</td>\n",
       "      <td>2016-04-04</td>\n",
       "      <td>-1</td>\n",
       "      <td>44.500601</td>\n",
       "      <td>-3.151814</td>\n",
       "      <td>-0.384998</td>\n",
       "      <td>-0.613093</td>\n",
       "      <td>-0.443825</td>\n",
       "      <td>0.257036</td>\n",
       "      <td>0.000232</td>\n",
       "      <td>0.102315</td>\n",
       "      <td>0.072929</td>\n",
       "      <td>0.047219</td>\n",
       "      <td>2.541567</td>\n",
       "      <td>-1.861172</td>\n",
       "      <td>0.625724</td>\n",
       "      <td>-0.180194</td>\n",
       "      <td>0.821991</td>\n",
       "      <td>2006.0</td>\n",
       "      <td>3.0</td>\n",
       "      <td>12.0</td>\n",
       "      <td>5549.0</td>\n",
       "      <td>2016</td>\n",
       "      <td>4</td>\n",
       "      <td>4</td>\n",
       "      <td>756</td>\n",
       "    </tr>\n",
       "    <tr>\n",
       "      <th>145836</th>\n",
       "      <td>145836</td>\n",
       "      <td>158778</td>\n",
       "      <td>NaT</td>\n",
       "      <td>0.0</td>\n",
       "      <td>0</td>\n",
       "      <td>0.0</td>\n",
       "      <td>0.0</td>\n",
       "      <td>0.0</td>\n",
       "      <td>101</td>\n",
       "      <td>15.0</td>\n",
       "      <td>0.0</td>\n",
       "      <td>4731</td>\n",
       "      <td>0</td>\n",
       "      <td>0</td>\n",
       "      <td>2016-03-20</td>\n",
       "      <td>1500</td>\n",
       "      <td>43.002209</td>\n",
       "      <td>-3.123692</td>\n",
       "      <td>-1.453520</td>\n",
       "      <td>1.101956</td>\n",
       "      <td>-1.329482</td>\n",
       "      <td>0.267413</td>\n",
       "      <td>0.000000</td>\n",
       "      <td>0.066865</td>\n",
       "      <td>0.045432</td>\n",
       "      <td>0.026742</td>\n",
       "      <td>3.065121</td>\n",
       "      <td>-1.438632</td>\n",
       "      <td>-1.717646</td>\n",
       "      <td>-1.130889</td>\n",
       "      <td>0.077561</td>\n",
       "      <td>NaN</td>\n",
       "      <td>NaN</td>\n",
       "      <td>NaN</td>\n",
       "      <td>NaN</td>\n",
       "      <td>2016</td>\n",
       "      <td>3</td>\n",
       "      <td>20</td>\n",
       "      <td>741</td>\n",
       "    </tr>\n",
       "    <tr>\n",
       "      <th>99336</th>\n",
       "      <td>99336</td>\n",
       "      <td>44124</td>\n",
       "      <td>2009-05-07</td>\n",
       "      <td>83.0</td>\n",
       "      <td>22</td>\n",
       "      <td>2.0</td>\n",
       "      <td>0.0</td>\n",
       "      <td>0.0</td>\n",
       "      <td>126</td>\n",
       "      <td>7.0</td>\n",
       "      <td>0.0</td>\n",
       "      <td>910</td>\n",
       "      <td>0</td>\n",
       "      <td>0</td>\n",
       "      <td>2016-03-30</td>\n",
       "      <td>4950</td>\n",
       "      <td>45.590741</td>\n",
       "      <td>-3.211889</td>\n",
       "      <td>0.081330</td>\n",
       "      <td>-1.383077</td>\n",
       "      <td>1.620058</td>\n",
       "      <td>0.242270</td>\n",
       "      <td>0.000429</td>\n",
       "      <td>0.106069</td>\n",
       "      <td>0.089074</td>\n",
       "      <td>0.109753</td>\n",
       "      <td>2.207783</td>\n",
       "      <td>-2.252773</td>\n",
       "      <td>1.790023</td>\n",
       "      <td>1.309855</td>\n",
       "      <td>-1.649007</td>\n",
       "      <td>2009.0</td>\n",
       "      <td>5.0</td>\n",
       "      <td>7.0</td>\n",
       "      <td>6701.0</td>\n",
       "      <td>2016</td>\n",
       "      <td>3</td>\n",
       "      <td>30</td>\n",
       "      <td>751</td>\n",
       "    </tr>\n",
       "    <tr>\n",
       "      <th>110956</th>\n",
       "      <td>110956</td>\n",
       "      <td>47454</td>\n",
       "      <td>2005-01-05</td>\n",
       "      <td>49.0</td>\n",
       "      <td>1</td>\n",
       "      <td>0.0</td>\n",
       "      <td>1.0</td>\n",
       "      <td>1.0</td>\n",
       "      <td>168</td>\n",
       "      <td>15.0</td>\n",
       "      <td>1.0</td>\n",
       "      <td>6080</td>\n",
       "      <td>0</td>\n",
       "      <td>0</td>\n",
       "      <td>2016-03-23</td>\n",
       "      <td>3500</td>\n",
       "      <td>38.401215</td>\n",
       "      <td>4.168684</td>\n",
       "      <td>17.505717</td>\n",
       "      <td>0.974364</td>\n",
       "      <td>-0.962961</td>\n",
       "      <td>0.000000</td>\n",
       "      <td>0.112923</td>\n",
       "      <td>1.311628</td>\n",
       "      <td>0.067324</td>\n",
       "      <td>0.000000</td>\n",
       "      <td>2.234172</td>\n",
       "      <td>17.318661</td>\n",
       "      <td>7.219330</td>\n",
       "      <td>-1.595343</td>\n",
       "      <td>-0.206558</td>\n",
       "      <td>2005.0</td>\n",
       "      <td>1.0</td>\n",
       "      <td>5.0</td>\n",
       "      <td>5118.0</td>\n",
       "      <td>2016</td>\n",
       "      <td>3</td>\n",
       "      <td>23</td>\n",
       "      <td>744</td>\n",
       "    </tr>\n",
       "    <tr>\n",
       "      <th>33281</th>\n",
       "      <td>33281</td>\n",
       "      <td>9257</td>\n",
       "      <td>2005-04-03</td>\n",
       "      <td>0.0</td>\n",
       "      <td>0</td>\n",
       "      <td>0.0</td>\n",
       "      <td>1.0</td>\n",
       "      <td>0.0</td>\n",
       "      <td>105</td>\n",
       "      <td>15.0</td>\n",
       "      <td>0.0</td>\n",
       "      <td>4488</td>\n",
       "      <td>0</td>\n",
       "      <td>0</td>\n",
       "      <td>2016-04-04</td>\n",
       "      <td>5500</td>\n",
       "      <td>45.466238</td>\n",
       "      <td>4.207874</td>\n",
       "      <td>-0.084436</td>\n",
       "      <td>-0.602557</td>\n",
       "      <td>-0.598044</td>\n",
       "      <td>0.263086</td>\n",
       "      <td>0.104926</td>\n",
       "      <td>0.077562</td>\n",
       "      <td>0.055225</td>\n",
       "      <td>0.041845</td>\n",
       "      <td>-4.329500</td>\n",
       "      <td>0.938985</td>\n",
       "      <td>0.266715</td>\n",
       "      <td>-0.264317</td>\n",
       "      <td>0.807234</td>\n",
       "      <td>2005.0</td>\n",
       "      <td>4.0</td>\n",
       "      <td>3.0</td>\n",
       "      <td>5206.0</td>\n",
       "      <td>2016</td>\n",
       "      <td>4</td>\n",
       "      <td>4</td>\n",
       "      <td>756</td>\n",
       "    </tr>\n",
       "  </tbody>\n",
       "</table>\n",
       "</div>"
      ],
      "text/plain": [
       "        SaleID    name    regDate  model  brand  bodyType  fuelType  gearbox  \\\n",
       "169542  219542   79554 2006-03-12    8.0      0       2.0       1.0      0.0   \n",
       "145836  145836  158778        NaT    0.0      0       0.0       0.0      0.0   \n",
       "99336    99336   44124 2009-05-07   83.0     22       2.0       0.0      0.0   \n",
       "110956  110956   47454 2005-01-05   49.0      1       0.0       1.0      1.0   \n",
       "33281    33281    9257 2005-04-03    0.0      0       0.0       1.0      0.0   \n",
       "\n",
       "        power  kilometer  notRepairedDamage  regionCode  seller  offerType  \\\n",
       "169542    140       15.0                1.0         774       0          0   \n",
       "145836    101       15.0                0.0        4731       0          0   \n",
       "99336     126        7.0                0.0         910       0          0   \n",
       "110956    168       15.0                1.0        6080       0          0   \n",
       "33281     105       15.0                0.0        4488       0          0   \n",
       "\n",
       "        creatDate  price        v_0       v_1        v_2       v_3       v_4  \\\n",
       "169542 2016-04-04     -1  44.500601 -3.151814  -0.384998 -0.613093 -0.443825   \n",
       "145836 2016-03-20   1500  43.002209 -3.123692  -1.453520  1.101956 -1.329482   \n",
       "99336  2016-03-30   4950  45.590741 -3.211889   0.081330 -1.383077  1.620058   \n",
       "110956 2016-03-23   3500  38.401215  4.168684  17.505717  0.974364 -0.962961   \n",
       "33281  2016-04-04   5500  45.466238  4.207874  -0.084436 -0.602557 -0.598044   \n",
       "\n",
       "             v_5       v_6       v_7       v_8       v_9      v_10       v_11  \\\n",
       "169542  0.257036  0.000232  0.102315  0.072929  0.047219  2.541567  -1.861172   \n",
       "145836  0.267413  0.000000  0.066865  0.045432  0.026742  3.065121  -1.438632   \n",
       "99336   0.242270  0.000429  0.106069  0.089074  0.109753  2.207783  -2.252773   \n",
       "110956  0.000000  0.112923  1.311628  0.067324  0.000000  2.234172  17.318661   \n",
       "33281   0.263086  0.104926  0.077562  0.055225  0.041845 -4.329500   0.938985   \n",
       "\n",
       "            v_12      v_13      v_14  regDate_year  regDate_month  \\\n",
       "169542  0.625724 -0.180194  0.821991        2006.0            3.0   \n",
       "145836 -1.717646 -1.130889  0.077561           NaN            NaN   \n",
       "99336   1.790023  1.309855 -1.649007        2009.0            5.0   \n",
       "110956  7.219330 -1.595343 -0.206558        2005.0            1.0   \n",
       "33281   0.266715 -0.264317  0.807234        2005.0            4.0   \n",
       "\n",
       "        regDate_day  regDate_diff  creatDate_year  creatDate_month  \\\n",
       "169542         12.0        5549.0            2016                4   \n",
       "145836          NaN           NaN            2016                3   \n",
       "99336           7.0        6701.0            2016                3   \n",
       "110956          5.0        5118.0            2016                3   \n",
       "33281           3.0        5206.0            2016                4   \n",
       "\n",
       "        creatDate_day  creatDate_diff  \n",
       "169542              4             756  \n",
       "145836             20             741  \n",
       "99336              30             751  \n",
       "110956             23             744  \n",
       "33281               4             756  "
      ]
     },
     "execution_count": 88,
     "metadata": {},
     "output_type": "execute_result"
    }
   ],
   "source": [
    "data.sample(5)"
   ]
  },
  {
   "cell_type": "markdown",
   "metadata": {},
   "source": [
    "### 删除多余特征"
   ]
  },
  {
   "cell_type": "code",
   "execution_count": 89,
   "metadata": {
    "execution": {
     "iopub.execute_input": "2021-04-18T16:19:52.345506Z",
     "iopub.status.busy": "2021-04-18T16:19:52.345506Z",
     "iopub.status.idle": "2021-04-18T16:19:52.441263Z",
     "shell.execute_reply": "2021-04-18T16:19:52.440281Z",
     "shell.execute_reply.started": "2021-04-18T16:19:52.345506Z"
    }
   },
   "outputs": [],
   "source": [
    "data.drop(drop_cols, axis=1, inplace=True)\n",
    "data.drop(date_cols, axis=1, inplace=True)  # 原始日期数据删除"
   ]
  },
  {
   "cell_type": "markdown",
   "metadata": {},
   "source": [
    "### 模型训练与融合"
   ]
  },
  {
   "cell_type": "code",
   "execution_count": 90,
   "metadata": {
    "execution": {
     "iopub.execute_input": "2021-04-18T16:19:56.088022Z",
     "iopub.status.busy": "2021-04-18T16:19:56.088022Z",
     "iopub.status.idle": "2021-04-18T16:19:56.094003Z",
     "shell.execute_reply": "2021-04-18T16:19:56.093012Z",
     "shell.execute_reply.started": "2021-04-18T16:19:56.088022Z"
    }
   },
   "outputs": [],
   "source": [
    "import xgboost as xgb\n",
    "import lightgbm as lgb"
   ]
  },
  {
   "cell_type": "code",
   "execution_count": 91,
   "metadata": {
    "execution": {
     "iopub.execute_input": "2021-04-18T16:20:08.177665Z",
     "iopub.status.busy": "2021-04-18T16:20:08.177665Z",
     "iopub.status.idle": "2021-04-18T16:20:08.326300Z",
     "shell.execute_reply": "2021-04-18T16:20:08.326300Z",
     "shell.execute_reply.started": "2021-04-18T16:20:08.177665Z"
    }
   },
   "outputs": [],
   "source": [
    "train_X = data[data['price'] > -1].drop('price', axis=1)\n",
    "train_y = data[data['price'] > -1]['price']\n",
    "test_X = data[data['price'] == -1].drop('price', axis=1).reset_index(drop=True)"
   ]
  },
  {
   "cell_type": "markdown",
   "metadata": {},
   "source": [
    "#### XGBoost"
   ]
  },
  {
   "cell_type": "code",
   "execution_count": 93,
   "metadata": {
    "execution": {
     "iopub.execute_input": "2021-04-18T16:20:32.949542Z",
     "iopub.status.busy": "2021-04-18T16:20:32.948545Z",
     "iopub.status.idle": "2021-04-18T16:25:50.571710Z",
     "shell.execute_reply": "2021-04-18T16:25:50.570712Z",
     "shell.execute_reply.started": "2021-04-18T16:20:32.949542Z"
    }
   },
   "outputs": [
    {
     "data": {
      "text/plain": [
       "XGBRegressor(base_score=0.5, booster='gbtree', colsample_bylevel=1,\n",
       "             colsample_bynode=1, colsample_bytree=0.9, gamma=0, gpu_id=-1,\n",
       "             importance_type='gain', interaction_constraints='',\n",
       "             learning_rate=0.05, max_delta_step=0, max_depth=8,\n",
       "             min_child_weight=1, missing=nan, monotone_constraints='()',\n",
       "             n_estimators=2000, n_jobs=0, num_parallel_tree=1,\n",
       "             random_state=2021, reg_alpha=0, reg_lambda=1, scale_pos_weight=1,\n",
       "             subsample=0.9, tree_method='exact', validate_parameters=1,\n",
       "             verbosity=None)"
      ]
     },
     "execution_count": 93,
     "metadata": {},
     "output_type": "execute_result"
    }
   ],
   "source": [
    "xgb_model = xgb.XGBRegressor(n_estimators=2000, max_depth=8, learning_rate=0.05, subsample=0.9, colsample_bytree=0.9, random_state=2021)\n",
    "xgb_model.fit(train_X, train_y)"
   ]
  },
  {
   "cell_type": "code",
   "execution_count": 102,
   "metadata": {
    "execution": {
     "iopub.execute_input": "2021-04-18T16:30:16.742195Z",
     "iopub.status.busy": "2021-04-18T16:30:16.741198Z",
     "iopub.status.idle": "2021-04-18T16:30:19.434000Z",
     "shell.execute_reply": "2021-04-18T16:30:19.434000Z",
     "shell.execute_reply.started": "2021-04-18T16:30:16.742195Z"
    }
   },
   "outputs": [],
   "source": [
    "# result = test[['SaleID']]\n",
    "# result['price'] = xgb_model.predict(test_X)\n",
    "# result['price'][result['price'] < train['price'].min()] = train['price'].min()\n",
    "# result.to_csv('baseline_xgb2.csv', index=False)"
   ]
  },
  {
   "cell_type": "markdown",
   "metadata": {},
   "source": [
    "#### LightGBM"
   ]
  },
  {
   "cell_type": "code",
   "execution_count": 96,
   "metadata": {
    "execution": {
     "iopub.execute_input": "2021-04-18T16:26:31.063383Z",
     "iopub.status.busy": "2021-04-18T16:26:31.062386Z",
     "iopub.status.idle": "2021-04-18T16:26:31.070361Z",
     "shell.execute_reply": "2021-04-18T16:26:31.069364Z",
     "shell.execute_reply.started": "2021-04-18T16:26:31.063383Z"
    }
   },
   "outputs": [
    {
     "data": {
      "text/plain": [
       "['name',\n",
       " 'model',\n",
       " 'brand',\n",
       " 'bodyType',\n",
       " 'fuelType',\n",
       " 'gearbox',\n",
       " 'notRepairedDamage',\n",
       " 'regionCode']"
      ]
     },
     "execution_count": 96,
     "metadata": {},
     "output_type": "execute_result"
    }
   ],
   "source": [
    "cat_cols = [c for c in cat_cols if c in train_X.columns]\n",
    "cat_cols"
   ]
  },
  {
   "cell_type": "code",
   "execution_count": 106,
   "metadata": {
    "execution": {
     "iopub.execute_input": "2021-04-18T16:37:18.336676Z",
     "iopub.status.busy": "2021-04-18T16:37:18.336676Z",
     "iopub.status.idle": "2021-04-18T16:38:17.226109Z",
     "shell.execute_reply": "2021-04-18T16:38:17.225112Z",
     "shell.execute_reply.started": "2021-04-18T16:37:18.336676Z"
    }
   },
   "outputs": [
    {
     "data": {
      "text/plain": [
       "LGBMRegressor(colsample_bytree=0.9, learning_rate=0.01, min_child_samples=3,\n",
       "              n_estimators=4000, objective='regression', random_state=2021,\n",
       "              reg_alpha=0.25, reg_lambda=0.25, subsample=0.9)"
      ]
     },
     "execution_count": 106,
     "metadata": {},
     "output_type": "execute_result"
    }
   ],
   "source": [
    "lgb_model = lgb.LGBMRegressor(\n",
    "    boosting_type=\"gbdt\", num_leaves=31, reg_alpha=0.25, reg_lambda=0.25, objective='regression',\n",
    "    max_depth=-1, learning_rate=0.01, n_estimators=4000, min_child_samples=3,\n",
    "    subsample=0.9, colsample_bytree=0.9, random_state=2021\n",
    ")\n",
    "lgb_model.fit(train_X, train_y, categorical_feature=cat_cols, verbose=100)"
   ]
  },
  {
   "cell_type": "code",
   "execution_count": 105,
   "metadata": {
    "execution": {
     "iopub.execute_input": "2021-04-18T16:36:11.516644Z",
     "iopub.status.busy": "2021-04-18T16:36:11.515646Z",
     "iopub.status.idle": "2021-04-18T16:36:13.112376Z",
     "shell.execute_reply": "2021-04-18T16:36:13.112376Z",
     "shell.execute_reply.started": "2021-04-18T16:36:11.516644Z"
    }
   },
   "outputs": [],
   "source": [
    "# result = test[['SaleID']]\n",
    "# result['price'] = lgb_model.predict(test_X)\n",
    "# result['price'][result['price'] < train['price'].min()] = train['price'].min()\n",
    "# result.to_csv('baseline_lgb2.csv', index=False)"
   ]
  },
  {
   "cell_type": "markdown",
   "metadata": {},
   "source": [
    "#### 结果融合"
   ]
  },
  {
   "cell_type": "code",
   "execution_count": 107,
   "metadata": {
    "execution": {
     "iopub.execute_input": "2021-04-18T16:39:05.604607Z",
     "iopub.status.busy": "2021-04-18T16:39:05.603611Z",
     "iopub.status.idle": "2021-04-18T16:39:22.118422Z",
     "shell.execute_reply": "2021-04-18T16:39:22.117424Z",
     "shell.execute_reply.started": "2021-04-18T16:39:05.604607Z"
    }
   },
   "outputs": [],
   "source": [
    "result = test[['SaleID']]\n",
    "result['price_1'] = xgb_model.predict(test_X)\n",
    "result['price_2'] = lgb_model.predict(test_X)"
   ]
  },
  {
   "cell_type": "code",
   "execution_count": 108,
   "metadata": {
    "execution": {
     "iopub.execute_input": "2021-04-18T16:39:22.120416Z",
     "iopub.status.busy": "2021-04-18T16:39:22.120416Z",
     "iopub.status.idle": "2021-04-18T16:39:22.147344Z",
     "shell.execute_reply": "2021-04-18T16:39:22.146355Z",
     "shell.execute_reply.started": "2021-04-18T16:39:22.120416Z"
    }
   },
   "outputs": [
    {
     "data": {
      "text/html": [
       "<div>\n",
       "<style scoped>\n",
       "    .dataframe tbody tr th:only-of-type {\n",
       "        vertical-align: middle;\n",
       "    }\n",
       "\n",
       "    .dataframe tbody tr th {\n",
       "        vertical-align: top;\n",
       "    }\n",
       "\n",
       "    .dataframe thead th {\n",
       "        text-align: right;\n",
       "    }\n",
       "</style>\n",
       "<table border=\"1\" class=\"dataframe\">\n",
       "  <thead>\n",
       "    <tr style=\"text-align: right;\">\n",
       "      <th></th>\n",
       "      <th>SaleID</th>\n",
       "      <th>price</th>\n",
       "    </tr>\n",
       "  </thead>\n",
       "  <tbody>\n",
       "    <tr>\n",
       "      <th>0</th>\n",
       "      <td>200000</td>\n",
       "      <td>1366.965085</td>\n",
       "    </tr>\n",
       "    <tr>\n",
       "      <th>1</th>\n",
       "      <td>200001</td>\n",
       "      <td>1876.815336</td>\n",
       "    </tr>\n",
       "    <tr>\n",
       "      <th>2</th>\n",
       "      <td>200002</td>\n",
       "      <td>8602.897942</td>\n",
       "    </tr>\n",
       "    <tr>\n",
       "      <th>3</th>\n",
       "      <td>200003</td>\n",
       "      <td>1234.141603</td>\n",
       "    </tr>\n",
       "    <tr>\n",
       "      <th>4</th>\n",
       "      <td>200004</td>\n",
       "      <td>1967.558650</td>\n",
       "    </tr>\n",
       "  </tbody>\n",
       "</table>\n",
       "</div>"
      ],
      "text/plain": [
       "   SaleID        price\n",
       "0  200000  1366.965085\n",
       "1  200001  1876.815336\n",
       "2  200002  8602.897942\n",
       "3  200003  1234.141603\n",
       "4  200004  1967.558650"
      ]
     },
     "execution_count": 108,
     "metadata": {},
     "output_type": "execute_result"
    }
   ],
   "source": [
    "result['price'] = (result['price_1'] + result['price_2']) / 2\n",
    "result['price'][result['price'] < train['price'].min()] = train['price'].min()\n",
    "resul = result[['SaleID', 'price']]\n",
    "resul.head()"
   ]
  },
  {
   "cell_type": "code",
   "execution_count": 109,
   "metadata": {
    "execution": {
     "iopub.execute_input": "2021-04-18T16:39:24.221097Z",
     "iopub.status.busy": "2021-04-18T16:39:24.220099Z",
     "iopub.status.idle": "2021-04-18T16:39:24.233064Z",
     "shell.execute_reply": "2021-04-18T16:39:24.232069Z",
     "shell.execute_reply.started": "2021-04-18T16:39:24.221097Z"
    }
   },
   "outputs": [
    {
     "data": {
      "text/plain": [
       "count    50000.000000\n",
       "mean      5907.525725\n",
       "std       7346.552859\n",
       "min         11.000000\n",
       "25%       1381.554368\n",
       "50%       3253.009318\n",
       "75%       7648.270992\n",
       "max      90604.534440\n",
       "Name: price, dtype: float64"
      ]
     },
     "execution_count": 109,
     "metadata": {},
     "output_type": "execute_result"
    }
   ],
   "source": [
    "resul['price'].describe()"
   ]
  },
  {
   "cell_type": "code",
   "execution_count": 110,
   "metadata": {
    "execution": {
     "iopub.execute_input": "2021-04-18T16:39:31.083640Z",
     "iopub.status.busy": "2021-04-18T16:39:31.082641Z",
     "iopub.status.idle": "2021-04-18T16:39:31.385842Z",
     "shell.execute_reply": "2021-04-18T16:39:31.383836Z",
     "shell.execute_reply.started": "2021-04-18T16:39:31.083640Z"
    }
   },
   "outputs": [],
   "source": [
    "result.to_csv('baseline_xgb_and_lgb.csv', index=False)"
   ]
  },
  {
   "cell_type": "markdown",
   "metadata": {},
   "source": [
    "不知为啥lgb的结果不太好，xgb是505，lgb是644，而融合后则是529"
   ]
  }
 ],
 "metadata": {
  "kernelspec": {
   "display_name": "Python 3",
   "language": "python",
   "name": "python3"
  },
  "language_info": {
   "codemirror_mode": {
    "name": "ipython",
    "version": 3
   },
   "file_extension": ".py",
   "mimetype": "text/x-python",
   "name": "python",
   "nbconvert_exporter": "python",
   "pygments_lexer": "ipython3",
   "version": "3.8.3"
  },
  "varInspector": {
   "cols": {
    "lenName": 16,
    "lenType": 16,
    "lenVar": 40
   },
   "kernels_config": {
    "python": {
     "delete_cmd_postfix": "",
     "delete_cmd_prefix": "del ",
     "library": "var_list.py",
     "varRefreshCmd": "print(var_dic_list())"
    },
    "r": {
     "delete_cmd_postfix": ") ",
     "delete_cmd_prefix": "rm(",
     "library": "var_list.r",
     "varRefreshCmd": "cat(var_dic_list()) "
    }
   },
   "types_to_exclude": [
    "module",
    "function",
    "builtin_function_or_method",
    "instance",
    "_Feature"
   ],
   "window_display": false
  }
 },
 "nbformat": 4,
 "nbformat_minor": 4
}
