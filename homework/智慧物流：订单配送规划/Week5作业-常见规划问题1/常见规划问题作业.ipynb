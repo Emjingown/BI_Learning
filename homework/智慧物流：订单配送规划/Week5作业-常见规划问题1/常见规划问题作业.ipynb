{
 "cells": [
  {
   "cell_type": "code",
   "execution_count": 1,
   "metadata": {},
   "outputs": [],
   "source": [
    "import pulp\n",
    "import pandas as pd"
   ]
  },
  {
   "cell_type": "code",
   "execution_count": 2,
   "metadata": {},
   "outputs": [
    {
     "data": {
      "text/html": [
       "<div>\n",
       "<style scoped>\n",
       "    .dataframe tbody tr th:only-of-type {\n",
       "        vertical-align: middle;\n",
       "    }\n",
       "\n",
       "    .dataframe tbody tr th {\n",
       "        vertical-align: top;\n",
       "    }\n",
       "\n",
       "    .dataframe thead th {\n",
       "        text-align: right;\n",
       "    }\n",
       "</style>\n",
       "<table border=\"1\" class=\"dataframe\">\n",
       "  <thead>\n",
       "    <tr style=\"text-align: right;\">\n",
       "      <th></th>\n",
       "      <th>Unnamed: 0</th>\n",
       "      <th>地块1</th>\n",
       "      <th>地块2</th>\n",
       "      <th>地块3</th>\n",
       "      <th>地块4</th>\n",
       "      <th>地块5</th>\n",
       "      <th>地块6</th>\n",
       "      <th>计划播种面积（亩）</th>\n",
       "    </tr>\n",
       "  </thead>\n",
       "  <tbody>\n",
       "    <tr>\n",
       "      <th>0</th>\n",
       "      <td>小麦</td>\n",
       "      <td>500</td>\n",
       "      <td>550</td>\n",
       "      <td>630</td>\n",
       "      <td>1000</td>\n",
       "      <td>800</td>\n",
       "      <td>700</td>\n",
       "      <td>76.0</td>\n",
       "    </tr>\n",
       "    <tr>\n",
       "      <th>1</th>\n",
       "      <td>玉米</td>\n",
       "      <td>800</td>\n",
       "      <td>700</td>\n",
       "      <td>600</td>\n",
       "      <td>950</td>\n",
       "      <td>900</td>\n",
       "      <td>930</td>\n",
       "      <td>88.0</td>\n",
       "    </tr>\n",
       "    <tr>\n",
       "      <th>2</th>\n",
       "      <td>水果</td>\n",
       "      <td>1000</td>\n",
       "      <td>960</td>\n",
       "      <td>840</td>\n",
       "      <td>650</td>\n",
       "      <td>600</td>\n",
       "      <td>700</td>\n",
       "      <td>96.0</td>\n",
       "    </tr>\n",
       "    <tr>\n",
       "      <th>3</th>\n",
       "      <td>蔬菜</td>\n",
       "      <td>1200</td>\n",
       "      <td>1040</td>\n",
       "      <td>980</td>\n",
       "      <td>860</td>\n",
       "      <td>880</td>\n",
       "      <td>780</td>\n",
       "      <td>40.0</td>\n",
       "    </tr>\n",
       "    <tr>\n",
       "      <th>4</th>\n",
       "      <td>地块面积（亩）</td>\n",
       "      <td>42</td>\n",
       "      <td>56</td>\n",
       "      <td>44</td>\n",
       "      <td>39</td>\n",
       "      <td>60</td>\n",
       "      <td>59</td>\n",
       "      <td>NaN</td>\n",
       "    </tr>\n",
       "  </tbody>\n",
       "</table>\n",
       "</div>"
      ],
      "text/plain": [
       "  Unnamed: 0   地块1   地块2  地块3   地块4  地块5  地块6  计划播种面积（亩）\n",
       "0         小麦   500   550  630  1000  800  700       76.0\n",
       "1         玉米   800   700  600   950  900  930       88.0\n",
       "2         水果  1000   960  840   650  600  700       96.0\n",
       "3         蔬菜  1200  1040  980   860  880  780       40.0\n",
       "4    地块面积（亩）    42    56   44    39   60   59        NaN"
      ]
     },
     "execution_count": 2,
     "metadata": {},
     "output_type": "execute_result"
    }
   ],
   "source": [
    "data = pd.read_excel('./data.xlsx')\n",
    "data"
   ]
  },
  {
   "cell_type": "code",
   "execution_count": 3,
   "metadata": {},
   "outputs": [
    {
     "data": {
      "text/plain": [
       "array([[ 500,  550,  630, 1000,  800,  700],\n",
       "       [ 800,  700,  600,  950,  900,  930],\n",
       "       [1000,  960,  840,  650,  600,  700],\n",
       "       [1200, 1040,  980,  860,  880,  780]])"
      ]
     },
     "execution_count": 3,
     "metadata": {},
     "output_type": "execute_result"
    }
   ],
   "source": [
    "# 目标函数的系数\n",
    "z = data.loc[0:3, '地块1':'地块6'].values\n",
    "z"
   ]
  },
  {
   "cell_type": "code",
   "execution_count": 4,
   "metadata": {},
   "outputs": [
    {
     "data": {
      "text/plain": [
       "[76.0, 88.0, 96.0, 40.0]"
      ]
     },
     "execution_count": 4,
     "metadata": {},
     "output_type": "execute_result"
    }
   ],
   "source": [
    "# 约束条件\n",
    "a = np.ones((4, 6))\n",
    "b = data.iloc[:4, -1].tolist() # 播种面积\n",
    "b"
   ]
  },
  {
   "cell_type": "code",
   "execution_count": 5,
   "metadata": {},
   "outputs": [
    {
     "data": {
      "text/plain": [
       "[42, 56, 44, 39, 60, 59]"
      ]
     },
     "execution_count": 5,
     "metadata": {},
     "output_type": "execute_result"
    }
   ],
   "source": [
    "c = data.iloc[-1, 1:7].tolist() # 地块面积\n",
    "c"
   ]
  },
  {
   "cell_type": "code",
   "execution_count": 6,
   "metadata": {},
   "outputs": [
    {
     "data": {
      "text/plain": [
       "array([[x_11, x_12, x_13, x_14, x_15, x_16],\n",
       "       [x_21, x_22, x_23, x_24, x_25, x_26],\n",
       "       [x_31, x_32, x_33, x_34, x_35, x_36],\n",
       "       [x_41, x_42, x_43, x_44, x_45, x_46]], dtype=object)"
      ]
     },
     "execution_count": 6,
     "metadata": {},
     "output_type": "execute_result"
    }
   ],
   "source": [
    "# 定义变量\n",
    "x = np.array([[pulp.LpVariable(f'x_{i}{j}', lowBound=0) for j in range(1, 7)] for i in range(1, 5)])\n",
    "x"
   ]
  },
  {
   "cell_type": "code",
   "execution_count": 7,
   "metadata": {},
   "outputs": [],
   "source": [
    "#确定最大化最小化问题\n",
    "m = pulp.LpProblem(sense=pulp.LpMaximize)"
   ]
  },
  {
   "cell_type": "code",
   "execution_count": 8,
   "metadata": {},
   "outputs": [
    {
     "name": "stdout",
     "output_type": "stream",
     "text": [
      "500*x_11 + 550*x_12 + 630*x_13 + 1000*x_14 + 800*x_15 + 700*x_16 + 800*x_21 + 700*x_22 + 600*x_23 + 950*x_24 + 900*x_25 + 930*x_26 + 1000*x_31 + 960*x_32 + 840*x_33 + 650*x_34 + 600*x_35 + 700*x_36 + 1200*x_41 + 1040*x_42 + 980*x_43 + 860*x_44 + 880*x_45 + 780*x_46\n"
     ]
    }
   ],
   "source": [
    "#定义目标函数，lpDot可以将两个列表的对应位相乘再加和\n",
    "m += pulp.lpDot(z, x)\n",
    "print(pulp.lpDot(z, x))"
   ]
  },
  {
   "cell_type": "code",
   "execution_count": 9,
   "metadata": {},
   "outputs": [
    {
     "name": "stdout",
     "output_type": "stream",
     "text": [
      "x_11 + x_12 + x_13 + x_14 + x_15 + x_16 >= 76.0\n",
      "x_21 + x_22 + x_23 + x_24 + x_25 + x_26 >= 88.0\n",
      "x_31 + x_32 + x_33 + x_34 + x_35 + x_36 >= 96.0\n",
      "x_41 + x_42 + x_43 + x_44 + x_45 + x_46 >= 40.0\n"
     ]
    }
   ],
   "source": [
    "# 设置约束条件\n",
    "# 播种面积\n",
    "for i in range(4):\n",
    "    m += (pulp.lpDot(a[i], x[i]) >= b[i])\n",
    "    print(pulp.lpDot(a[i], x[i]) >= b[i])"
   ]
  },
  {
   "cell_type": "code",
   "execution_count": 10,
   "metadata": {},
   "outputs": [
    {
     "name": "stdout",
     "output_type": "stream",
     "text": [
      "x_11 + x_21 + x_31 + x_41 <= 42\n",
      "x_12 + x_22 + x_32 + x_42 <= 56\n",
      "x_13 + x_23 + x_33 + x_43 <= 44\n",
      "x_14 + x_24 + x_34 + x_44 <= 39\n",
      "x_15 + x_25 + x_35 + x_45 <= 60\n",
      "x_16 + x_26 + x_36 + x_46 <= 59\n"
     ]
    }
   ],
   "source": [
    "# 地块面积\n",
    "for j in range(6):\n",
    "    m += (pulp.lpSum(x[:, j]) <= c[j])\n",
    "    print(pulp.lpSum(x[:, j]) <= c[j])"
   ]
  },
  {
   "cell_type": "code",
   "execution_count": 17,
   "metadata": {},
   "outputs": [
    {
     "name": "stdout",
     "output_type": "stream",
     "text": [
      "优化结果：284230.0\n"
     ]
    }
   ],
   "source": [
    "m.solve() #求解\n",
    "\n",
    "#输出结果\n",
    "print(f'优化结果：{pulp.value(m.objective)}')"
   ]
  },
  {
   "cell_type": "code",
   "execution_count": 18,
   "metadata": {},
   "outputs": [
    {
     "name": "stdout",
     "output_type": "stream",
     "text": [
      "参数取值：\n"
     ]
    },
    {
     "data": {
      "text/html": [
       "<div>\n",
       "<style scoped>\n",
       "    .dataframe tbody tr th:only-of-type {\n",
       "        vertical-align: middle;\n",
       "    }\n",
       "\n",
       "    .dataframe tbody tr th {\n",
       "        vertical-align: top;\n",
       "    }\n",
       "\n",
       "    .dataframe thead th {\n",
       "        text-align: right;\n",
       "    }\n",
       "</style>\n",
       "<table border=\"1\" class=\"dataframe\">\n",
       "  <thead>\n",
       "    <tr style=\"text-align: right;\">\n",
       "      <th></th>\n",
       "      <th>地块1</th>\n",
       "      <th>地块2</th>\n",
       "      <th>地块3</th>\n",
       "      <th>地块4</th>\n",
       "      <th>地块5</th>\n",
       "      <th>地块6</th>\n",
       "    </tr>\n",
       "  </thead>\n",
       "  <tbody>\n",
       "    <tr>\n",
       "      <th>小麦</th>\n",
       "      <td>0.0</td>\n",
       "      <td>0.0</td>\n",
       "      <td>6.0</td>\n",
       "      <td>39.0</td>\n",
       "      <td>31.0</td>\n",
       "      <td>0.0</td>\n",
       "    </tr>\n",
       "    <tr>\n",
       "      <th>玉米</th>\n",
       "      <td>0.0</td>\n",
       "      <td>0.0</td>\n",
       "      <td>0.0</td>\n",
       "      <td>0.0</td>\n",
       "      <td>29.0</td>\n",
       "      <td>59.0</td>\n",
       "    </tr>\n",
       "    <tr>\n",
       "      <th>水果</th>\n",
       "      <td>2.0</td>\n",
       "      <td>56.0</td>\n",
       "      <td>38.0</td>\n",
       "      <td>0.0</td>\n",
       "      <td>0.0</td>\n",
       "      <td>0.0</td>\n",
       "    </tr>\n",
       "    <tr>\n",
       "      <th>蔬菜</th>\n",
       "      <td>40.0</td>\n",
       "      <td>0.0</td>\n",
       "      <td>0.0</td>\n",
       "      <td>0.0</td>\n",
       "      <td>0.0</td>\n",
       "      <td>0.0</td>\n",
       "    </tr>\n",
       "  </tbody>\n",
       "</table>\n",
       "</div>"
      ],
      "text/plain": [
       "     地块1   地块2   地块3   地块4   地块5   地块6\n",
       "小麦   0.0   0.0   6.0  39.0  31.0   0.0\n",
       "玉米   0.0   0.0   0.0   0.0  29.0  59.0\n",
       "水果   2.0  56.0  38.0   0.0   0.0   0.0\n",
       "蔬菜  40.0   0.0   0.0   0.0   0.0   0.0"
      ]
     },
     "execution_count": 18,
     "metadata": {},
     "output_type": "execute_result"
    }
   ],
   "source": [
    "print('参数取值：')\n",
    "pd.DataFrame([[pulp.value(var) for var in ls] for ls in x], index=data.iloc[:4, 0].values, columns=data.columns[1:7])"
   ]
  }
 ],
 "metadata": {
  "kernelspec": {
   "display_name": "Python 3",
   "language": "python",
   "name": "python3"
  },
  "language_info": {
   "codemirror_mode": {
    "name": "ipython",
    "version": 3
   },
   "file_extension": ".py",
   "mimetype": "text/x-python",
   "name": "python",
   "nbconvert_exporter": "python",
   "pygments_lexer": "ipython3",
   "version": "3.7.6"
  },
  "varInspector": {
   "cols": {
    "lenName": 16,
    "lenType": 16,
    "lenVar": 40
   },
   "kernels_config": {
    "python": {
     "delete_cmd_postfix": "",
     "delete_cmd_prefix": "del ",
     "library": "var_list.py",
     "varRefreshCmd": "print(var_dic_list())"
    },
    "r": {
     "delete_cmd_postfix": ") ",
     "delete_cmd_prefix": "rm(",
     "library": "var_list.r",
     "varRefreshCmd": "cat(var_dic_list()) "
    }
   },
   "types_to_exclude": [
    "module",
    "function",
    "builtin_function_or_method",
    "instance",
    "_Feature"
   ],
   "window_display": false
  }
 },
 "nbformat": 4,
 "nbformat_minor": 4
}
