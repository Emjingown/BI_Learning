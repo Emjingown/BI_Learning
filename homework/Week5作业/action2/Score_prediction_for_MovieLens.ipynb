{
 "cells": [
  {
   "cell_type": "markdown",
   "metadata": {
    "id": "eKkcLeza_VZC"
   },
   "source": [
    "要求：使用Google Colab编辑器，对MovieLens数据集进行评分预测，计算RMSE （使用funkSVD, BiasSVD，SVD++）"
   ]
  },
  {
   "cell_type": "code",
   "execution_count": null,
   "metadata": {
    "colab": {
     "base_uri": "https://localhost:8080/"
    },
    "id": "_GXpu3TpiV12",
    "outputId": "ee8c7df6-ab6b-4715-a063-1df4fd9306e1"
   },
   "outputs": [
    {
     "name": "stdout",
     "output_type": "stream",
     "text": [
      "Mounted at /content/drive\n"
     ]
    }
   ],
   "source": [
    "from google.colab import drive \n",
    "drive.mount('/content/drive') \n",
    "\n",
    "import os \n",
    "os.chdir(\"/content/drive/My Drive/Colab Notebooks/Week5\")"
   ]
  },
  {
   "cell_type": "code",
   "execution_count": null,
   "metadata": {
    "colab": {
     "base_uri": "https://localhost:8080/"
    },
    "id": "MaVlerJklSba",
    "outputId": "26941437-2fe4-4c31-f161-4f33e5631171"
   },
   "outputs": [
    {
     "name": "stdout",
     "output_type": "stream",
     "text": [
      "Collecting surprise\n",
      "  Downloading https://files.pythonhosted.org/packages/61/de/e5cba8682201fcf9c3719a6fdda95693468ed061945493dea2dd37c5618b/surprise-0.1-py2.py3-none-any.whl\n",
      "Collecting scikit-surprise\n",
      "\u001b[?25l  Downloading https://files.pythonhosted.org/packages/97/37/5d334adaf5ddd65da99fc65f6507e0e4599d092ba048f4302fe8775619e8/scikit-surprise-1.1.1.tar.gz (11.8MB)\n",
      "\u001b[K     |████████████████████████████████| 11.8MB 7.0MB/s \n",
      "\u001b[?25hRequirement already satisfied: joblib>=0.11 in /usr/local/lib/python3.6/dist-packages (from scikit-surprise->surprise) (0.17.0)\n",
      "Requirement already satisfied: numpy>=1.11.2 in /usr/local/lib/python3.6/dist-packages (from scikit-surprise->surprise) (1.18.5)\n",
      "Requirement already satisfied: scipy>=1.0.0 in /usr/local/lib/python3.6/dist-packages (from scikit-surprise->surprise) (1.4.1)\n",
      "Requirement already satisfied: six>=1.10.0 in /usr/local/lib/python3.6/dist-packages (from scikit-surprise->surprise) (1.15.0)\n",
      "Building wheels for collected packages: scikit-surprise\n",
      "  Building wheel for scikit-surprise (setup.py) ... \u001b[?25l\u001b[?25hdone\n",
      "  Created wheel for scikit-surprise: filename=scikit_surprise-1.1.1-cp36-cp36m-linux_x86_64.whl size=1670910 sha256=eb34c86855b9c20465bc3683d0ad30bc48583103c911582e747c6c4a62715ba4\n",
      "  Stored in directory: /root/.cache/pip/wheels/78/9c/3d/41b419c9d2aff5b6e2b4c0fc8d25c538202834058f9ed110d0\n",
      "Successfully built scikit-surprise\n",
      "Installing collected packages: scikit-surprise, surprise\n",
      "Successfully installed scikit-surprise-1.1.1 surprise-0.1\n"
     ]
    }
   ],
   "source": [
    "!pip install surprise"
   ]
  },
  {
   "cell_type": "code",
   "execution_count": null,
   "metadata": {
    "id": "IEcH7R4yk7EB"
   },
   "outputs": [],
   "source": [
    "from surprise import SVD\n",
    "from surprise import SVDpp\n",
    "from surprise import Reader\n",
    "from surprise import Dataset\n",
    "from surprise import accuracy\n",
    "from surprise.model_selection import KFold\n",
    "import time"
   ]
  },
  {
   "cell_type": "code",
   "execution_count": null,
   "metadata": {
    "id": "iNhCaaHYl4eQ"
   },
   "outputs": [],
   "source": [
    "# 数据读取(读取的数据必须至少包含三列数据： user、item、ratings)\n",
    "reader = Reader(line_format='user item rating timestamp', sep=',', skip_lines=1)\n",
    "data = Dataset.load_from_file('./ratings.csv', reader=reader)\n",
    "train_set = data.build_full_trainset()"
   ]
  },
  {
   "cell_type": "markdown",
   "metadata": {
    "id": "CVgUdY0-C3Fw"
   },
   "source": [
    "FunkSVD"
   ]
  },
  {
   "cell_type": "code",
   "execution_count": null,
   "metadata": {
    "colab": {
     "base_uri": "https://localhost:8080/"
    },
    "id": "uRRDKGoeBin6",
    "outputId": "acb1591a-562f-42b6-ee57-ccc250d2db72"
   },
   "outputs": [
    {
     "name": "stdout",
     "output_type": "stream",
     "text": [
      "RMSE: 0.8732\n",
      "RMSE: 0.8722\n",
      "RMSE: 0.8718\n",
      "运行时间为2.08min.\n"
     ]
    }
   ],
   "source": [
    "start_time = time.time()\n",
    "# 模型参数设定\n",
    "funk_svd = SVD(n_factors=100, n_epochs=20, biased=False, reg_all=0.02, random_state=0, verbose=False)\n",
    "# K折交叉验证\n",
    "kf = KFold(n_splits=3, random_state=0)\n",
    "for trainset, testset in kf.split(data):\n",
    "  funk_svd.fit(trainset)\n",
    "  pred = funk_svd.test(testset)\n",
    "  # 计算RMSE\n",
    "  accuracy.rmse(pred, verbose=True)\n",
    "print(f'运行时间为{(time.time() - start_time)/60 :.2f}min.')"
   ]
  },
  {
   "cell_type": "markdown",
   "metadata": {
    "id": "2X3OxDlbC0Bt"
   },
   "source": [
    "BiasSVD"
   ]
  },
  {
   "cell_type": "code",
   "execution_count": null,
   "metadata": {
    "colab": {
     "base_uri": "https://localhost:8080/"
    },
    "id": "k3DCGDfe_LEp",
    "outputId": "a31ec1f8-767a-4a04-8939-d27393ecd6dc"
   },
   "outputs": [
    {
     "name": "stdout",
     "output_type": "stream",
     "text": [
      "RMSE: 0.8453\n",
      "RMSE: 0.8437\n",
      "RMSE: 0.8450\n",
      "运行时间为2.09min.\n"
     ]
    }
   ],
   "source": [
    "start_time = time.time()\n",
    "# 模型参数设定\n",
    "bias_svd = SVD(n_factors=100, n_epochs=20, biased=True, reg_all=0.02, random_state=0, verbose=False)\n",
    "# K折交叉验证\n",
    "kf = KFold(n_splits=3, random_state=0)\n",
    "for trainset, testset in kf.split(data):\n",
    "  bias_svd.fit(trainset)\n",
    "  pred = bias_svd.test(testset)\n",
    "  # 计算RMSE\n",
    "  accuracy.rmse(pred, verbose=True)\n",
    "print(f'运行时间为{(time.time() - start_time)/60 :.2f}min.')"
   ]
  },
  {
   "cell_type": "markdown",
   "metadata": {
    "id": "akUbW5ikC6U8"
   },
   "source": [
    "SVD++"
   ]
  },
  {
   "cell_type": "code",
   "execution_count": null,
   "metadata": {
    "colab": {
     "background_save": true,
     "base_uri": "https://localhost:8080/"
    },
    "id": "_N0Abjw5C8Yi",
    "outputId": "7d0dca37-5249-4f30-fc69-3284fbe207cb"
   },
   "outputs": [
    {
     "name": "stdout",
     "output_type": "stream",
     "text": [
      "RMSE: 0.8299\n",
      "RMSE: 0.8289\n",
      "RMSE: 0.8300\n",
      "运行时间为132.39min.\n"
     ]
    }
   ],
   "source": [
    "start_time = time.time()\n",
    "# 模型参数设定\n",
    "svd_pp = SVDpp(n_factors=20, n_epochs=20, reg_all=0.02, random_state=0, verbose=False)\n",
    "# K折交叉验证\n",
    "kf = KFold(n_splits=3, random_state=0)\n",
    "for trainset, testset in kf.split(data):\n",
    "  svd_pp.fit(trainset)\n",
    "  pred = svd_pp.test(testset)\n",
    "  # 计算RMSE\n",
    "  accuracy.rmse(pred, verbose=True)\n",
    "print(f'运行时间为{(time.time() - start_time)/60 :.2f}min.')"
   ]
  }
 ],
 "metadata": {
  "colab": {
   "collapsed_sections": [],
   "name": "Score prediction for MovieLens.ipynb",
   "provenance": []
  },
  "kernelspec": {
   "display_name": "Python 3",
   "language": "python",
   "name": "python3"
  },
  "language_info": {
   "codemirror_mode": {
    "name": "ipython",
    "version": 3
   },
   "file_extension": ".py",
   "mimetype": "text/x-python",
   "name": "python",
   "nbconvert_exporter": "python",
   "pygments_lexer": "ipython3",
   "version": "3.8.3"
  }
 },
 "nbformat": 4,
 "nbformat_minor": 4
}
