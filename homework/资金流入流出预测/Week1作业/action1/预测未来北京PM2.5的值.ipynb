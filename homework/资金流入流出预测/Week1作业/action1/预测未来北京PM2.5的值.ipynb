{
 "cells": [
  {
   "cell_type": "code",
   "execution_count": 24,
   "metadata": {},
   "outputs": [],
   "source": [
    "import pandas as pd\n",
    "import numpy as np\n",
    "import matplotlib.pyplot as plt\n",
    "from datetime import datetime\n",
    "from statsmodels.tsa.arima_model import ARIMA\n",
    "from itertools import product, chain\n",
    "import warnings\n",
    "warnings.filterwarnings('ignore')\n",
    "plt.rcParams['font.family'] = ['sans-serif']\n",
    "plt.rcParams['font.sans-serif'] = ['SimHei']\n",
    "plt.rcParams['axes.unicode_minus'] = False"
   ]
  },
  {
   "cell_type": "markdown",
   "metadata": {},
   "source": [
    "## 数据读取"
   ]
  },
  {
   "cell_type": "code",
   "execution_count": 2,
   "metadata": {},
   "outputs": [
    {
     "data": {
      "text/html": [
       "<div>\n",
       "<style scoped>\n",
       "    .dataframe tbody tr th:only-of-type {\n",
       "        vertical-align: middle;\n",
       "    }\n",
       "\n",
       "    .dataframe tbody tr th {\n",
       "        vertical-align: top;\n",
       "    }\n",
       "\n",
       "    .dataframe thead th {\n",
       "        text-align: right;\n",
       "    }\n",
       "</style>\n",
       "<table border=\"1\" class=\"dataframe\">\n",
       "  <thead>\n",
       "    <tr style=\"text-align: right;\">\n",
       "      <th></th>\n",
       "      <th>year_month_day_hour</th>\n",
       "      <th>pm2.5</th>\n",
       "      <th>DEWP</th>\n",
       "      <th>TEMP</th>\n",
       "      <th>PRES</th>\n",
       "      <th>cbwd</th>\n",
       "      <th>Iws</th>\n",
       "      <th>Is</th>\n",
       "      <th>Ir</th>\n",
       "    </tr>\n",
       "  </thead>\n",
       "  <tbody>\n",
       "    <tr>\n",
       "      <th>0</th>\n",
       "      <td>2010-01-01 00:00:00</td>\n",
       "      <td>NaN</td>\n",
       "      <td>-21</td>\n",
       "      <td>-11.0</td>\n",
       "      <td>1021.0</td>\n",
       "      <td>NW</td>\n",
       "      <td>1.79</td>\n",
       "      <td>0</td>\n",
       "      <td>0</td>\n",
       "    </tr>\n",
       "    <tr>\n",
       "      <th>1</th>\n",
       "      <td>2010-01-01 01:00:00</td>\n",
       "      <td>NaN</td>\n",
       "      <td>-21</td>\n",
       "      <td>-12.0</td>\n",
       "      <td>1020.0</td>\n",
       "      <td>NW</td>\n",
       "      <td>4.92</td>\n",
       "      <td>0</td>\n",
       "      <td>0</td>\n",
       "    </tr>\n",
       "    <tr>\n",
       "      <th>2</th>\n",
       "      <td>2010-01-01 02:00:00</td>\n",
       "      <td>NaN</td>\n",
       "      <td>-21</td>\n",
       "      <td>-11.0</td>\n",
       "      <td>1019.0</td>\n",
       "      <td>NW</td>\n",
       "      <td>6.71</td>\n",
       "      <td>0</td>\n",
       "      <td>0</td>\n",
       "    </tr>\n",
       "  </tbody>\n",
       "</table>\n",
       "</div>"
      ],
      "text/plain": [
       "  year_month_day_hour  pm2.5  DEWP  TEMP    PRES cbwd   Iws  Is  Ir\n",
       "0 2010-01-01 00:00:00    NaN   -21 -11.0  1021.0   NW  1.79   0   0\n",
       "1 2010-01-01 01:00:00    NaN   -21 -12.0  1020.0   NW  4.92   0   0\n",
       "2 2010-01-01 02:00:00    NaN   -21 -11.0  1019.0   NW  6.71   0   0"
      ]
     },
     "execution_count": 2,
     "metadata": {},
     "output_type": "execute_result"
    }
   ],
   "source": [
    "path = './data/'\n",
    "data = pd.read_csv(path + 'PRSA_data_2010.1.1-2014.12.31.csv', \n",
    "                   parse_dates=[['year', 'month', 'day', 'hour']],\n",
    "                   date_parser=lambda y, m, d, h: datetime.strptime(' '.join([y, m, d, h]), '%Y %m %d %H'))\n",
    "data.drop('No', axis=1, inplace=True)\n",
    "data.head(3)"
   ]
  },
  {
   "cell_type": "code",
   "execution_count": 3,
   "metadata": {},
   "outputs": [
    {
     "data": {
      "text/html": [
       "<div>\n",
       "<style scoped>\n",
       "    .dataframe tbody tr th:only-of-type {\n",
       "        vertical-align: middle;\n",
       "    }\n",
       "\n",
       "    .dataframe tbody tr th {\n",
       "        vertical-align: top;\n",
       "    }\n",
       "\n",
       "    .dataframe thead th {\n",
       "        text-align: right;\n",
       "    }\n",
       "</style>\n",
       "<table border=\"1\" class=\"dataframe\">\n",
       "  <thead>\n",
       "    <tr style=\"text-align: right;\">\n",
       "      <th></th>\n",
       "      <th>pollution</th>\n",
       "      <th>dew</th>\n",
       "      <th>temp</th>\n",
       "      <th>press</th>\n",
       "      <th>wnd_dir</th>\n",
       "      <th>wnd_spd</th>\n",
       "      <th>snow</th>\n",
       "      <th>rain</th>\n",
       "    </tr>\n",
       "    <tr>\n",
       "      <th>date</th>\n",
       "      <th></th>\n",
       "      <th></th>\n",
       "      <th></th>\n",
       "      <th></th>\n",
       "      <th></th>\n",
       "      <th></th>\n",
       "      <th></th>\n",
       "      <th></th>\n",
       "    </tr>\n",
       "  </thead>\n",
       "  <tbody>\n",
       "    <tr>\n",
       "      <th>2010-01-01 00:00:00</th>\n",
       "      <td>NaN</td>\n",
       "      <td>-21</td>\n",
       "      <td>-11.0</td>\n",
       "      <td>1021.0</td>\n",
       "      <td>NW</td>\n",
       "      <td>1.79</td>\n",
       "      <td>0</td>\n",
       "      <td>0</td>\n",
       "    </tr>\n",
       "    <tr>\n",
       "      <th>2010-01-01 01:00:00</th>\n",
       "      <td>NaN</td>\n",
       "      <td>-21</td>\n",
       "      <td>-12.0</td>\n",
       "      <td>1020.0</td>\n",
       "      <td>NW</td>\n",
       "      <td>4.92</td>\n",
       "      <td>0</td>\n",
       "      <td>0</td>\n",
       "    </tr>\n",
       "    <tr>\n",
       "      <th>2010-01-01 02:00:00</th>\n",
       "      <td>NaN</td>\n",
       "      <td>-21</td>\n",
       "      <td>-11.0</td>\n",
       "      <td>1019.0</td>\n",
       "      <td>NW</td>\n",
       "      <td>6.71</td>\n",
       "      <td>0</td>\n",
       "      <td>0</td>\n",
       "    </tr>\n",
       "  </tbody>\n",
       "</table>\n",
       "</div>"
      ],
      "text/plain": [
       "                     pollution  dew  temp   press wnd_dir  wnd_spd  snow  rain\n",
       "date                                                                          \n",
       "2010-01-01 00:00:00        NaN  -21 -11.0  1021.0      NW     1.79     0     0\n",
       "2010-01-01 01:00:00        NaN  -21 -12.0  1020.0      NW     4.92     0     0\n",
       "2010-01-01 02:00:00        NaN  -21 -11.0  1019.0      NW     6.71     0     0"
      ]
     },
     "execution_count": 3,
     "metadata": {},
     "output_type": "execute_result"
    }
   ],
   "source": [
    "data.columns = ['date', 'pollution', 'dew', 'temp', 'press', 'wnd_dir', 'wnd_spd', 'snow', 'rain']\n",
    "data.set_index('date', inplace=True)\n",
    "data.head(3)"
   ]
  },
  {
   "cell_type": "code",
   "execution_count": 4,
   "metadata": {},
   "outputs": [
    {
     "name": "stdout",
     "output_type": "stream",
     "text": [
      "<class 'pandas.core.frame.DataFrame'>\n",
      "DatetimeIndex: 43824 entries, 2010-01-01 00:00:00 to 2014-12-31 23:00:00\n",
      "Data columns (total 8 columns):\n",
      " #   Column     Non-Null Count  Dtype  \n",
      "---  ------     --------------  -----  \n",
      " 0   pollution  41757 non-null  float64\n",
      " 1   dew        43824 non-null  int64  \n",
      " 2   temp       43824 non-null  float64\n",
      " 3   press      43824 non-null  float64\n",
      " 4   wnd_dir    43824 non-null  object \n",
      " 5   wnd_spd    43824 non-null  float64\n",
      " 6   snow       43824 non-null  int64  \n",
      " 7   rain       43824 non-null  int64  \n",
      "dtypes: float64(4), int64(3), object(1)\n",
      "memory usage: 3.0+ MB\n"
     ]
    }
   ],
   "source": [
    "data.info()"
   ]
  },
  {
   "cell_type": "code",
   "execution_count": 5,
   "metadata": {},
   "outputs": [
    {
     "data": {
      "text/html": [
       "<div>\n",
       "<style scoped>\n",
       "    .dataframe tbody tr th:only-of-type {\n",
       "        vertical-align: middle;\n",
       "    }\n",
       "\n",
       "    .dataframe tbody tr th {\n",
       "        vertical-align: top;\n",
       "    }\n",
       "\n",
       "    .dataframe thead th {\n",
       "        text-align: right;\n",
       "    }\n",
       "</style>\n",
       "<table border=\"1\" class=\"dataframe\">\n",
       "  <thead>\n",
       "    <tr style=\"text-align: right;\">\n",
       "      <th></th>\n",
       "      <th>pollution</th>\n",
       "      <th>dew</th>\n",
       "      <th>temp</th>\n",
       "      <th>press</th>\n",
       "      <th>wnd_dir</th>\n",
       "      <th>wnd_spd</th>\n",
       "      <th>snow</th>\n",
       "      <th>rain</th>\n",
       "    </tr>\n",
       "    <tr>\n",
       "      <th>date</th>\n",
       "      <th></th>\n",
       "      <th></th>\n",
       "      <th></th>\n",
       "      <th></th>\n",
       "      <th></th>\n",
       "      <th></th>\n",
       "      <th></th>\n",
       "      <th></th>\n",
       "    </tr>\n",
       "  </thead>\n",
       "  <tbody>\n",
       "    <tr>\n",
       "      <th>2010-01-02 00:00:00</th>\n",
       "      <td>129.0</td>\n",
       "      <td>-16</td>\n",
       "      <td>-4.0</td>\n",
       "      <td>1020.0</td>\n",
       "      <td>SE</td>\n",
       "      <td>1.79</td>\n",
       "      <td>0</td>\n",
       "      <td>0</td>\n",
       "    </tr>\n",
       "    <tr>\n",
       "      <th>2010-01-02 01:00:00</th>\n",
       "      <td>148.0</td>\n",
       "      <td>-15</td>\n",
       "      <td>-4.0</td>\n",
       "      <td>1020.0</td>\n",
       "      <td>SE</td>\n",
       "      <td>2.68</td>\n",
       "      <td>0</td>\n",
       "      <td>0</td>\n",
       "    </tr>\n",
       "    <tr>\n",
       "      <th>2010-01-02 02:00:00</th>\n",
       "      <td>159.0</td>\n",
       "      <td>-11</td>\n",
       "      <td>-5.0</td>\n",
       "      <td>1021.0</td>\n",
       "      <td>SE</td>\n",
       "      <td>3.57</td>\n",
       "      <td>0</td>\n",
       "      <td>0</td>\n",
       "    </tr>\n",
       "  </tbody>\n",
       "</table>\n",
       "</div>"
      ],
      "text/plain": [
       "                     pollution  dew  temp   press wnd_dir  wnd_spd  snow  rain\n",
       "date                                                                          \n",
       "2010-01-02 00:00:00      129.0  -16  -4.0  1020.0      SE     1.79     0     0\n",
       "2010-01-02 01:00:00      148.0  -15  -4.0  1020.0      SE     2.68     0     0\n",
       "2010-01-02 02:00:00      159.0  -11  -5.0  1021.0      SE     3.57     0     0"
      ]
     },
     "execution_count": 5,
     "metadata": {},
     "output_type": "execute_result"
    }
   ],
   "source": [
    "# 查看数据集可知，2010年1月1日PM2.5值缺失，去掉这一天数据\n",
    "data = data[data.index >= '2010-1-2']\n",
    "data.head(3)"
   ]
  },
  {
   "cell_type": "code",
   "execution_count": 6,
   "metadata": {},
   "outputs": [
    {
     "data": {
      "text/plain": [
       "pollution    2043\n",
       "dew             0\n",
       "temp            0\n",
       "press           0\n",
       "wnd_dir         0\n",
       "wnd_spd         0\n",
       "snow            0\n",
       "rain            0\n",
       "dtype: int64"
      ]
     },
     "execution_count": 6,
     "metadata": {},
     "output_type": "execute_result"
    }
   ],
   "source": [
    "# 说明数据集中间仍存在数据缺失的情况\n",
    "data.isna().sum()"
   ]
  },
  {
   "cell_type": "code",
   "execution_count": 7,
   "metadata": {},
   "outputs": [
    {
     "data": {
      "text/plain": [
       "False"
      ]
     },
     "execution_count": 7,
     "metadata": {},
     "output_type": "execute_result"
    }
   ],
   "source": [
    "# 采用线性插值进行缺失值填充\n",
    "data['pollution'] = data['pollution'].interpolate()\n",
    "data.isna().any().any()"
   ]
  },
  {
   "cell_type": "markdown",
   "metadata": {},
   "source": [
    "## 使用ARIMA模型进行预测"
   ]
  },
  {
   "cell_type": "markdown",
   "metadata": {},
   "source": [
    "### 预测未来3天的PM2.5\n",
    "将数据转换为每日均值，并预测2014年最后3天的结果，与真实值进行比较。"
   ]
  },
  {
   "cell_type": "code",
   "execution_count": 8,
   "metadata": {},
   "outputs": [
    {
     "data": {
      "text/plain": [
       "date\n",
       "2010-01-02    145.958333\n",
       "2010-01-03     78.833333\n",
       "2010-01-04     31.333333\n",
       "2014-12-29    159.000000\n",
       "2014-12-30     46.083333\n",
       "2014-12-31     10.041667\n",
       "Name: pollution, dtype: float64"
      ]
     },
     "execution_count": 8,
     "metadata": {},
     "output_type": "execute_result"
    }
   ],
   "source": [
    "df_day = data['pollution'].resample('d').mean()\n",
    "df_day.head(3).append(df_day.tail(3))"
   ]
  },
  {
   "cell_type": "code",
   "execution_count": 9,
   "metadata": {},
   "outputs": [
    {
     "data": {
      "text/html": [
       "<div>\n",
       "<style scoped>\n",
       "    .dataframe tbody tr th:only-of-type {\n",
       "        vertical-align: middle;\n",
       "    }\n",
       "\n",
       "    .dataframe tbody tr th {\n",
       "        vertical-align: top;\n",
       "    }\n",
       "\n",
       "    .dataframe thead th {\n",
       "        text-align: right;\n",
       "    }\n",
       "</style>\n",
       "<table border=\"1\" class=\"dataframe\">\n",
       "  <thead>\n",
       "    <tr style=\"text-align: right;\">\n",
       "      <th></th>\n",
       "      <th>pollution</th>\n",
       "    </tr>\n",
       "    <tr>\n",
       "      <th>date</th>\n",
       "      <th></th>\n",
       "    </tr>\n",
       "  </thead>\n",
       "  <tbody>\n",
       "    <tr>\n",
       "      <th>2010-01-02</th>\n",
       "      <td>145.958333</td>\n",
       "    </tr>\n",
       "    <tr>\n",
       "      <th>2010-01-03</th>\n",
       "      <td>78.833333</td>\n",
       "    </tr>\n",
       "    <tr>\n",
       "      <th>2010-01-04</th>\n",
       "      <td>31.333333</td>\n",
       "    </tr>\n",
       "    <tr>\n",
       "      <th>2014-12-29</th>\n",
       "      <td>159.000000</td>\n",
       "    </tr>\n",
       "    <tr>\n",
       "      <th>2014-12-30</th>\n",
       "      <td>46.083333</td>\n",
       "    </tr>\n",
       "    <tr>\n",
       "      <th>2014-12-31</th>\n",
       "      <td>10.041667</td>\n",
       "    </tr>\n",
       "  </tbody>\n",
       "</table>\n",
       "</div>"
      ],
      "text/plain": [
       "             pollution\n",
       "date                  \n",
       "2010-01-02  145.958333\n",
       "2010-01-03   78.833333\n",
       "2010-01-04   31.333333\n",
       "2014-12-29  159.000000\n",
       "2014-12-30   46.083333\n",
       "2014-12-31   10.041667"
      ]
     },
     "execution_count": 9,
     "metadata": {},
     "output_type": "execute_result"
    }
   ],
   "source": [
    "df_day = data[['pollution']].resample('d').mean()\n",
    "df_day.head(3).append(df_day.tail(3))"
   ]
  },
  {
   "cell_type": "code",
   "execution_count": 10,
   "metadata": {},
   "outputs": [],
   "source": [
    "tra_data = df_day.iloc[:-3]\n",
    "y = df_day.iloc[-3:]"
   ]
  },
  {
   "cell_type": "code",
   "execution_count": 38,
   "metadata": {},
   "outputs": [
    {
     "name": "stdout",
     "output_type": "stream",
     "text": [
      "最优阶数为(p, d, q) = (5, 1, 4)，模型aic = 20220.119972618304.\n",
      "CPU times: user 26min 57s, sys: 16min 51s, total: 43min 49s\n",
      "Wall time: 27min 49s\n"
     ]
    },
    {
     "data": {
      "text/html": [
       "<table class=\"simpletable\">\n",
       "<caption>ARIMA Model Results</caption>\n",
       "<tr>\n",
       "  <th>Dep. Variable:</th>    <td>D.pollution</td>   <th>  No. Observations:  </th>    <td>1821</td>   \n",
       "</tr>\n",
       "<tr>\n",
       "  <th>Model:</th>          <td>ARIMA(5, 1, 4)</td>  <th>  Log Likelihood     </th> <td>-10099.060</td>\n",
       "</tr>\n",
       "<tr>\n",
       "  <th>Method:</th>             <td>css-mle</td>     <th>  S.D. of innovations</th>   <td>61.802</td>  \n",
       "</tr>\n",
       "<tr>\n",
       "  <th>Date:</th>          <td>Sun, 03 Jan 2021</td> <th>  AIC                </th>  <td>20220.120</td>\n",
       "</tr>\n",
       "<tr>\n",
       "  <th>Time:</th>              <td>13:43:57</td>     <th>  BIC                </th>  <td>20280.699</td>\n",
       "</tr>\n",
       "<tr>\n",
       "  <th>Sample:</th>           <td>01-03-2010</td>    <th>  HQIC               </th>  <td>20242.469</td>\n",
       "</tr>\n",
       "<tr>\n",
       "  <th></th>                 <td>- 12-28-2014</td>   <th>                     </th>      <td> </td>    \n",
       "</tr>\n",
       "</table>\n",
       "<table class=\"simpletable\">\n",
       "<tr>\n",
       "          <td></td>             <th>coef</th>     <th>std err</th>      <th>z</th>      <th>P>|z|</th>  <th>[0.025</th>    <th>0.975]</th>  \n",
       "</tr>\n",
       "<tr>\n",
       "  <th>const</th>             <td>   -0.0018</td> <td>    0.008</td> <td>   -0.226</td> <td> 0.821</td> <td>   -0.017</td> <td>    0.014</td>\n",
       "</tr>\n",
       "<tr>\n",
       "  <th>ar.L1.D.pollution</th> <td>    0.0051</td> <td>    0.022</td> <td>    0.232</td> <td> 0.817</td> <td>   -0.038</td> <td>    0.048</td>\n",
       "</tr>\n",
       "<tr>\n",
       "  <th>ar.L2.D.pollution</th> <td>    0.8091</td> <td>    0.018</td> <td>   44.625</td> <td> 0.000</td> <td>    0.774</td> <td>    0.845</td>\n",
       "</tr>\n",
       "<tr>\n",
       "  <th>ar.L3.D.pollution</th> <td>    0.4808</td> <td>    0.025</td> <td>   19.238</td> <td> 0.000</td> <td>    0.432</td> <td>    0.530</td>\n",
       "</tr>\n",
       "<tr>\n",
       "  <th>ar.L4.D.pollution</th> <td>   -0.5116</td> <td>    0.020</td> <td>  -26.162</td> <td> 0.000</td> <td>   -0.550</td> <td>   -0.473</td>\n",
       "</tr>\n",
       "<tr>\n",
       "  <th>ar.L5.D.pollution</th> <td>    0.1593</td> <td>    0.023</td> <td>    6.865</td> <td> 0.000</td> <td>    0.114</td> <td>    0.205</td>\n",
       "</tr>\n",
       "<tr>\n",
       "  <th>ma.L1.D.pollution</th> <td>   -0.3290</td> <td>      nan</td> <td>      nan</td> <td>   nan</td> <td>      nan</td> <td>      nan</td>\n",
       "</tr>\n",
       "<tr>\n",
       "  <th>ma.L2.D.pollution</th> <td>   -1.2209</td> <td>      nan</td> <td>      nan</td> <td>   nan</td> <td>      nan</td> <td>      nan</td>\n",
       "</tr>\n",
       "<tr>\n",
       "  <th>ma.L3.D.pollution</th> <td>   -0.4039</td> <td>      nan</td> <td>      nan</td> <td>   nan</td> <td>      nan</td> <td>      nan</td>\n",
       "</tr>\n",
       "<tr>\n",
       "  <th>ma.L4.D.pollution</th> <td>    0.9538</td> <td>      nan</td> <td>      nan</td> <td>   nan</td> <td>      nan</td> <td>      nan</td>\n",
       "</tr>\n",
       "</table>\n",
       "<table class=\"simpletable\">\n",
       "<caption>Roots</caption>\n",
       "<tr>\n",
       "    <td></td>   <th>            Real</th>  <th>         Imaginary</th> <th>         Modulus</th>  <th>        Frequency</th>\n",
       "</tr>\n",
       "<tr>\n",
       "  <th>AR.1</th> <td>          -0.8163</td> <td>          -0.5936j</td> <td>           1.0093</td> <td>          -0.3999</td>\n",
       "</tr>\n",
       "<tr>\n",
       "  <th>AR.2</th> <td>          -0.8163</td> <td>          +0.5936j</td> <td>           1.0093</td> <td>           0.3999</td>\n",
       "</tr>\n",
       "<tr>\n",
       "  <th>AR.3</th> <td>           1.0311</td> <td>          -0.0000j</td> <td>           1.0311</td> <td>          -0.0000</td>\n",
       "</tr>\n",
       "<tr>\n",
       "  <th>AR.4</th> <td>           1.9068</td> <td>          -1.5303j</td> <td>           2.4449</td> <td>          -0.1076</td>\n",
       "</tr>\n",
       "<tr>\n",
       "  <th>AR.5</th> <td>           1.9068</td> <td>          +1.5303j</td> <td>           2.4449</td> <td>           0.1076</td>\n",
       "</tr>\n",
       "<tr>\n",
       "  <th>MA.1</th> <td>          -0.8125</td> <td>          -0.5831j</td> <td>           1.0000</td> <td>          -0.4009</td>\n",
       "</tr>\n",
       "<tr>\n",
       "  <th>MA.2</th> <td>          -0.8125</td> <td>          +0.5831j</td> <td>           1.0000</td> <td>           0.4009</td>\n",
       "</tr>\n",
       "<tr>\n",
       "  <th>MA.3</th> <td>           1.0000</td> <td>          -0.0000j</td> <td>           1.0000</td> <td>          -0.0000</td>\n",
       "</tr>\n",
       "<tr>\n",
       "  <th>MA.4</th> <td>           1.0484</td> <td>          -0.0000j</td> <td>           1.0484</td> <td>          -0.0000</td>\n",
       "</tr>\n",
       "</table>"
      ],
      "text/plain": [
       "<class 'statsmodels.iolib.summary.Summary'>\n",
       "\"\"\"\n",
       "                             ARIMA Model Results                              \n",
       "==============================================================================\n",
       "Dep. Variable:            D.pollution   No. Observations:                 1821\n",
       "Model:                 ARIMA(5, 1, 4)   Log Likelihood              -10099.060\n",
       "Method:                       css-mle   S.D. of innovations             61.802\n",
       "Date:                Sun, 03 Jan 2021   AIC                          20220.120\n",
       "Time:                        13:43:57   BIC                          20280.699\n",
       "Sample:                    01-03-2010   HQIC                         20242.469\n",
       "                         - 12-28-2014                                         \n",
       "=====================================================================================\n",
       "                        coef    std err          z      P>|z|      [0.025      0.975]\n",
       "-------------------------------------------------------------------------------------\n",
       "const                -0.0018      0.008     -0.226      0.821      -0.017       0.014\n",
       "ar.L1.D.pollution     0.0051      0.022      0.232      0.817      -0.038       0.048\n",
       "ar.L2.D.pollution     0.8091      0.018     44.625      0.000       0.774       0.845\n",
       "ar.L3.D.pollution     0.4808      0.025     19.238      0.000       0.432       0.530\n",
       "ar.L4.D.pollution    -0.5116      0.020    -26.162      0.000      -0.550      -0.473\n",
       "ar.L5.D.pollution     0.1593      0.023      6.865      0.000       0.114       0.205\n",
       "ma.L1.D.pollution    -0.3290        nan        nan        nan         nan         nan\n",
       "ma.L2.D.pollution    -1.2209        nan        nan        nan         nan         nan\n",
       "ma.L3.D.pollution    -0.4039        nan        nan        nan         nan         nan\n",
       "ma.L4.D.pollution     0.9538        nan        nan        nan         nan         nan\n",
       "                                    Roots                                    \n",
       "=============================================================================\n",
       "                  Real          Imaginary           Modulus         Frequency\n",
       "-----------------------------------------------------------------------------\n",
       "AR.1           -0.8163           -0.5936j            1.0093           -0.3999\n",
       "AR.2           -0.8163           +0.5936j            1.0093            0.3999\n",
       "AR.3            1.0311           -0.0000j            1.0311           -0.0000\n",
       "AR.4            1.9068           -1.5303j            2.4449           -0.1076\n",
       "AR.5            1.9068           +1.5303j            2.4449            0.1076\n",
       "MA.1           -0.8125           -0.5831j            1.0000           -0.4009\n",
       "MA.2           -0.8125           +0.5831j            1.0000            0.4009\n",
       "MA.3            1.0000           -0.0000j            1.0000           -0.0000\n",
       "MA.4            1.0484           -0.0000j            1.0484           -0.0000\n",
       "-----------------------------------------------------------------------------\n",
       "\"\"\""
      ]
     },
     "execution_count": 38,
     "metadata": {},
     "output_type": "execute_result"
    }
   ],
   "source": [
    "%%time\n",
    "best_aic = float('inf')\n",
    "for p, d, q in product(range(6), range(3), range(6)):\n",
    "    try:\n",
    "        print(f'当前order = {(p, d, q)}', end='\\r')\n",
    "        arima_model = ARIMA(tra_data, order=(p, d, q)).fit()\n",
    "        if arima_model.aic < best_aic:\n",
    "            best_aic = arima_model.aic\n",
    "            best_order = (p, d, q)\n",
    "            best_model = arima_model\n",
    "    except ValueError:\n",
    "        pass\n",
    "print(f\"最优阶数为(p, d, q) = {best_order}，模型aic = {best_aic}.\")\n",
    "best_model.summary()"
   ]
  },
  {
   "cell_type": "code",
   "execution_count": 39,
   "metadata": {},
   "outputs": [
    {
     "data": {
      "text/plain": [
       "2014-12-29    44.943715\n",
       "2014-12-30    17.555884\n",
       "2014-12-31    25.247305\n",
       "Freq: D, dtype: float64"
      ]
     },
     "execution_count": 39,
     "metadata": {},
     "output_type": "execute_result"
    }
   ],
   "source": [
    "# 预测结果\n",
    "arima_model.predict('2014-12-29', '2014-12-31')"
   ]
  },
  {
   "cell_type": "code",
   "execution_count": 40,
   "metadata": {},
   "outputs": [
    {
     "data": {
      "text/html": [
       "<div>\n",
       "<style scoped>\n",
       "    .dataframe tbody tr th:only-of-type {\n",
       "        vertical-align: middle;\n",
       "    }\n",
       "\n",
       "    .dataframe tbody tr th {\n",
       "        vertical-align: top;\n",
       "    }\n",
       "\n",
       "    .dataframe thead th {\n",
       "        text-align: right;\n",
       "    }\n",
       "</style>\n",
       "<table border=\"1\" class=\"dataframe\">\n",
       "  <thead>\n",
       "    <tr style=\"text-align: right;\">\n",
       "      <th></th>\n",
       "      <th>pollution</th>\n",
       "    </tr>\n",
       "    <tr>\n",
       "      <th>date</th>\n",
       "      <th></th>\n",
       "    </tr>\n",
       "  </thead>\n",
       "  <tbody>\n",
       "    <tr>\n",
       "      <th>2014-12-29</th>\n",
       "      <td>159.000000</td>\n",
       "    </tr>\n",
       "    <tr>\n",
       "      <th>2014-12-30</th>\n",
       "      <td>46.083333</td>\n",
       "    </tr>\n",
       "    <tr>\n",
       "      <th>2014-12-31</th>\n",
       "      <td>10.041667</td>\n",
       "    </tr>\n",
       "  </tbody>\n",
       "</table>\n",
       "</div>"
      ],
      "text/plain": [
       "             pollution\n",
       "date                  \n",
       "2014-12-29  159.000000\n",
       "2014-12-30   46.083333\n",
       "2014-12-31   10.041667"
      ]
     },
     "execution_count": 40,
     "metadata": {},
     "output_type": "execute_result"
    }
   ],
   "source": [
    "# 实际结果\n",
    "y"
   ]
  },
  {
   "cell_type": "markdown",
   "metadata": {},
   "source": [
    "可见ARIMA模型的预测结果与实际结果还是有一定差距。"
   ]
  },
  {
   "cell_type": "markdown",
   "metadata": {},
   "source": [
    "### 可视化分析\n",
    "对2014年的真实值、ARIMA在训练集的拟合曲线、以及对2014年最后3天PM2.5的预测值进行可视化，从下图可见，模型拟合效果确实不太好。"
   ]
  },
  {
   "cell_type": "code",
   "execution_count": 41,
   "metadata": {},
   "outputs": [
    {
     "data": {
      "text/plain": [
       "<matplotlib.legend.Legend at 0x7f12dab6bfd0>"
      ]
     },
     "execution_count": 41,
     "metadata": {},
     "output_type": "execute_result"
    },
    {
     "data": {
      "image/png": "[encoded data removed]",
      "text/plain": [
       "<Figure size 1152x360 with 1 Axes>"
      ]
     },
     "metadata": {
      "needs_background": "light"
     },
     "output_type": "display_data"
    }
   ],
   "source": [
    "plt.figure(figsize=(16, 5))\n",
    "plt.plot(df_day.loc['2014':], label='实际值')\n",
    "plt.plot(arima_model.predict('2014', '2014-12-28'), label='拟合曲线')\n",
    "plt.plot(arima_model.predict('2014-12-28', '2014-12-31'), label='预测值')\n",
    "plt.legend()"
   ]
  },
  {
   "cell_type": "markdown",
   "metadata": {},
   "source": [
    "## 使用LSTM模型进行预测"
   ]
  },
  {
   "cell_type": "markdown",
   "metadata": {},
   "source": [
    "由于深度学习需要优化的参数较多，因此这里还是使用原始的按小时采样的数据，免得按天取平均得到的数据量太少（1825）."
   ]
  },
  {
   "cell_type": "code",
   "execution_count": 12,
   "metadata": {},
   "outputs": [
    {
     "name": "stdout",
     "output_type": "stream",
     "text": [
      "Collecting keras\n",
      "  Downloading Keras-2.4.3-py2.py3-none-any.whl (36 kB)\n",
      "Requirement already satisfied: numpy>=1.9.1 in c:\\users\\admin\\anaconda3\\lib\\site-packages (from keras) (1.18.5)\n",
      "Requirement already satisfied: h5py in c:\\users\\admin\\anaconda3\\lib\\site-packages (from keras) (2.10.0)\n",
      "Requirement already satisfied: scipy>=0.14 in c:\\users\\admin\\anaconda3\\lib\\site-packages (from keras) (1.5.0)\n",
      "Requirement already satisfied: pyyaml in c:\\users\\admin\\anaconda3\\lib\\site-packages (from keras) (5.3.1)\n",
      "Requirement already satisfied: six in c:\\users\\admin\\anaconda3\\lib\\site-packages (from h5py->keras) (1.15.0)\n",
      "Installing collected packages: keras\n",
      "Successfully installed keras-2.4.3\n"
     ]
    }
   ],
   "source": [
    "!pip install keras"
   ]
  },
  {
   "cell_type": "code",
   "execution_count": 13,
   "metadata": {},
   "outputs": [],
   "source": [
    "from keras.models import Sequential\n",
    "from keras.layers import Dense, LSTM, Dropout"
   ]
  },
  {
   "cell_type": "code",
   "execution_count": 14,
   "metadata": {},
   "outputs": [],
   "source": [
    "# 转化为可以用于监督学习的数据\n",
    "def get_train_set(data_set, timesteps_in, timesteps_out=1):\n",
    "    train_data_set = np.array(data_set)\n",
    "    reframed_train_data_set = np.array(series_to_supervised(train_data_set, timesteps_in, timesteps_out).values)\n",
    "#     print(reframed_train_data_set)\n",
    "#     print(reframed_train_data_set.shape)\n",
    "    train_x, train_y = reframed_train_data_set[:, :-timesteps_out], reframed_train_data_set[:, -timesteps_out:]\n",
    "    # 将数据集重构为符合LSTM要求的数据格式,即 [样本数，时间步，特征]\n",
    "    train_x = train_x.reshape((train_x.shape[0], timesteps_in, 1))\n",
    "    # test_data是用于计算correlation与spearman-correlation而存在\n",
    "    test_data = train_data_set[train_x.shape[0] + timesteps_out:, :]\n",
    "    #pd.DataFrame(reframed_train_data_set).to_csv('temp.csv')\n",
    "    return train_x, train_y, test_data"
   ]
  },
  {
   "cell_type": "code",
   "execution_count": 15,
   "metadata": {},
   "outputs": [],
   "source": [
    "# 将时间序列数据转换为适用于监督学习的数据\n",
    "def series_to_supervised(data, n_in=1, n_out=1, dropnan=True):\n",
    "    n_vars = 1 if type(data) is list else data.shape[1]\n",
    "    df = pd.DataFrame(data)\n",
    "    cols, names = list(), list()\n",
    "    # input sequence (t-n, ... t-1)\n",
    "    for i in range(n_in, 0, -1):\n",
    "        cols.append(df.shift(i))\n",
    "        names += [('var%d(t-%d)' % (j+1, i)) for j in range(n_vars)]\n",
    "    # forecast sequence (t, t+1, ... t+n)\n",
    "    for i in range(0, n_out):\n",
    "        cols.append(df.shift(-i))\n",
    "        if i == 0:\n",
    "            names += [('var%d(t)' % (j+1)) for j in range(n_vars)]\n",
    "        else:\n",
    "            names += [('var%d(t+%d)' % (j+1, i)) for j in range(n_vars)]\n",
    "    # put it all together\n",
    "    agg = pd.concat(cols, axis=1)\n",
    "    agg.columns = names\n",
    "    # drop rows with NaN values\n",
    "    if dropnan:\n",
    "        agg.dropna(inplace=True)\n",
    "    return agg"
   ]
  },
  {
   "cell_type": "code",
   "execution_count": 16,
   "metadata": {},
   "outputs": [],
   "source": [
    "# 呈现原始数据，训练结果，验证结果，预测结果\n",
    "def plot_img(source_data_set, train_predict):\n",
    "    plt.figure(figsize=(24, 8))\n",
    "    # 原始数据蓝色\n",
    "    plt.plot(source_data_set[:, -1], c='b')\n",
    "    # 训练数据绿色\n",
    "    plt.plot([x for x in train_predict], c='g')\n",
    "    plt.legend()\n",
    "    plt.show()"
   ]
  },
  {
   "cell_type": "code",
   "execution_count": 27,
   "metadata": {},
   "outputs": [],
   "source": [
    "# 使用LSTM进行预测\n",
    "def lstm_model(source_data_set, train_x, label_y, input_epochs, input_batch_size, test_data, timesteps_out):\n",
    "    model = Sequential()  \n",
    "    # 第一层, 隐藏层神经元节点个数为128, 返回整个序列\n",
    "    model.add(LSTM(32, return_sequences=True, activation='tanh', input_shape=(train_x.shape[1], train_x.shape[2])))\n",
    "    # 第二层，隐藏层神经元节点个数为128, 只返回序列最后一个输出\n",
    "    model.add(LSTM(16, return_sequences=False))\n",
    "    model.add(Dropout(0.5))\n",
    "    # 第三层 因为是回归问题所以使用linear\n",
    "    model.add(Dense(timesteps_out, activation='linear'))\n",
    "    model.compile(loss='mean_squared_error', optimizer='adam')\n",
    "    # LSTM训练 input_epochs次数\n",
    "    res = model.fit(train_x, label_y, epochs=input_epochs, batch_size=input_batch_size, verbose=2, shuffle=False)\n",
    "    # 模型预测\n",
    "    test_predict = model.predict(train_x)  \n",
    "    # 串联多个迭代对象，形成更大的迭代对象\n",
    "    test_data_list = list(chain(*test_data))\n",
    "    test_predict_list = list(chain(*test_predict))\n",
    "    plt.plot(res.history['loss'], label='train')\n",
    "    plt.show()\n",
    "    print(model.summary())\n",
    "    plot_img(source_data_set, test_predict)"
   ]
  },
  {
   "cell_type": "code",
   "execution_count": 28,
   "metadata": {
    "scrolled": false
   },
   "outputs": [
    {
     "name": "stdout",
     "output_type": "stream",
     "text": [
      "Epoch 1/100\n",
      "438/438 - 1s - loss: 16766.9648\n",
      "Epoch 2/100\n",
      "438/438 - 1s - loss: 15498.8115\n",
      "Epoch 3/100\n",
      "438/438 - 1s - loss: 14525.7441\n",
      "Epoch 4/100\n",
      "438/438 - 1s - loss: 13653.4336\n",
      "Epoch 5/100\n",
      "438/438 - 1s - loss: 12875.4609\n",
      "Epoch 6/100\n",
      "438/438 - 1s - loss: 12166.0420\n",
      "Epoch 7/100\n",
      "438/438 - 1s - loss: 11495.3145\n",
      "Epoch 8/100\n",
      "438/438 - 1s - loss: 10894.9590\n",
      "Epoch 9/100\n",
      "438/438 - 1s - loss: 10364.5010\n",
      "Epoch 10/100\n",
      "438/438 - 1s - loss: 9843.8945\n",
      "Epoch 11/100\n",
      "438/438 - 1s - loss: 9361.8281\n",
      "Epoch 12/100\n",
      "438/438 - 1s - loss: 8918.0381\n",
      "Epoch 13/100\n",
      "438/438 - 1s - loss: 8531.0488\n",
      "Epoch 14/100\n",
      "438/438 - 1s - loss: 8147.2134\n",
      "Epoch 15/100\n",
      "438/438 - 1s - loss: 7800.8423\n",
      "Epoch 16/100\n",
      "438/438 - 1s - loss: 7493.0410\n",
      "Epoch 17/100\n",
      "438/438 - 1s - loss: 7221.6748\n",
      "Epoch 18/100\n",
      "438/438 - 1s - loss: 6933.5879\n",
      "Epoch 19/100\n",
      "438/438 - 1s - loss: 6693.0894\n",
      "Epoch 20/100\n",
      "438/438 - 1s - loss: 6427.8291\n",
      "Epoch 21/100\n",
      "438/438 - 1s - loss: 6233.4194\n",
      "Epoch 22/100\n",
      "438/438 - 1s - loss: 6014.0977\n",
      "Epoch 23/100\n",
      "438/438 - 2s - loss: 5827.1235\n",
      "Epoch 24/100\n",
      "438/438 - 1s - loss: 5615.0244\n",
      "Epoch 25/100\n",
      "438/438 - 1s - loss: 5451.2212\n",
      "Epoch 26/100\n",
      "438/438 - 1s - loss: 5324.4980\n",
      "Epoch 27/100\n",
      "438/438 - 1s - loss: 5136.8169\n",
      "Epoch 28/100\n",
      "438/438 - 1s - loss: 5000.9590\n",
      "Epoch 29/100\n",
      "438/438 - 1s - loss: 4890.7959\n",
      "Epoch 30/100\n",
      "438/438 - 1s - loss: 4752.4927\n",
      "Epoch 31/100\n",
      "438/438 - 1s - loss: 4663.0054\n",
      "Epoch 32/100\n",
      "438/438 - 1s - loss: 4501.9644\n",
      "Epoch 33/100\n",
      "438/438 - 1s - loss: 4428.4722\n",
      "Epoch 34/100\n",
      "438/438 - 1s - loss: 4307.8271\n",
      "Epoch 35/100\n",
      "438/438 - 1s - loss: 4237.5327\n",
      "Epoch 36/100\n",
      "438/438 - 1s - loss: 4132.4053\n",
      "Epoch 37/100\n",
      "438/438 - 1s - loss: 4064.9714\n",
      "Epoch 38/100\n",
      "438/438 - 1s - loss: 4010.0303\n",
      "Epoch 39/100\n",
      "438/438 - 1s - loss: 3886.4846\n",
      "Epoch 40/100\n",
      "438/438 - 1s - loss: 3816.8188\n",
      "Epoch 41/100\n",
      "438/438 - 1s - loss: 3738.4399\n",
      "Epoch 42/100\n",
      "438/438 - 1s - loss: 3686.4116\n",
      "Epoch 43/100\n",
      "438/438 - 1s - loss: 3633.1340\n",
      "Epoch 44/100\n",
      "438/438 - 1s - loss: 3540.6799\n",
      "Epoch 45/100\n",
      "438/438 - 1s - loss: 3530.7673\n",
      "Epoch 46/100\n",
      "438/438 - 1s - loss: 3416.2529\n",
      "Epoch 47/100\n",
      "438/438 - 1s - loss: 3416.9978\n",
      "Epoch 48/100\n",
      "438/438 - 1s - loss: 3343.5984\n",
      "Epoch 49/100\n",
      "438/438 - 1s - loss: 3297.4521\n",
      "Epoch 50/100\n",
      "438/438 - 1s - loss: 3270.4934\n",
      "Epoch 51/100\n",
      "438/438 - 1s - loss: 3178.5652\n",
      "Epoch 52/100\n",
      "438/438 - 1s - loss: 3158.2939\n",
      "Epoch 53/100\n",
      "438/438 - 1s - loss: 3125.7979\n",
      "Epoch 54/100\n",
      "438/438 - 1s - loss: 3094.1191\n",
      "Epoch 55/100\n",
      "438/438 - 1s - loss: 3029.0144\n",
      "Epoch 56/100\n",
      "438/438 - 1s - loss: 3024.0334\n",
      "Epoch 57/100\n",
      "438/438 - 1s - loss: 3004.0151\n",
      "Epoch 58/100\n",
      "438/438 - 1s - loss: 2923.5154\n",
      "Epoch 59/100\n",
      "438/438 - 1s - loss: 2926.7310\n",
      "Epoch 60/100\n",
      "438/438 - 1s - loss: 2922.2109\n",
      "Epoch 61/100\n",
      "438/438 - 1s - loss: 2859.2898\n",
      "Epoch 62/100\n",
      "438/438 - 1s - loss: 2852.2314\n",
      "Epoch 63/100\n",
      "438/438 - 1s - loss: 2813.4102\n",
      "Epoch 64/100\n",
      "438/438 - 1s - loss: 2807.3059\n",
      "Epoch 65/100\n",
      "438/438 - 1s - loss: 2784.9844\n",
      "Epoch 66/100\n",
      "438/438 - 1s - loss: 2722.1819\n",
      "Epoch 67/100\n",
      "438/438 - 1s - loss: 2734.7625\n",
      "Epoch 68/100\n",
      "438/438 - 1s - loss: 2693.1040\n",
      "Epoch 69/100\n",
      "438/438 - 1s - loss: 2653.1294\n",
      "Epoch 70/100\n",
      "438/438 - 1s - loss: 2664.5906\n",
      "Epoch 71/100\n",
      "438/438 - 1s - loss: 2637.2227\n",
      "Epoch 72/100\n",
      "438/438 - 1s - loss: 2625.0981\n",
      "Epoch 73/100\n",
      "438/438 - 1s - loss: 2583.3345\n",
      "Epoch 74/100\n",
      "438/438 - 1s - loss: 2536.3936\n",
      "Epoch 75/100\n",
      "438/438 - 1s - loss: 2572.1328\n",
      "Epoch 76/100\n",
      "438/438 - 1s - loss: 2542.0554\n",
      "Epoch 77/100\n",
      "438/438 - 1s - loss: 2529.0227\n",
      "Epoch 78/100\n",
      "438/438 - 1s - loss: 2519.7112\n",
      "Epoch 79/100\n",
      "438/438 - 1s - loss: 2480.4617\n",
      "Epoch 80/100\n",
      "438/438 - 1s - loss: 2458.0740\n",
      "Epoch 81/100\n",
      "438/438 - 1s - loss: 2487.1565\n",
      "Epoch 82/100\n",
      "438/438 - 1s - loss: 2457.6877\n",
      "Epoch 83/100\n",
      "438/438 - 1s - loss: 2453.9312\n",
      "Epoch 84/100\n",
      "438/438 - 1s - loss: 2407.4592\n",
      "Epoch 85/100\n",
      "438/438 - 1s - loss: 2404.4019\n",
      "Epoch 86/100\n",
      "438/438 - 1s - loss: 2401.1316\n",
      "Epoch 87/100\n",
      "438/438 - 1s - loss: 2390.2434\n",
      "Epoch 88/100\n",
      "438/438 - 1s - loss: 2384.3840\n",
      "Epoch 89/100\n",
      "438/438 - 1s - loss: 2320.3418\n",
      "Epoch 90/100\n",
      "438/438 - 1s - loss: 2351.7104\n",
      "Epoch 91/100\n",
      "438/438 - 1s - loss: 2364.5398\n",
      "Epoch 92/100\n",
      "438/438 - 1s - loss: 2341.1738\n",
      "Epoch 93/100\n",
      "438/438 - 1s - loss: 2320.8350\n",
      "Epoch 94/100\n",
      "438/438 - 1s - loss: 2317.3506\n",
      "Epoch 95/100\n",
      "438/438 - 1s - loss: 2314.8738\n",
      "Epoch 96/100\n",
      "438/438 - 1s - loss: 2283.9878\n",
      "Epoch 97/100\n",
      "438/438 - 1s - loss: 2275.0188\n",
      "Epoch 98/100\n",
      "438/438 - 1s - loss: 2264.6726\n",
      "Epoch 99/100\n",
      "438/438 - 1s - loss: 2275.4507\n",
      "Epoch 100/100\n",
      "438/438 - 1s - loss: 2278.3132\n"
     ]
    },
    {
     "data": {
      "image/png": "[encoded data removed]",
      "text/plain": [
       "<Figure size 432x288 with 1 Axes>"
      ]
     },
     "metadata": {
      "needs_background": "light"
     },
     "output_type": "display_data"
    },
    {
     "name": "stdout",
     "output_type": "stream",
     "text": [
      "Model: \"sequential_5\"\n",
      "_________________________________________________________________\n",
      "Layer (type)                 Output Shape              Param #   \n",
      "=================================================================\n",
      "lstm_10 (LSTM)               (None, 3, 32)             4352      \n",
      "_________________________________________________________________\n",
      "lstm_11 (LSTM)               (None, 16)                3136      \n",
      "_________________________________________________________________\n",
      "dropout_5 (Dropout)          (None, 16)                0         \n",
      "_________________________________________________________________\n",
      "dense_5 (Dense)              (None, 3)                 51        \n",
      "=================================================================\n",
      "Total params: 7,539\n",
      "Trainable params: 7,539\n",
      "Non-trainable params: 0\n",
      "_________________________________________________________________\n",
      "None\n"
     ]
    },
    {
     "ename": "TypeError",
     "evalue": "'(slice(None, None, None), -1)' is an invalid key",
     "output_type": "error",
     "traceback": [
      "\u001b[1;31m---------------------------------------------------------------------------\u001b[0m",
      "\u001b[1;31mTypeError\u001b[0m                                 Traceback (most recent call last)",
      "\u001b[1;32m<timed exec>\u001b[0m in \u001b[0;36m<module>\u001b[1;34m\u001b[0m\n",
      "\u001b[1;32m<ipython-input-27-9389e76283da>\u001b[0m in \u001b[0;36mlstm_model\u001b[1;34m(source_data_set, train_x, label_y, input_epochs, input_batch_size, test_data, timesteps_out)\u001b[0m\n\u001b[0;32m     20\u001b[0m     \u001b[0mplt\u001b[0m\u001b[1;33m.\u001b[0m\u001b[0mshow\u001b[0m\u001b[1;33m(\u001b[0m\u001b[1;33m)\u001b[0m\u001b[1;33m\u001b[0m\u001b[1;33m\u001b[0m\u001b[0m\n\u001b[0;32m     21\u001b[0m     \u001b[0mprint\u001b[0m\u001b[1;33m(\u001b[0m\u001b[0mmodel\u001b[0m\u001b[1;33m.\u001b[0m\u001b[0msummary\u001b[0m\u001b[1;33m(\u001b[0m\u001b[1;33m)\u001b[0m\u001b[1;33m)\u001b[0m\u001b[1;33m\u001b[0m\u001b[1;33m\u001b[0m\u001b[0m\n\u001b[1;32m---> 22\u001b[1;33m     \u001b[0mplot_img\u001b[0m\u001b[1;33m(\u001b[0m\u001b[0msource_data_set\u001b[0m\u001b[1;33m,\u001b[0m \u001b[0mtest_predict\u001b[0m\u001b[1;33m)\u001b[0m\u001b[1;33m\u001b[0m\u001b[1;33m\u001b[0m\u001b[0m\n\u001b[0m",
      "\u001b[1;32m<ipython-input-16-a586f7c3d640>\u001b[0m in \u001b[0;36mplot_img\u001b[1;34m(source_data_set, train_predict)\u001b[0m\n\u001b[0;32m      3\u001b[0m     \u001b[0mplt\u001b[0m\u001b[1;33m.\u001b[0m\u001b[0mfigure\u001b[0m\u001b[1;33m(\u001b[0m\u001b[0mfigsize\u001b[0m\u001b[1;33m=\u001b[0m\u001b[1;33m(\u001b[0m\u001b[1;36m24\u001b[0m\u001b[1;33m,\u001b[0m \u001b[1;36m8\u001b[0m\u001b[1;33m)\u001b[0m\u001b[1;33m)\u001b[0m\u001b[1;33m\u001b[0m\u001b[1;33m\u001b[0m\u001b[0m\n\u001b[0;32m      4\u001b[0m     \u001b[1;31m# 原始数据蓝色\u001b[0m\u001b[1;33m\u001b[0m\u001b[1;33m\u001b[0m\u001b[1;33m\u001b[0m\u001b[0m\n\u001b[1;32m----> 5\u001b[1;33m     \u001b[0mplt\u001b[0m\u001b[1;33m.\u001b[0m\u001b[0mplot\u001b[0m\u001b[1;33m(\u001b[0m\u001b[0msource_data_set\u001b[0m\u001b[1;33m[\u001b[0m\u001b[1;33m:\u001b[0m\u001b[1;33m,\u001b[0m \u001b[1;33m-\u001b[0m\u001b[1;36m1\u001b[0m\u001b[1;33m]\u001b[0m\u001b[1;33m,\u001b[0m \u001b[0mc\u001b[0m\u001b[1;33m=\u001b[0m\u001b[1;34m'b'\u001b[0m\u001b[1;33m)\u001b[0m\u001b[1;33m\u001b[0m\u001b[1;33m\u001b[0m\u001b[0m\n\u001b[0m\u001b[0;32m      6\u001b[0m     \u001b[1;31m# 训练数据绿色\u001b[0m\u001b[1;33m\u001b[0m\u001b[1;33m\u001b[0m\u001b[1;33m\u001b[0m\u001b[0m\n\u001b[0;32m      7\u001b[0m     \u001b[0mplt\u001b[0m\u001b[1;33m.\u001b[0m\u001b[0mplot\u001b[0m\u001b[1;33m(\u001b[0m\u001b[1;33m[\u001b[0m\u001b[0mx\u001b[0m \u001b[1;32mfor\u001b[0m \u001b[0mx\u001b[0m \u001b[1;32min\u001b[0m \u001b[0mtrain_predict\u001b[0m\u001b[1;33m]\u001b[0m\u001b[1;33m,\u001b[0m \u001b[0mc\u001b[0m\u001b[1;33m=\u001b[0m\u001b[1;34m'g'\u001b[0m\u001b[1;33m)\u001b[0m\u001b[1;33m\u001b[0m\u001b[1;33m\u001b[0m\u001b[0m\n",
      "\u001b[1;32m~\\anaconda3\\lib\\site-packages\\pandas\\core\\frame.py\u001b[0m in \u001b[0;36m__getitem__\u001b[1;34m(self, key)\u001b[0m\n\u001b[0;32m   2798\u001b[0m             \u001b[1;32mif\u001b[0m \u001b[0mself\u001b[0m\u001b[1;33m.\u001b[0m\u001b[0mcolumns\u001b[0m\u001b[1;33m.\u001b[0m\u001b[0mnlevels\u001b[0m \u001b[1;33m>\u001b[0m \u001b[1;36m1\u001b[0m\u001b[1;33m:\u001b[0m\u001b[1;33m\u001b[0m\u001b[1;33m\u001b[0m\u001b[0m\n\u001b[0;32m   2799\u001b[0m                 \u001b[1;32mreturn\u001b[0m \u001b[0mself\u001b[0m\u001b[1;33m.\u001b[0m\u001b[0m_getitem_multilevel\u001b[0m\u001b[1;33m(\u001b[0m\u001b[0mkey\u001b[0m\u001b[1;33m)\u001b[0m\u001b[1;33m\u001b[0m\u001b[1;33m\u001b[0m\u001b[0m\n\u001b[1;32m-> 2800\u001b[1;33m             \u001b[0mindexer\u001b[0m \u001b[1;33m=\u001b[0m \u001b[0mself\u001b[0m\u001b[1;33m.\u001b[0m\u001b[0mcolumns\u001b[0m\u001b[1;33m.\u001b[0m\u001b[0mget_loc\u001b[0m\u001b[1;33m(\u001b[0m\u001b[0mkey\u001b[0m\u001b[1;33m)\u001b[0m\u001b[1;33m\u001b[0m\u001b[1;33m\u001b[0m\u001b[0m\n\u001b[0m\u001b[0;32m   2801\u001b[0m             \u001b[1;32mif\u001b[0m \u001b[0mis_integer\u001b[0m\u001b[1;33m(\u001b[0m\u001b[0mindexer\u001b[0m\u001b[1;33m)\u001b[0m\u001b[1;33m:\u001b[0m\u001b[1;33m\u001b[0m\u001b[1;33m\u001b[0m\u001b[0m\n\u001b[0;32m   2802\u001b[0m                 \u001b[0mindexer\u001b[0m \u001b[1;33m=\u001b[0m \u001b[1;33m[\u001b[0m\u001b[0mindexer\u001b[0m\u001b[1;33m]\u001b[0m\u001b[1;33m\u001b[0m\u001b[1;33m\u001b[0m\u001b[0m\n",
      "\u001b[1;32m~\\anaconda3\\lib\\site-packages\\pandas\\core\\indexes\\base.py\u001b[0m in \u001b[0;36mget_loc\u001b[1;34m(self, key, method, tolerance)\u001b[0m\n\u001b[0;32m   2644\u001b[0m                 )\n\u001b[0;32m   2645\u001b[0m             \u001b[1;32mtry\u001b[0m\u001b[1;33m:\u001b[0m\u001b[1;33m\u001b[0m\u001b[1;33m\u001b[0m\u001b[0m\n\u001b[1;32m-> 2646\u001b[1;33m                 \u001b[1;32mreturn\u001b[0m \u001b[0mself\u001b[0m\u001b[1;33m.\u001b[0m\u001b[0m_engine\u001b[0m\u001b[1;33m.\u001b[0m\u001b[0mget_loc\u001b[0m\u001b[1;33m(\u001b[0m\u001b[0mkey\u001b[0m\u001b[1;33m)\u001b[0m\u001b[1;33m\u001b[0m\u001b[1;33m\u001b[0m\u001b[0m\n\u001b[0m\u001b[0;32m   2647\u001b[0m             \u001b[1;32mexcept\u001b[0m \u001b[0mKeyError\u001b[0m\u001b[1;33m:\u001b[0m\u001b[1;33m\u001b[0m\u001b[1;33m\u001b[0m\u001b[0m\n\u001b[0;32m   2648\u001b[0m                 \u001b[1;32mreturn\u001b[0m \u001b[0mself\u001b[0m\u001b[1;33m.\u001b[0m\u001b[0m_engine\u001b[0m\u001b[1;33m.\u001b[0m\u001b[0mget_loc\u001b[0m\u001b[1;33m(\u001b[0m\u001b[0mself\u001b[0m\u001b[1;33m.\u001b[0m\u001b[0m_maybe_cast_indexer\u001b[0m\u001b[1;33m(\u001b[0m\u001b[0mkey\u001b[0m\u001b[1;33m)\u001b[0m\u001b[1;33m)\u001b[0m\u001b[1;33m\u001b[0m\u001b[1;33m\u001b[0m\u001b[0m\n",
      "\u001b[1;32mpandas\\_libs\\index.pyx\u001b[0m in \u001b[0;36mpandas._libs.index.IndexEngine.get_loc\u001b[1;34m()\u001b[0m\n",
      "\u001b[1;32mpandas\\_libs\\index.pyx\u001b[0m in \u001b[0;36mpandas._libs.index.IndexEngine.get_loc\u001b[1;34m()\u001b[0m\n",
      "\u001b[1;31mTypeError\u001b[0m: '(slice(None, None, None), -1)' is an invalid key"
     ]
    },
    {
     "data": {
      "text/plain": [
       "<Figure size 1728x576 with 0 Axes>"
      ]
     },
     "metadata": {},
     "output_type": "display_data"
    }
   ],
   "source": [
    "%%time\n",
    "# 设置观测数据input(X)的步长（时间步），epochs，batch_size\n",
    "timesteps_in = 3\n",
    "timesteps_out = 3\n",
    "epochs = 100\n",
    "batch_size = 100\n",
    "# 转化为可以用于监督学习的数据\n",
    "train_x, label_y, test_data = get_train_set(data[['pollution']], timesteps_in, timesteps_out)\n",
    "# 使用LSTM进行训练、预测\n",
    "lstm_model(data[['pollution']], train_x, label_y, epochs, batch_size, test_data, timesteps_out=timesteps_out)"
   ]
  }
 ],
 "metadata": {
  "kernelspec": {
   "display_name": "Python 3",
   "language": "python",
   "name": "python3"
  },
  "language_info": {
   "codemirror_mode": {
    "name": "ipython",
    "version": 3
   },
   "file_extension": ".py",
   "mimetype": "text/x-python",
   "name": "python",
   "nbconvert_exporter": "python",
   "pygments_lexer": "ipython3",
   "version": "3.8.3"
  },
  "toc": {
   "base_numbering": 1,
   "nav_menu": {},
   "number_sections": true,
   "sideBar": true,
   "skip_h1_title": false,
   "title_cell": "Table of Contents",
   "title_sidebar": "Contents",
   "toc_cell": false,
   "toc_position": {},
   "toc_section_display": true,
   "toc_window_display": false
  },
  "varInspector": {
   "cols": {
    "lenName": 16,
    "lenType": 16,
    "lenVar": 40
   },
   "kernels_config": {
    "python": {
     "delete_cmd_postfix": "",
     "delete_cmd_prefix": "del ",
     "library": "var_list.py",
     "varRefreshCmd": "print(var_dic_list())"
    },
    "r": {
     "delete_cmd_postfix": ") ",
     "delete_cmd_prefix": "rm(",
     "library": "var_list.r",
     "varRefreshCmd": "cat(var_dic_list()) "
    }
   },
   "types_to_exclude": [
    "module",
    "function",
    "builtin_function_or_method",
    "instance",
    "_Feature"
   ],
   "window_display": false
  }
 },
 "nbformat": 4,
 "nbformat_minor": 4
}
