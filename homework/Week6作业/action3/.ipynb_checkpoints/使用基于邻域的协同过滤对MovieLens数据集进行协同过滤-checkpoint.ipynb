{
 "cells": [
  {
   "cell_type": "code",
   "execution_count": 16,
   "metadata": {
    "execution": {
     "iopub.execute_input": "2020-12-12T12:05:50.795180Z",
     "iopub.status.busy": "2020-12-12T12:05:50.794181Z",
     "iopub.status.idle": "2020-12-12T12:05:50.801163Z",
     "shell.execute_reply": "2020-12-12T12:05:50.800164Z",
     "shell.execute_reply.started": "2020-12-12T12:05:50.795180Z"
    }
   },
   "outputs": [],
   "source": [
    "import pandas as pd\n",
    "from surprise import KNNBaseline\n",
    "from surprise import Dataset, Reader\n",
    "from surprise.model_selection import KFold\n",
    "from surprise.accuracy import mae, rmse"
   ]
  },
  {
   "cell_type": "markdown",
   "metadata": {},
   "source": [
    "### 数据读取"
   ]
  },
  {
   "cell_type": "code",
   "execution_count": 7,
   "metadata": {
    "execution": {
     "iopub.execute_input": "2020-12-12T08:06:40.286863Z",
     "iopub.status.busy": "2020-12-12T08:06:40.285866Z",
     "iopub.status.idle": "2020-12-12T08:06:43.623950Z",
     "shell.execute_reply": "2020-12-12T08:06:43.623950Z",
     "shell.execute_reply.started": "2020-12-12T08:06:40.286863Z"
    }
   },
   "outputs": [],
   "source": [
    "# 数据读取\n",
    "reader = Reader(line_format='user item rating timestamp', sep=',', skip_lines=1)\n",
    "data = Dataset.load_from_file('./ratings.csv', reader=reader)\n",
    "trainset = data.build_full_trainset()"
   ]
  },
  {
   "cell_type": "markdown",
   "metadata": {},
   "source": [
    "### 模型选择与训练"
   ]
  },
  {
   "cell_type": "code",
   "execution_count": 17,
   "metadata": {
    "execution": {
     "iopub.execute_input": "2020-12-12T12:05:53.402360Z",
     "iopub.status.busy": "2020-12-12T12:05:53.402360Z",
     "iopub.status.idle": "2020-12-12T12:05:53.405383Z",
     "shell.execute_reply": "2020-12-12T12:05:53.405383Z",
     "shell.execute_reply.started": "2020-12-12T12:05:53.402360Z"
    }
   },
   "outputs": [],
   "source": [
    "algo = KNNBaseline(k=30, sim_options={'user_based': False, 'name': 'cosine'}, bsl_options={'method': 'sgd'})"
   ]
  },
  {
   "cell_type": "code",
   "execution_count": 19,
   "metadata": {
    "execution": {
     "iopub.execute_input": "2020-12-12T12:21:41.790513Z",
     "iopub.status.busy": "2020-12-12T12:21:41.790513Z",
     "iopub.status.idle": "2020-12-12T12:33:28.631497Z",
     "shell.execute_reply": "2020-12-12T12:33:28.629471Z",
     "shell.execute_reply.started": "2020-12-12T12:21:41.790513Z"
    }
   },
   "outputs": [
    {
     "name": "stdout",
     "output_type": "stream",
     "text": [
      "Estimating biases using sgd...\n",
      "Computing the cosine similarity matrix...\n",
      "Done computing similarity matrix.\n",
      "RMSE: 0.8711\n",
      "MAE:  0.6688\n",
      "Estimating biases using sgd...\n",
      "Computing the cosine similarity matrix...\n",
      "Done computing similarity matrix.\n",
      "RMSE: 0.8710\n",
      "MAE:  0.6685\n",
      "Estimating biases using sgd...\n",
      "Computing the cosine similarity matrix...\n",
      "Done computing similarity matrix.\n",
      "RMSE: 0.8711\n",
      "MAE:  0.6683\n"
     ]
    }
   ],
   "source": [
    "kf = KFold(n_splits=3, random_state=12)\n",
    "d_fold = {}\n",
    "for i, (trainset, testset) in enumerate(kf.split(data)):\n",
    "    fold = f'Fold {i+1}'\n",
    "    d_fold[fold] = []\n",
    "    algo.fit(trainset)\n",
    "    predictions = algo.test(testset)\n",
    "    d_fold[fold].append(rmse(predictions, verbose=True))\n",
    "    d_fold[fold].append(mae(predictions, verbose=True))"
   ]
  },
  {
   "cell_type": "code",
   "execution_count": 21,
   "metadata": {
    "execution": {
     "iopub.execute_input": "2020-12-12T12:35:31.343188Z",
     "iopub.status.busy": "2020-12-12T12:35:31.343188Z",
     "iopub.status.idle": "2020-12-12T12:35:31.390063Z",
     "shell.execute_reply": "2020-12-12T12:35:31.390063Z",
     "shell.execute_reply.started": "2020-12-12T12:35:31.343188Z"
    }
   },
   "outputs": [
    {
     "data": {
      "text/html": [
       "<div>\n",
       "<style scoped>\n",
       "    .dataframe tbody tr th:only-of-type {\n",
       "        vertical-align: middle;\n",
       "    }\n",
       "\n",
       "    .dataframe tbody tr th {\n",
       "        vertical-align: top;\n",
       "    }\n",
       "\n",
       "    .dataframe thead th {\n",
       "        text-align: right;\n",
       "    }\n",
       "</style>\n",
       "<table border=\"1\" class=\"dataframe\">\n",
       "  <thead>\n",
       "    <tr style=\"text-align: right;\">\n",
       "      <th></th>\n",
       "      <th>Fold 1</th>\n",
       "      <th>Fold 2</th>\n",
       "      <th>Fold 3</th>\n",
       "      <th>Mean</th>\n",
       "      <th>Std</th>\n",
       "    </tr>\n",
       "  </thead>\n",
       "  <tbody>\n",
       "    <tr>\n",
       "      <th>RMSE</th>\n",
       "      <td>0.871082</td>\n",
       "      <td>0.870958</td>\n",
       "      <td>0.871054</td>\n",
       "      <td>0.871031</td>\n",
       "      <td>0.000065</td>\n",
       "    </tr>\n",
       "    <tr>\n",
       "      <th>MAE</th>\n",
       "      <td>0.668752</td>\n",
       "      <td>0.668496</td>\n",
       "      <td>0.668257</td>\n",
       "      <td>0.668501</td>\n",
       "      <td>0.000248</td>\n",
       "    </tr>\n",
       "  </tbody>\n",
       "</table>\n",
       "</div>"
      ],
      "text/plain": [
       "        Fold 1    Fold 2    Fold 3      Mean       Std\n",
       "RMSE  0.871082  0.870958  0.871054  0.871031  0.000065\n",
       "MAE   0.668752  0.668496  0.668257  0.668501  0.000248"
      ]
     },
     "execution_count": 21,
     "metadata": {},
     "output_type": "execute_result"
    }
   ],
   "source": [
    "df_res = pd.DataFrame(d_fold, index=['RMSE', 'MAE'])\n",
    "df_res['Mean'] = df_res.mean(axis=1)\n",
    "df_res['Std'] = df_res.iloc[:, :3].std(axis=1)\n",
    "df_res"
   ]
  }
 ],
 "metadata": {
  "kernelspec": {
   "display_name": "Python 3",
   "language": "python",
   "name": "python3"
  },
  "language_info": {
   "codemirror_mode": {
    "name": "ipython",
    "version": 3
   },
   "file_extension": ".py",
   "mimetype": "text/x-python",
   "name": "python",
   "nbconvert_exporter": "python",
   "pygments_lexer": "ipython3",
   "version": "3.8.3"
  }
 },
 "nbformat": 4,
 "nbformat_minor": 4
}
