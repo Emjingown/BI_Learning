{
  "nbformat": 4,
  "nbformat_minor": 0,
  "metadata": {
    "colab": {
      "name": "Use DeepFM to predict.ipynb",
      "provenance": [],
      "collapsed_sections": []
    },
    "kernelspec": {
      "name": "python3",
      "display_name": "Python 3"
    },
    "accelerator": "GPU"
  },
  "cells": [
    {
      "cell_type": "code",
      "metadata": {
        "colab": {
          "base_uri": "https://localhost:8080/"
        },
        "id": "ni-a3sTAEzz1",
        "outputId": "1e77643c-4d80-4329-b757-c3a0bd33b777"
      },
      "source": [
        "from google.colab import drive \r\n",
        "drive.mount('/content/drive') \r\n",
        "\r\n",
        "import os \r\n",
        "os.chdir(\"/content/drive/My Drive/Colab Notebooks/Week6\")"
      ],
      "execution_count": 1,
      "outputs": [
        {
          "output_type": "stream",
          "text": [
            "Mounted at /content/drive\n"
          ],
          "name": "stdout"
        }
      ]
    },
    {
      "cell_type": "code",
      "metadata": {
        "id": "VSxW-ebzFdhb"
      },
      "source": [
        "!pip install deepctr[gpu]"
      ],
      "execution_count": null,
      "outputs": []
    },
    {
      "cell_type": "code",
      "metadata": {
        "id": "ivP7y2NYGF79"
      },
      "source": [
        "import pandas as pd\r\n",
        "from sklearn.metrics import mean_squared_error\r\n",
        "from sklearn.model_selection import train_test_split\r\n",
        "from sklearn.preprocessing import LabelEncoder\r\n",
        "from deepctr.models import DeepFM\r\n",
        "from deepctr.feature_column import SparseFeat, get_feature_names\r\n",
        "\r\n",
        "from warnings import filterwarnings\r\n",
        "filterwarnings('ignore')"
      ],
      "execution_count": 34,
      "outputs": []
    },
    {
      "cell_type": "markdown",
      "metadata": {
        "id": "5pKXLt2hObgp"
      },
      "source": [
        "### 数据加载"
      ]
    },
    {
      "cell_type": "code",
      "metadata": {
        "colab": {
          "base_uri": "https://localhost:8080/",
          "height": 204
        },
        "id": "YQmhyKeCHkRr",
        "outputId": "3dec022d-33a1-4733-8d8c-d725ca755e50"
      },
      "source": [
        "data = pd.read_csv('./movielens_sample.txt')\r\n",
        "data.head()"
      ],
      "execution_count": 37,
      "outputs": [
        {
          "output_type": "execute_result",
          "data": {
            "text/html": [
              "<div>\n",
              "<style scoped>\n",
              "    .dataframe tbody tr th:only-of-type {\n",
              "        vertical-align: middle;\n",
              "    }\n",
              "\n",
              "    .dataframe tbody tr th {\n",
              "        vertical-align: top;\n",
              "    }\n",
              "\n",
              "    .dataframe thead th {\n",
              "        text-align: right;\n",
              "    }\n",
              "</style>\n",
              "<table border=\"1\" class=\"dataframe\">\n",
              "  <thead>\n",
              "    <tr style=\"text-align: right;\">\n",
              "      <th></th>\n",
              "      <th>user_id</th>\n",
              "      <th>movie_id</th>\n",
              "      <th>rating</th>\n",
              "      <th>timestamp</th>\n",
              "      <th>title</th>\n",
              "      <th>genres</th>\n",
              "      <th>gender</th>\n",
              "      <th>age</th>\n",
              "      <th>occupation</th>\n",
              "      <th>zip</th>\n",
              "    </tr>\n",
              "  </thead>\n",
              "  <tbody>\n",
              "    <tr>\n",
              "      <th>0</th>\n",
              "      <td>3299</td>\n",
              "      <td>235</td>\n",
              "      <td>4</td>\n",
              "      <td>968035345</td>\n",
              "      <td>Ed Wood (1994)</td>\n",
              "      <td>Comedy|Drama</td>\n",
              "      <td>F</td>\n",
              "      <td>25</td>\n",
              "      <td>4</td>\n",
              "      <td>19119</td>\n",
              "    </tr>\n",
              "    <tr>\n",
              "      <th>1</th>\n",
              "      <td>3630</td>\n",
              "      <td>3256</td>\n",
              "      <td>3</td>\n",
              "      <td>966536874</td>\n",
              "      <td>Patriot Games (1992)</td>\n",
              "      <td>Action|Thriller</td>\n",
              "      <td>M</td>\n",
              "      <td>18</td>\n",
              "      <td>4</td>\n",
              "      <td>77005</td>\n",
              "    </tr>\n",
              "    <tr>\n",
              "      <th>2</th>\n",
              "      <td>517</td>\n",
              "      <td>105</td>\n",
              "      <td>4</td>\n",
              "      <td>976203603</td>\n",
              "      <td>Bridges of Madison County, The (1995)</td>\n",
              "      <td>Drama|Romance</td>\n",
              "      <td>F</td>\n",
              "      <td>25</td>\n",
              "      <td>14</td>\n",
              "      <td>55408</td>\n",
              "    </tr>\n",
              "    <tr>\n",
              "      <th>3</th>\n",
              "      <td>785</td>\n",
              "      <td>2115</td>\n",
              "      <td>3</td>\n",
              "      <td>975430389</td>\n",
              "      <td>Indiana Jones and the Temple of Doom (1984)</td>\n",
              "      <td>Action|Adventure</td>\n",
              "      <td>M</td>\n",
              "      <td>18</td>\n",
              "      <td>19</td>\n",
              "      <td>29307</td>\n",
              "    </tr>\n",
              "    <tr>\n",
              "      <th>4</th>\n",
              "      <td>5848</td>\n",
              "      <td>909</td>\n",
              "      <td>5</td>\n",
              "      <td>957782527</td>\n",
              "      <td>Apartment, The (1960)</td>\n",
              "      <td>Comedy|Drama</td>\n",
              "      <td>M</td>\n",
              "      <td>50</td>\n",
              "      <td>20</td>\n",
              "      <td>20009</td>\n",
              "    </tr>\n",
              "  </tbody>\n",
              "</table>\n",
              "</div>"
            ],
            "text/plain": [
              "   user_id  movie_id  rating  timestamp  ... gender age occupation    zip\n",
              "0     3299       235       4  968035345  ...      F  25          4  19119\n",
              "1     3630      3256       3  966536874  ...      M  18          4  77005\n",
              "2      517       105       4  976203603  ...      F  25         14  55408\n",
              "3      785      2115       3  975430389  ...      M  18         19  29307\n",
              "4     5848       909       5  957782527  ...      M  50         20  20009\n",
              "\n",
              "[5 rows x 10 columns]"
            ]
          },
          "metadata": {
            "tags": []
          },
          "execution_count": 37
        }
      ]
    },
    {
      "cell_type": "markdown",
      "metadata": {
        "id": "TjVDbFjqOkNf"
      },
      "source": [
        "### 特征选择与编码"
      ]
    },
    {
      "cell_type": "code",
      "metadata": {
        "colab": {
          "base_uri": "https://localhost:8080/"
        },
        "id": "MJEgwlMMIFmZ",
        "outputId": "18f03cd8-9383-4b88-9812-839f85c50ded"
      },
      "source": [
        "# 选择稀疏特征\r\n",
        "sparse_features = ['user_id', 'movie_id', 'gender', 'age', 'occupation', 'zip']\r\n",
        "target = ['rating']\r\n",
        "\r\n",
        "# 对稀疏特征标签进行编码\r\n",
        "for feature in sparse_features:\r\n",
        "    lbe = LabelEncoder()\r\n",
        "    data[feature] = lbe.fit_transform(data[feature])\r\n",
        "\r\n",
        "# 计算每个特征中的 不同特征值的个数\r\n",
        "fixlen_feature_columns = [SparseFeat(feature, data[feature].nunique()) for feature in sparse_features]  # 默认embedding_dim=4\r\n",
        "print(fixlen_feature_columns)"
      ],
      "execution_count": 38,
      "outputs": [
        {
          "output_type": "stream",
          "text": [
            "[SparseFeat(name='user_id', vocabulary_size=193, embedding_dim=4, use_hash=False, dtype='int32', embeddings_initializer=<tensorflow.python.keras.initializers.initializers_v1.RandomNormal object at 0x7f1aa1dc91d0>, embedding_name='user_id', group_name='default_group', trainable=True), SparseFeat(name='movie_id', vocabulary_size=187, embedding_dim=4, use_hash=False, dtype='int32', embeddings_initializer=<tensorflow.python.keras.initializers.initializers_v1.RandomNormal object at 0x7f1aa1dc9a58>, embedding_name='movie_id', group_name='default_group', trainable=True), SparseFeat(name='gender', vocabulary_size=2, embedding_dim=4, use_hash=False, dtype='int32', embeddings_initializer=<tensorflow.python.keras.initializers.initializers_v1.RandomNormal object at 0x7f1aa1dc9320>, embedding_name='gender', group_name='default_group', trainable=True), SparseFeat(name='age', vocabulary_size=7, embedding_dim=4, use_hash=False, dtype='int32', embeddings_initializer=<tensorflow.python.keras.initializers.initializers_v1.RandomNormal object at 0x7f1aa1dc9860>, embedding_name='age', group_name='default_group', trainable=True), SparseFeat(name='occupation', vocabulary_size=20, embedding_dim=4, use_hash=False, dtype='int32', embeddings_initializer=<tensorflow.python.keras.initializers.initializers_v1.RandomNormal object at 0x7f1aa1dc9dd8>, embedding_name='occupation', group_name='default_group', trainable=True), SparseFeat(name='zip', vocabulary_size=188, embedding_dim=4, use_hash=False, dtype='int32', embeddings_initializer=<tensorflow.python.keras.initializers.initializers_v1.RandomNormal object at 0x7f1aa1dc9470>, embedding_name='zip', group_name='default_group', trainable=True)]\n"
          ],
          "name": "stdout"
        }
      ]
    },
    {
      "cell_type": "markdown",
      "metadata": {
        "id": "Aq-AV4JmQenF"
      },
      "source": [
        "FM与DNN使用相同的特征输入"
      ]
    },
    {
      "cell_type": "code",
      "metadata": {
        "id": "rsGHM8-XQdir"
      },
      "source": [
        "linear_feature_columns = fixlen_feature_columns\r\n",
        "dnn_feature_columns = fixlen_feature_columns\r\n",
        "feature_names = get_feature_names(linear_feature_columns + dnn_feature_columns)"
      ],
      "execution_count": 39,
      "outputs": []
    },
    {
      "cell_type": "markdown",
      "metadata": {
        "id": "AyZ9ia5aQNlW"
      },
      "source": [
        "### 切分数据集与模型训练"
      ]
    },
    {
      "cell_type": "code",
      "metadata": {
        "colab": {
          "base_uri": "https://localhost:8080/"
        },
        "id": "mL51iGuuNLkJ",
        "outputId": "15bef965-9a1b-4635-eafb-a67c327633df"
      },
      "source": [
        "# 将数据集切分成训练集和测试集\r\n",
        "train, test = train_test_split(data, test_size=0.2, random_state=12)\r\n",
        "train_model_input = {name:train[name].values for name in feature_names}\r\n",
        "test_model_input = {name:test[name].values for name in feature_names}\r\n",
        "\r\n",
        "# 使用DeepFM进行训练\r\n",
        "model = DeepFM(linear_feature_columns, dnn_feature_columns, task='regression')\r\n",
        "model.compile(\"adam\", \"mse\", metrics=['mse'], )\r\n",
        "history = model.fit(train_model_input, train[target].values, batch_size=256, epochs=1, verbose=True, validation_split=0.2, )\r\n",
        "# 使用DeepFM进行预测\r\n",
        "pred_ans = model.predict(test_model_input, batch_size=256)\r\n",
        "# 输出RMSE或MSE\r\n",
        "mse = round(mean_squared_error(test[target].values, pred_ans), 4)\r\n",
        "rmse = mse ** 0.5\r\n",
        "print(\"test RMSE\", rmse)"
      ],
      "execution_count": 40,
      "outputs": [
        {
          "output_type": "stream",
          "text": [
            "WARNING:tensorflow:6 out of the last 6 calls to <function Model.make_train_function.<locals>.train_function at 0x7f1aa4395048> triggered tf.function retracing. Tracing is expensive and the excessive number of tracings could be due to (1) creating @tf.function repeatedly in a loop, (2) passing tensors with different shapes, (3) passing Python objects instead of tensors. For (1), please define your @tf.function outside of the loop. For (2), @tf.function has experimental_relax_shapes=True option that relaxes argument shapes that can avoid unnecessary retracing. For (3), please refer to https://www.tensorflow.org/tutorials/customization/performance#python_or_tensor_args and https://www.tensorflow.org/api_docs/python/tf/function for  more details.\n",
            "1/1 [==============================] - ETA: 0s - loss: 14.4843 - mse: 14.4843WARNING:tensorflow:6 out of the last 6 calls to <function Model.make_test_function.<locals>.test_function at 0x7f1aa2bc0510> triggered tf.function retracing. Tracing is expensive and the excessive number of tracings could be due to (1) creating @tf.function repeatedly in a loop, (2) passing tensors with different shapes, (3) passing Python objects instead of tensors. For (1), please define your @tf.function outside of the loop. For (2), @tf.function has experimental_relax_shapes=True option that relaxes argument shapes that can avoid unnecessary retracing. For (3), please refer to https://www.tensorflow.org/tutorials/customization/performance#python_or_tensor_args and https://www.tensorflow.org/api_docs/python/tf/function for  more details.\n",
            "1/1 [==============================] - 0s 300ms/step - loss: 14.4843 - mse: 14.4843 - val_loss: 14.0910 - val_mse: 14.0910\n",
            "WARNING:tensorflow:6 out of the last 6 calls to <function Model.make_predict_function.<locals>.predict_function at 0x7f1aa1ed18c8> triggered tf.function retracing. Tracing is expensive and the excessive number of tracings could be due to (1) creating @tf.function repeatedly in a loop, (2) passing tensors with different shapes, (3) passing Python objects instead of tensors. For (1), please define your @tf.function outside of the loop. For (2), @tf.function has experimental_relax_shapes=True option that relaxes argument shapes that can avoid unnecessary retracing. For (3), please refer to https://www.tensorflow.org/tutorials/customization/performance#python_or_tensor_args and https://www.tensorflow.org/api_docs/python/tf/function for  more details.\n",
            "test RMSE 3.5928540187433167\n"
          ],
          "name": "stdout"
        }
      ]
    },
    {
      "cell_type": "markdown",
      "metadata": {
        "id": "Ttl0nyohQ4vQ"
      },
      "source": [
        "### 尝试将embedding维度改为8"
      ]
    },
    {
      "cell_type": "code",
      "metadata": {
        "id": "ir3WGzE7Q4Z_"
      },
      "source": [
        "# 计算每个特征中的 不同特征值的个数\r\n",
        "fixlen_feature_columns = [SparseFeat(feature, data[feature].nunique(), embedding_dim=8) for feature in sparse_features]\r\n",
        "linear_feature_columns = fixlen_feature_columns\r\n",
        "dnn_feature_columns = fixlen_feature_columns\r\n",
        "feature_names = get_feature_names(linear_feature_columns + dnn_feature_columns)"
      ],
      "execution_count": 41,
      "outputs": []
    },
    {
      "cell_type": "code",
      "metadata": {
        "colab": {
          "base_uri": "https://localhost:8080/"
        },
        "id": "45T-s-DvRO0-",
        "outputId": "89b55e31-aed2-4aaf-8f73-2662677160db"
      },
      "source": [
        "# 将数据集切分成训练集和测试集\r\n",
        "train, test = train_test_split(data, test_size=0.2, random_state=12)\r\n",
        "train_model_input = {name:train[name].values for name in feature_names}\r\n",
        "test_model_input = {name:test[name].values for name in feature_names}\r\n",
        "\r\n",
        "# 使用DeepFM进行训练\r\n",
        "model = DeepFM(linear_feature_columns, dnn_feature_columns, task='regression')\r\n",
        "model.compile(\"adam\", \"mse\", metrics=['mse'], )\r\n",
        "history = model.fit(train_model_input, train[target].values, batch_size=256, epochs=1, verbose=True, validation_split=0.2, )\r\n",
        "# 使用DeepFM进行预测\r\n",
        "pred_ans = model.predict(test_model_input, batch_size=256)\r\n",
        "# 输出RMSE或MSE\r\n",
        "mse = round(mean_squared_error(test[target].values, pred_ans), 4)\r\n",
        "rmse = mse ** 0.5\r\n",
        "print(\"test RMSE\", rmse)"
      ],
      "execution_count": 42,
      "outputs": [
        {
          "output_type": "stream",
          "text": [
            "WARNING:tensorflow:7 out of the last 7 calls to <function Model.make_train_function.<locals>.train_function at 0x7f1aa4f4d378> triggered tf.function retracing. Tracing is expensive and the excessive number of tracings could be due to (1) creating @tf.function repeatedly in a loop, (2) passing tensors with different shapes, (3) passing Python objects instead of tensors. For (1), please define your @tf.function outside of the loop. For (2), @tf.function has experimental_relax_shapes=True option that relaxes argument shapes that can avoid unnecessary retracing. For (3), please refer to https://www.tensorflow.org/tutorials/customization/performance#python_or_tensor_args and https://www.tensorflow.org/api_docs/python/tf/function for  more details.\n",
            "1/1 [==============================] - ETA: 0s - loss: 14.4844 - mse: 14.4844WARNING:tensorflow:7 out of the last 7 calls to <function Model.make_test_function.<locals>.test_function at 0x7f1aa2865378> triggered tf.function retracing. Tracing is expensive and the excessive number of tracings could be due to (1) creating @tf.function repeatedly in a loop, (2) passing tensors with different shapes, (3) passing Python objects instead of tensors. For (1), please define your @tf.function outside of the loop. For (2), @tf.function has experimental_relax_shapes=True option that relaxes argument shapes that can avoid unnecessary retracing. For (3), please refer to https://www.tensorflow.org/tutorials/customization/performance#python_or_tensor_args and https://www.tensorflow.org/api_docs/python/tf/function for  more details.\n",
            "1/1 [==============================] - 0s 273ms/step - loss: 14.4844 - mse: 14.4844 - val_loss: 14.0834 - val_mse: 14.0834\n",
            "WARNING:tensorflow:7 out of the last 7 calls to <function Model.make_predict_function.<locals>.predict_function at 0x7f1aa28dcae8> triggered tf.function retracing. Tracing is expensive and the excessive number of tracings could be due to (1) creating @tf.function repeatedly in a loop, (2) passing tensors with different shapes, (3) passing Python objects instead of tensors. For (1), please define your @tf.function outside of the loop. For (2), @tf.function has experimental_relax_shapes=True option that relaxes argument shapes that can avoid unnecessary retracing. For (3), please refer to https://www.tensorflow.org/tutorials/customization/performance#python_or_tensor_args and https://www.tensorflow.org/api_docs/python/tf/function for  more details.\n",
            "test RMSE 3.591768366696271\n"
          ],
          "name": "stdout"
        }
      ]
    },
    {
      "cell_type": "markdown",
      "metadata": {
        "id": "Xy0g8UNWSAgT"
      },
      "source": [
        "修改embedding维度后，test RMSE变化不明显，可能是数据集太小的原因（找不到完整的数据集。）"
      ]
    }
  ]
}