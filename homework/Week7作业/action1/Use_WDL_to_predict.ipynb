{
  "nbformat": 4,
  "nbformat_minor": 0,
  "metadata": {
    "colab": {
      "name": "Use WDL to predict.ipynb",
      "provenance": [],
      "collapsed_sections": []
    },
    "kernelspec": {
      "name": "python3",
      "display_name": "Python 3"
    },
    "accelerator": "GPU"
  },
  "cells": [
    {
      "cell_type": "code",
      "metadata": {
        "colab": {
          "base_uri": "https://localhost:8080/"
        },
        "id": "ni-a3sTAEzz1",
        "outputId": "e6032ae7-c234-4c11-ccc8-5a4107d4995f"
      },
      "source": [
        "from google.colab import drive \r\n",
        "drive.mount('/content/drive') \r\n",
        "\r\n",
        "import os \r\n",
        "os.chdir(\"/content/drive/My Drive/Colab Notebooks/Week7\")"
      ],
      "execution_count": 1,
      "outputs": [
        {
          "output_type": "stream",
          "text": [
            "Mounted at /content/drive\n"
          ],
          "name": "stdout"
        }
      ]
    },
    {
      "cell_type": "code",
      "metadata": {
        "id": "VSxW-ebzFdhb"
      },
      "source": [
        "!pip install deepctr[gpu]"
      ],
      "execution_count": null,
      "outputs": []
    },
    {
      "cell_type": "code",
      "metadata": {
        "id": "tKR6f3ZtcMRr"
      },
      "source": [
        "import pandas as pd\r\n",
        "import numpy as np\r\n",
        "from deepctr.models import WDL\r\n",
        "from deepctr.feature_column import SparseFeat, VarLenSparseFeat, get_feature_names\r\n",
        "from sklearn.metrics import mean_squared_error\r\n",
        "from sklearn.model_selection import train_test_split\r\n",
        "from sklearn.preprocessing import LabelEncoder\r\n",
        "from tensorflow.python.keras.preprocessing.sequence import pad_sequences\r\n",
        "\r\n",
        "from warnings import filterwarnings\r\n",
        "filterwarnings('ignore')"
      ],
      "execution_count": 58,
      "outputs": []
    },
    {
      "cell_type": "markdown",
      "metadata": {
        "id": "5pKXLt2hObgp"
      },
      "source": [
        "### 数据加载\r\n",
        "参考movielens_sample数据集，转换了一个10万行的数据文件"
      ]
    },
    {
      "cell_type": "code",
      "metadata": {
        "colab": {
          "base_uri": "https://localhost:8080/",
          "height": 204
        },
        "id": "yEFTdmrwbarG",
        "outputId": "a1a3bdc1-2d0e-4e2d-ab14-da92d74a8ae3"
      },
      "source": [
        "# data = pd.read_csv('./movielens_sample.txt')\r\n",
        "data = pd.read_csv('../data/movielens_100k.txt')\r\n",
        "data.head()"
      ],
      "execution_count": 51,
      "outputs": [
        {
          "output_type": "execute_result",
          "data": {
            "text/html": [
              "<div>\n",
              "<style scoped>\n",
              "    .dataframe tbody tr th:only-of-type {\n",
              "        vertical-align: middle;\n",
              "    }\n",
              "\n",
              "    .dataframe tbody tr th {\n",
              "        vertical-align: top;\n",
              "    }\n",
              "\n",
              "    .dataframe thead th {\n",
              "        text-align: right;\n",
              "    }\n",
              "</style>\n",
              "<table border=\"1\" class=\"dataframe\">\n",
              "  <thead>\n",
              "    <tr style=\"text-align: right;\">\n",
              "      <th></th>\n",
              "      <th>user_id</th>\n",
              "      <th>movie_id</th>\n",
              "      <th>rating</th>\n",
              "      <th>timestamp</th>\n",
              "      <th>title</th>\n",
              "      <th>genres</th>\n",
              "      <th>gender</th>\n",
              "      <th>age</th>\n",
              "      <th>occupation</th>\n",
              "      <th>zip</th>\n",
              "    </tr>\n",
              "  </thead>\n",
              "  <tbody>\n",
              "    <tr>\n",
              "      <th>0</th>\n",
              "      <td>196</td>\n",
              "      <td>242</td>\n",
              "      <td>3</td>\n",
              "      <td>881250949</td>\n",
              "      <td>Kolya (1996)</td>\n",
              "      <td>Comedy</td>\n",
              "      <td>M</td>\n",
              "      <td>49</td>\n",
              "      <td>20</td>\n",
              "      <td>55105</td>\n",
              "    </tr>\n",
              "    <tr>\n",
              "      <th>1</th>\n",
              "      <td>196</td>\n",
              "      <td>257</td>\n",
              "      <td>2</td>\n",
              "      <td>881251577</td>\n",
              "      <td>Men in Black (1997)</td>\n",
              "      <td>Action|Adventure|Comedy|Sci-Fi</td>\n",
              "      <td>M</td>\n",
              "      <td>49</td>\n",
              "      <td>20</td>\n",
              "      <td>55105</td>\n",
              "    </tr>\n",
              "    <tr>\n",
              "      <th>2</th>\n",
              "      <td>196</td>\n",
              "      <td>111</td>\n",
              "      <td>4</td>\n",
              "      <td>881251793</td>\n",
              "      <td>Truth About Cats &amp; Dogs, The (1996)</td>\n",
              "      <td>Comedy|Romance</td>\n",
              "      <td>M</td>\n",
              "      <td>49</td>\n",
              "      <td>20</td>\n",
              "      <td>55105</td>\n",
              "    </tr>\n",
              "    <tr>\n",
              "      <th>3</th>\n",
              "      <td>196</td>\n",
              "      <td>25</td>\n",
              "      <td>4</td>\n",
              "      <td>881251955</td>\n",
              "      <td>Birdcage, The (1996)</td>\n",
              "      <td>Comedy</td>\n",
              "      <td>M</td>\n",
              "      <td>49</td>\n",
              "      <td>20</td>\n",
              "      <td>55105</td>\n",
              "    </tr>\n",
              "    <tr>\n",
              "      <th>4</th>\n",
              "      <td>196</td>\n",
              "      <td>382</td>\n",
              "      <td>4</td>\n",
              "      <td>881251843</td>\n",
              "      <td>Adventures of Priscilla, Queen of the Desert, ...</td>\n",
              "      <td>Comedy|Drama</td>\n",
              "      <td>M</td>\n",
              "      <td>49</td>\n",
              "      <td>20</td>\n",
              "      <td>55105</td>\n",
              "    </tr>\n",
              "  </tbody>\n",
              "</table>\n",
              "</div>"
            ],
            "text/plain": [
              "   user_id  movie_id  rating  timestamp  ... gender age occupation    zip\n",
              "0      196       242       3  881250949  ...      M  49         20  55105\n",
              "1      196       257       2  881251577  ...      M  49         20  55105\n",
              "2      196       111       4  881251793  ...      M  49         20  55105\n",
              "3      196        25       4  881251955  ...      M  49         20  55105\n",
              "4      196       382       4  881251843  ...      M  49         20  55105\n",
              "\n",
              "[5 rows x 10 columns]"
            ]
          },
          "metadata": {
            "tags": []
          },
          "execution_count": 51
        }
      ]
    },
    {
      "cell_type": "markdown",
      "metadata": {
        "id": "TjVDbFjqOkNf"
      },
      "source": [
        "### 特征选择与编码"
      ]
    },
    {
      "cell_type": "code",
      "metadata": {
        "colab": {
          "base_uri": "https://localhost:8080/"
        },
        "id": "MJEgwlMMIFmZ",
        "outputId": "0c4a1ad1-a8b1-43d4-8cee-ee1584721839"
      },
      "source": [
        "# 选择稀疏特征\r\n",
        "sparse_features = ['user_id', 'movie_id', 'gender', 'age', 'occupation', 'zip']\r\n",
        "target = ['rating']\r\n",
        "\r\n",
        "# 对稀疏特征标签进行编码\r\n",
        "for feature in sparse_features:\r\n",
        "    lbe = LabelEncoder()\r\n",
        "    data[feature] = lbe.fit_transform(data[feature])\r\n",
        "\r\n",
        "# 计算每个特征中的 不同特征值的个数\r\n",
        "fixlen_feature_columns = [SparseFeat(feature, data[feature].nunique()) for feature in sparse_features]  # 默认embedding_dim=4\r\n",
        "print(fixlen_feature_columns)"
      ],
      "execution_count": 52,
      "outputs": [
        {
          "output_type": "stream",
          "text": [
            "[SparseFeat(name='user_id', vocabulary_size=943, embedding_dim=4, use_hash=False, dtype='int32', embeddings_initializer=<tensorflow.python.keras.initializers.initializers_v1.RandomNormal object at 0x7fdc87f06668>, embedding_name='user_id', group_name='default_group', trainable=True), SparseFeat(name='movie_id', vocabulary_size=1682, embedding_dim=4, use_hash=False, dtype='int32', embeddings_initializer=<tensorflow.python.keras.initializers.initializers_v1.RandomNormal object at 0x7fdc87f06828>, embedding_name='movie_id', group_name='default_group', trainable=True), SparseFeat(name='gender', vocabulary_size=2, embedding_dim=4, use_hash=False, dtype='int32', embeddings_initializer=<tensorflow.python.keras.initializers.initializers_v1.RandomNormal object at 0x7fdc87f06588>, embedding_name='gender', group_name='default_group', trainable=True), SparseFeat(name='age', vocabulary_size=61, embedding_dim=4, use_hash=False, dtype='int32', embeddings_initializer=<tensorflow.python.keras.initializers.initializers_v1.RandomNormal object at 0x7fdc87f06898>, embedding_name='age', group_name='default_group', trainable=True), SparseFeat(name='occupation', vocabulary_size=21, embedding_dim=4, use_hash=False, dtype='int32', embeddings_initializer=<tensorflow.python.keras.initializers.initializers_v1.RandomNormal object at 0x7fdc87f06630>, embedding_name='occupation', group_name='default_group', trainable=True), SparseFeat(name='zip', vocabulary_size=795, embedding_dim=4, use_hash=False, dtype='int32', embeddings_initializer=<tensorflow.python.keras.initializers.initializers_v1.RandomNormal object at 0x7fdc87f06940>, embedding_name='zip', group_name='default_group', trainable=True)]\n"
          ],
          "name": "stdout"
        }
      ]
    },
    {
      "cell_type": "markdown",
      "metadata": {
        "id": "L5MAjaiwyx1E"
      },
      "source": [
        "#### 1. 不使用genres字段"
      ]
    },
    {
      "cell_type": "code",
      "metadata": {
        "colab": {
          "base_uri": "https://localhost:8080/"
        },
        "id": "5p99m2ORzj7v",
        "outputId": "5f9f0171-26c0-4e31-8746-ed13fe1ea9e9"
      },
      "source": [
        "linear_feature_columns = fixlen_feature_columns\r\n",
        "dnn_feature_columns = fixlen_feature_columns\r\n",
        "\r\n",
        "feature_names = get_feature_names(linear_feature_columns + dnn_feature_columns)\r\n",
        "feature_names"
      ],
      "execution_count": 83,
      "outputs": [
        {
          "output_type": "execute_result",
          "data": {
            "text/plain": [
              "['user_id', 'movie_id', 'gender', 'age', 'occupation', 'zip']"
            ]
          },
          "metadata": {
            "tags": []
          },
          "execution_count": 83
        }
      ]
    },
    {
      "cell_type": "code",
      "metadata": {
        "colab": {
          "base_uri": "https://localhost:8080/"
        },
        "id": "a_Feh_28y6Sf",
        "outputId": "91113abf-f8cc-44c3-823e-3da8b7c6db39"
      },
      "source": [
        "# 将数据集切分成训练集和测试集\r\n",
        "train, test = train_test_split(data, test_size=0.2, random_state=12)\r\n",
        "train_model_input = {name:train[name].values for name in feature_names}\r\n",
        "test_model_input = {name:test[name].values for name in feature_names}\r\n",
        "\r\n",
        "# 使用Wide&Deep进行训练\r\n",
        "model = WDL(linear_feature_columns, dnn_feature_columns, task='regression', dnn_hidden_units=(32, 64, 32))\r\n",
        "model.compile(\"adam\", \"mse\", metrics=['mse'], )\r\n",
        "history = model.fit(train_model_input, train[target].values, batch_size=256, epochs=1, verbose=True, validation_split=0.2, )\r\n",
        "# 使用Wide&Deep进行预测\r\n",
        "pred_ans = model.predict(test_model_input, batch_size=256)\r\n",
        "# 输出RMSE或MSE\r\n",
        "mse = round(mean_squared_error(test[target].values, pred_ans), 4)\r\n",
        "rmse = mse ** 0.5\r\n",
        "print(\"test RMSE\", rmse)"
      ],
      "execution_count": 84,
      "outputs": [
        {
          "output_type": "stream",
          "text": [
            "250/250 [==============================] - 2s 4ms/step - loss: 5.7194 - mse: 5.7194 - val_loss: 0.9058 - val_mse: 0.9057\n",
            "test RMSE 0.9603124491539199\n"
          ],
          "name": "stdout"
        }
      ]
    },
    {
      "cell_type": "markdown",
      "metadata": {
        "id": "P52pDCuknYP7"
      },
      "source": [
        "#### 2. 使用genres字段"
      ]
    },
    {
      "cell_type": "code",
      "metadata": {
        "colab": {
          "base_uri": "https://localhost:8080/"
        },
        "id": "G4o6FPQJjaWU",
        "outputId": "adbdf559-bf49-4930-c3e2-a75870304274"
      },
      "source": [
        "genres_set = set()\r\n",
        "for ls_g in data['genres'].str.split('|'):\r\n",
        "  genres_set = genres_set.union(ls_g)\r\n",
        "key2index = {genre: idx for idx, genre in enumerate(sorted(list(genres_set)))}\r\n",
        "key2index"
      ],
      "execution_count": 64,
      "outputs": [
        {
          "output_type": "execute_result",
          "data": {
            "text/plain": [
              "{'Action': 0,\n",
              " 'Adventure': 1,\n",
              " 'Animation': 2,\n",
              " \"Children's\": 3,\n",
              " 'Comedy': 4,\n",
              " 'Crime': 5,\n",
              " 'Documentary': 6,\n",
              " 'Drama': 7,\n",
              " 'Fantasy': 8,\n",
              " 'Film-Noir': 9,\n",
              " 'Horror': 10,\n",
              " 'Musical': 11,\n",
              " 'Mystery': 12,\n",
              " 'Romance': 13,\n",
              " 'Sci-Fi': 14,\n",
              " 'Thriller': 15,\n",
              " 'War': 16,\n",
              " 'Western': 17,\n",
              " 'unknown': 18}"
            ]
          },
          "metadata": {
            "tags": []
          },
          "execution_count": 64
        }
      ]
    },
    {
      "cell_type": "code",
      "metadata": {
        "colab": {
          "base_uri": "https://localhost:8080/",
          "height": 176
        },
        "id": "TfNKM1llm4St",
        "outputId": "acb4cf89-a68d-428b-b199-42326f48d2bc"
      },
      "source": [
        "genres_list = [list(map(lambda k: key2index[k], ls_g)) for ls_g in data['genres'].str.split('|')]\r\n",
        "display(data.iloc[:3])\r\n",
        "print(\"genres对应编码示例：\\n\", genres_list[:3])"
      ],
      "execution_count": 65,
      "outputs": [
        {
          "output_type": "display_data",
          "data": {
            "text/html": [
              "<div>\n",
              "<style scoped>\n",
              "    .dataframe tbody tr th:only-of-type {\n",
              "        vertical-align: middle;\n",
              "    }\n",
              "\n",
              "    .dataframe tbody tr th {\n",
              "        vertical-align: top;\n",
              "    }\n",
              "\n",
              "    .dataframe thead th {\n",
              "        text-align: right;\n",
              "    }\n",
              "</style>\n",
              "<table border=\"1\" class=\"dataframe\">\n",
              "  <thead>\n",
              "    <tr style=\"text-align: right;\">\n",
              "      <th></th>\n",
              "      <th>user_id</th>\n",
              "      <th>movie_id</th>\n",
              "      <th>rating</th>\n",
              "      <th>timestamp</th>\n",
              "      <th>title</th>\n",
              "      <th>genres</th>\n",
              "      <th>gender</th>\n",
              "      <th>age</th>\n",
              "      <th>occupation</th>\n",
              "      <th>zip</th>\n",
              "    </tr>\n",
              "  </thead>\n",
              "  <tbody>\n",
              "    <tr>\n",
              "      <th>0</th>\n",
              "      <td>195</td>\n",
              "      <td>241</td>\n",
              "      <td>3</td>\n",
              "      <td>881250949</td>\n",
              "      <td>Kolya (1996)</td>\n",
              "      <td>Comedy</td>\n",
              "      <td>1</td>\n",
              "      <td>39</td>\n",
              "      <td>20</td>\n",
              "      <td>415</td>\n",
              "    </tr>\n",
              "    <tr>\n",
              "      <th>1</th>\n",
              "      <td>195</td>\n",
              "      <td>256</td>\n",
              "      <td>2</td>\n",
              "      <td>881251577</td>\n",
              "      <td>Men in Black (1997)</td>\n",
              "      <td>Action|Adventure|Comedy|Sci-Fi</td>\n",
              "      <td>1</td>\n",
              "      <td>39</td>\n",
              "      <td>20</td>\n",
              "      <td>415</td>\n",
              "    </tr>\n",
              "    <tr>\n",
              "      <th>2</th>\n",
              "      <td>195</td>\n",
              "      <td>110</td>\n",
              "      <td>4</td>\n",
              "      <td>881251793</td>\n",
              "      <td>Truth About Cats &amp; Dogs, The (1996)</td>\n",
              "      <td>Comedy|Romance</td>\n",
              "      <td>1</td>\n",
              "      <td>39</td>\n",
              "      <td>20</td>\n",
              "      <td>415</td>\n",
              "    </tr>\n",
              "  </tbody>\n",
              "</table>\n",
              "</div>"
            ],
            "text/plain": [
              "   user_id  movie_id  rating  timestamp  ... gender age  occupation  zip\n",
              "0      195       241       3  881250949  ...      1  39          20  415\n",
              "1      195       256       2  881251577  ...      1  39          20  415\n",
              "2      195       110       4  881251793  ...      1  39          20  415\n",
              "\n",
              "[3 rows x 10 columns]"
            ]
          },
          "metadata": {
            "tags": []
          }
        },
        {
          "output_type": "stream",
          "text": [
            "genres对应编码示例：\n",
            " [[4], [0, 1, 4, 14], [4, 13]]\n"
          ],
          "name": "stdout"
        }
      ]
    },
    {
      "cell_type": "code",
      "metadata": {
        "id": "vGuACAHsiUbw"
      },
      "source": [
        "genres_length = np.array(list(map(len, genres_list)))\r\n",
        "max_len = max(genres_length)\r\n",
        "# Notice : padding=`post`\r\n",
        "genres_list = pad_sequences(genres_list, maxlen=max_len, padding='post', )\r\n",
        "\r\n",
        "varlen_feature_columns = [VarLenSparseFeat(SparseFeat('genres',vocabulary_size= len(\r\n",
        "    key2index) + 1,embedding_dim=4), maxlen=max_len, combiner='mean',weight_name=None)]\r\n"
      ],
      "execution_count": 72,
      "outputs": []
    },
    {
      "cell_type": "code",
      "metadata": {
        "colab": {
          "base_uri": "https://localhost:8080/"
        },
        "id": "JnNY5O_xiUP8",
        "outputId": "879c3cb9-a602-45ca-8a49-56755f59ce60"
      },
      "source": [
        "linear_feature_columns = fixlen_feature_columns + varlen_feature_columns\r\n",
        "dnn_feature_columns = fixlen_feature_columns + varlen_feature_columns\r\n",
        "\r\n",
        "feature_names = get_feature_names(linear_feature_columns + dnn_feature_columns)\r\n",
        "feature_names"
      ],
      "execution_count": 85,
      "outputs": [
        {
          "output_type": "execute_result",
          "data": {
            "text/plain": [
              "['user_id', 'movie_id', 'gender', 'age', 'occupation', 'zip', 'genres']"
            ]
          },
          "metadata": {
            "tags": []
          },
          "execution_count": 85
        }
      ]
    },
    {
      "cell_type": "markdown",
      "metadata": {
        "id": "AyZ9ia5aQNlW"
      },
      "source": [
        "### 切分数据集与模型训练"
      ]
    },
    {
      "cell_type": "code",
      "metadata": {
        "colab": {
          "base_uri": "https://localhost:8080/"
        },
        "id": "mL51iGuuNLkJ",
        "outputId": "7810b04d-998b-479d-ec82-15086a1d4b24"
      },
      "source": [
        "# 将数据集切分成训练集和测试集\r\n",
        "data[\"genres\"] = genres_list\r\n",
        "train, test = train_test_split(data, test_size=0.2, random_state=12)\r\n",
        "train_model_input = {name:train[name].values for name in feature_names}\r\n",
        "test_model_input = {name:test[name].values for name in feature_names}\r\n",
        "\r\n",
        "# 使用Wide&Deep进行训练\r\n",
        "model = WDL(linear_feature_columns, dnn_feature_columns, task='regression', dnn_hidden_units=(32, 64, 32))\r\n",
        "model.compile(\"adam\", \"mse\", metrics=['mse'], )\r\n",
        "history = model.fit(train_model_input, train[target].values, batch_size=256, epochs=1, verbose=True, validation_split=0.2, )\r\n",
        "# 使用Wide&Deep进行预测\r\n",
        "pred_ans = model.predict(test_model_input, batch_size=256)\r\n",
        "# 输出RMSE或MSE\r\n",
        "mse = round(mean_squared_error(test[target].values, pred_ans), 4)\r\n",
        "rmse = mse ** 0.5\r\n",
        "print(\"test RMSE\", rmse)"
      ],
      "execution_count": 86,
      "outputs": [
        {
          "output_type": "stream",
          "text": [
            "WARNING:tensorflow:Model was constructed with shape (None, 6) for input KerasTensor(type_spec=TensorSpec(shape=(None, 6), dtype=tf.int32, name='genres'), name='genres', description=\"created by layer 'genres'\"), but it was called on an input with incompatible shape (256, 1).\n",
            "WARNING:tensorflow:Model was constructed with shape (None, 6) for input KerasTensor(type_spec=TensorSpec(shape=(None, 6), dtype=tf.int32, name='genres'), name='genres', description=\"created by layer 'genres'\"), but it was called on an input with incompatible shape (256, 1).\n",
            "241/250 [===========================>..] - ETA: 0s - loss: 5.8842 - mse: 5.8841WARNING:tensorflow:Model was constructed with shape (None, 6) for input KerasTensor(type_spec=TensorSpec(shape=(None, 6), dtype=tf.int32, name='genres'), name='genres', description=\"created by layer 'genres'\"), but it was called on an input with incompatible shape (None, 1).\n",
            "250/250 [==============================] - 3s 5ms/step - loss: 5.7544 - mse: 5.7544 - val_loss: 0.9023 - val_mse: 0.9021\n",
            "WARNING:tensorflow:Model was constructed with shape (None, 6) for input KerasTensor(type_spec=TensorSpec(shape=(None, 6), dtype=tf.int32, name='genres'), name='genres', description=\"created by layer 'genres'\"), but it was called on an input with incompatible shape (None, 1).\n",
            "test RMSE 0.9554580053565934\n"
          ],
          "name": "stdout"
        }
      ]
    },
    {
      "cell_type": "markdown",
      "metadata": {
        "id": "Xy0g8UNWSAgT"
      },
      "source": [
        "### 总结\r\n",
        "使用了genres字段后，测试集RMSE从不使用的0.9603减少为0.9555，减少了0.50%。可能还需要进一步调整模型参数来提高预测效果。"
      ]
    }
  ]
}